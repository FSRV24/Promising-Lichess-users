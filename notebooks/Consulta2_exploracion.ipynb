{
 "cells": [
  {
   "cell_type": "code",
   "execution_count": 1,
   "metadata": {},
   "outputs": [],
   "source": [
    "%run ../../modulos.ipynb"
   ]
  },
  {
   "cell_type": "code",
   "execution_count": 47,
   "metadata": {},
   "outputs": [],
   "source": [
    "def request_lichess(url):    \n",
    "    headers = {\"Authorization\": f\"Bearer {personal_access_token}\"}    \n",
    "    response = requests.get(url, headers=headers)    \n",
    "    return response\n",
    "\n",
    "def obtener_estadisticas(usuario, perf=\"blitz\"):\n",
    "    data = requests.get(f'https://lichess.org/api/user/{usuario}/perf/{perf}')\n",
    "    return data.json()     "
   ]
  },
  {
   "cell_type": "markdown",
   "metadata": {},
   "source": [
    "## Conexión a Mongo\n",
    "\n",
    "~~~\n",
    "docker run --name contenedor-mongo -p 27017:27017 mongo\n",
    "~~~"
   ]
  },
  {
   "cell_type": "code",
   "execution_count": 2,
   "metadata": {},
   "outputs": [],
   "source": [
    "client=pymongo.MongoClient('mongodb://localhost:27017/')\n",
    "db_Lichess=client['Lichess'] # database\n",
    "equipos_collection=db_Lichess['equipos'] # colección\n",
    "usuarios_col=db_Lichess['usuarios'] # colección"
   ]
  },
  {
   "cell_type": "markdown",
   "metadata": {},
   "source": [
    "# Conexión a Neo4j\n",
    "\n",
    "`docker run --name \"Lichess_neo\" -p 7474:7474 -p 7687:7687 neo4j `"
   ]
  },
  {
   "cell_type": "code",
   "execution_count": 3,
   "metadata": {},
   "outputs": [],
   "source": [
    "from neo4j import GraphDatabase\n",
    "\n",
    "data_base_connection = GraphDatabase.driver(uri=\"bolt://localhost:7687\", auth=(\"neo4j\", \"1234\"))\n",
    "session = data_base_connection.session() "
   ]
  },
  {
   "cell_type": "markdown",
   "metadata": {},
   "source": [
    "## Obtencion equipos liches API"
   ]
  },
  {
   "cell_type": "code",
   "execution_count": 24,
   "metadata": {},
   "outputs": [],
   "source": [
    "grupos_unam_url = 'https://lichess.org/api/team/search?text=UNAM'\n",
    "data = request_lichess(grupos_unam_url).json()\n",
    "\n",
    "n_equipos = data['maxPerPage']\n",
    "equipos = data['currentPageResults']\n",
    "# Inserción de equipos en la base de datos\n",
    "for i in range(n_equipos):\n",
    "    equipos_collection.insert_one(equipos[i]).inserted_id"
   ]
  },
  {
   "cell_type": "markdown",
   "metadata": {},
   "source": [
    "## Obtención de usuarios Lichess API\n",
    "\n",
    "Obtendremos 10 jugadores por cada equipo a traves de la API."
   ]
  },
  {
   "cell_type": "code",
   "execution_count": 66,
   "metadata": {},
   "outputs": [
    {
     "data": {
      "application/vnd.jupyter.widget-view+json": {
       "model_id": "a9121acb142943af8285f6ebbb20ad17",
       "version_major": 2,
       "version_minor": 0
      },
      "text/plain": [
       "  0%|          | 0/10 [00:00<?, ?it/s]"
      ]
     },
     "metadata": {},
     "output_type": "display_data"
    },
    {
     "data": {
      "application/vnd.jupyter.widget-view+json": {
       "model_id": "96b614fb132f4af69d08f52e6af80b0d",
       "version_major": 2,
       "version_minor": 0
      },
      "text/plain": [
       "  0%|          | 0/10 [00:00<?, ?it/s]"
      ]
     },
     "metadata": {},
     "output_type": "display_data"
    },
    {
     "data": {
      "application/vnd.jupyter.widget-view+json": {
       "model_id": "6cbaaf97f8f14f428c332fef4353e2a9",
       "version_major": 2,
       "version_minor": 0
      },
      "text/plain": [
       "  0%|          | 0/10 [00:00<?, ?it/s]"
      ]
     },
     "metadata": {},
     "output_type": "display_data"
    },
    {
     "data": {
      "application/vnd.jupyter.widget-view+json": {
       "model_id": "ba084e26c7654a1ba28a644955e77d4a",
       "version_major": 2,
       "version_minor": 0
      },
      "text/plain": [
       "  0%|          | 0/10 [00:00<?, ?it/s]"
      ]
     },
     "metadata": {},
     "output_type": "display_data"
    },
    {
     "data": {
      "application/vnd.jupyter.widget-view+json": {
       "model_id": "a8eb80a82e6944e0b5d4145694b4ad62",
       "version_major": 2,
       "version_minor": 0
      },
      "text/plain": [
       "  0%|          | 0/10 [00:00<?, ?it/s]"
      ]
     },
     "metadata": {},
     "output_type": "display_data"
    },
    {
     "data": {
      "application/vnd.jupyter.widget-view+json": {
       "model_id": "92fa189a1cc0420a9b592560e0d25a5b",
       "version_major": 2,
       "version_minor": 0
      },
      "text/plain": [
       "  0%|          | 0/10 [00:00<?, ?it/s]"
      ]
     },
     "metadata": {},
     "output_type": "display_data"
    },
    {
     "data": {
      "application/vnd.jupyter.widget-view+json": {
       "model_id": "d614762cd72a4d1089a927cc60307b29",
       "version_major": 2,
       "version_minor": 0
      },
      "text/plain": [
       "  0%|          | 0/10 [00:00<?, ?it/s]"
      ]
     },
     "metadata": {},
     "output_type": "display_data"
    },
    {
     "data": {
      "application/vnd.jupyter.widget-view+json": {
       "model_id": "5ed48a3deb514a30b7338a6439ff2524",
       "version_major": 2,
       "version_minor": 0
      },
      "text/plain": [
       "  0%|          | 0/10 [00:00<?, ?it/s]"
      ]
     },
     "metadata": {},
     "output_type": "display_data"
    },
    {
     "data": {
      "application/vnd.jupyter.widget-view+json": {
       "model_id": "ca4a091a0ff74c879d0529020198b311",
       "version_major": 2,
       "version_minor": 0
      },
      "text/plain": [
       "  0%|          | 0/10 [00:00<?, ?it/s]"
      ]
     },
     "metadata": {},
     "output_type": "display_data"
    },
    {
     "data": {
      "application/vnd.jupyter.widget-view+json": {
       "model_id": "5d6a92d000d249d7a474204154300639",
       "version_major": 2,
       "version_minor": 0
      },
      "text/plain": [
       "  0%|          | 0/10 [00:00<?, ?it/s]"
      ]
     },
     "metadata": {},
     "output_type": "display_data"
    },
    {
     "data": {
      "application/vnd.jupyter.widget-view+json": {
       "model_id": "011f71f348724d6c9e878388e52c9d48",
       "version_major": 2,
       "version_minor": 0
      },
      "text/plain": [
       "  0%|          | 0/10 [00:00<?, ?it/s]"
      ]
     },
     "metadata": {},
     "output_type": "display_data"
    },
    {
     "data": {
      "application/vnd.jupyter.widget-view+json": {
       "model_id": "d08d899505274df2bd784ede66ee5f69",
       "version_major": 2,
       "version_minor": 0
      },
      "text/plain": [
       "  0%|          | 0/10 [00:00<?, ?it/s]"
      ]
     },
     "metadata": {},
     "output_type": "display_data"
    },
    {
     "data": {
      "application/vnd.jupyter.widget-view+json": {
       "model_id": "7c11c152a83a4c36b4cde5a883de7bc3",
       "version_major": 2,
       "version_minor": 0
      },
      "text/plain": [
       "  0%|          | 0/10 [00:00<?, ?it/s]"
      ]
     },
     "metadata": {},
     "output_type": "display_data"
    },
    {
     "data": {
      "application/vnd.jupyter.widget-view+json": {
       "model_id": "def1c5143ee14df2a5c4f37409bd4dcf",
       "version_major": 2,
       "version_minor": 0
      },
      "text/plain": [
       "  0%|          | 0/10 [00:00<?, ?it/s]"
      ]
     },
     "metadata": {},
     "output_type": "display_data"
    },
    {
     "data": {
      "application/vnd.jupyter.widget-view+json": {
       "model_id": "1fd2cedb50e347c2bdf778de82d48154",
       "version_major": 2,
       "version_minor": 0
      },
      "text/plain": [
       "  0%|          | 0/10 [00:00<?, ?it/s]"
      ]
     },
     "metadata": {},
     "output_type": "display_data"
    }
   ],
   "source": [
    "from tqdm.notebook import tqdm_notebook\n",
    "\n",
    "for equipo in equipos:\n",
    "    usuario_raw = requests.get(f'https://lichess.org/api/team/{equipo[\"id\"]}/users')\n",
    "    usuario_raw = usuario_raw.text.split('\\n')[:-1]\n",
    "    # Tomamos maximos 10 usuarios\n",
    "    usuarios = list(map(json.loads, usuario_raw))\n",
    "    # Guardarlo en mongo    \n",
    "    for usuario in tqdm_notebook(usuarios[:10]):\n",
    "        id_usuario = usuario['id']\n",
    "        instruccion = f'''\n",
    "      MERGE (u:Usuario {{id:\"{id_usuario}\"}})\n",
    "      '''\n",
    "        usuarios_col.insert_one({id_usuario: usuario})\n",
    "        try:\n",
    "            est_usuario = obtener_estadisticas(id_usuario)\n",
    "        except:\n",
    "            break\n",
    "        usuarios_col.update_one({id_usuario: {'$exists': 'true'}}, {\n",
    "                                '$set': est_usuario})\n",
    "\n",
    "        # oponentes\n",
    "        oponentes_fuertes = est_usuario['stat']['bestWins']['results'][:]\n",
    "        ids_oponentes = [oponente['opId']['id']\n",
    "                         for oponente in oponentes_fuertes]\n",
    "\n",
    "        j = 0\n",
    "        i = 0\n",
    "        while i < len(oponentes_fuertes) and j < 3:\n",
    "            # for id_op in ids_oponentes:\n",
    "\n",
    "            id_op = ids_oponentes[i]\n",
    "\n",
    "            i = i+1\n",
    "            try:\n",
    "                est_usuario1 = obtener_estadisticas(id_op)\n",
    "            except:\n",
    "                continue\n",
    "            j = j+1\n",
    "            usuarios_col.insert_one({id_op: ''})\n",
    "            usuarios_col.update_one({id_op: {'$exists': 'true'}}, {\n",
    "                                    '$set': est_usuario1})\n",
    "            instruccion += f'''\n",
    "        MERGE (u{i}:Usuario {{id:\"{id_op}\"}})\n",
    "        MERGE (u)-[:gano_a]->(u{i})\n",
    "        '''\n",
    "            # op de oponente\n",
    "            oponentes_fuertes1 = est_usuario1['stat']['bestWins']['results'][:3]\n",
    "            ids_oponentes1 = [oponente['opId']['id']\n",
    "                              for oponente in oponentes_fuertes1]\n",
    "            for k, id_ops_de_ops in enumerate(ids_oponentes1):\n",
    "                try:\n",
    "                    est_usuario2 = obtener_estadisticas(id_ops_de_ops)\n",
    "                except:\n",
    "                    continue\n",
    "                usuarios_col.insert_one({id_ops_de_ops: ''})\n",
    "                usuarios_col.update_one({id_ops_de_ops: {'$exists': 'true'}}, {\n",
    "                                        '$set': est_usuario2})\n",
    "                instruccion += f'''\n",
    "        MERGE (u{i}{k}:Usuario {{id:\"{id_ops_de_ops}\"}})\n",
    "        MERGE (u{i})-[:gano_a]->(u{i}{k})\n",
    "        '''\n",
    "\n",
    "        session.run(instruccion)\n",
    "\n",
    "        # Union con los equipos\n",
    "        id_usuario = usuario['id']\n",
    "        instruccion = f'''\n",
    "      MERGE (u:Usuario {{id:\"{id_usuario}\"}})\n",
    "      MERGE (e:Equipo {{nombre:\"{equipo['name']}\"}})\n",
    "      MERGE (u)-[:pertenece]->(e)\n",
    "      '''\n",
    "        session.run(instruccion)\n"
   ]
  },
  {
   "cell_type": "markdown",
   "metadata": {},
   "source": [
    "## Consultas \n",
    "\n",
    "### Análisis de los mejores jugadores de Blitz por cada equipo\n",
    "\n",
    "Para esta consulta, haremos un muestro a través de la API con 10 jugadores por cada equipo, esto para no saturar la peticiones que nos ofrece API REST y no saaturar el tiempo de carga en la inserción y creación de lo nodos. Para este enfoque utilizaremos MongoDB para guardar cada JSON devuelto de los jugadores y equipos en diferentes colección para posteriormente extraer la información a través de una consulta.\n"
   ]
  },
  {
   "cell_type": "code",
   "execution_count": 95,
   "metadata": {},
   "outputs": [],
   "source": [
    "equipo_top5 = {}\n",
    "\n",
    "# Obtención de los equipos\n",
    "query = f'''\n",
    "MATCH (equipo:Equipo)\n",
    "RETURN (equipo)\n",
    "'''.replace('\\n', '')\n",
    "nodos_equipos = session.run(query).data()\n",
    "\n",
    "# Obtencion de los usuarios de cada equipo\n",
    "for equipo in nodos_equipos:\n",
    "    nombre_equipo = equipo['equipo']['nombre']\n",
    "    query=f'''\n",
    "    MATCH (e:Equipo {{nombre: \"{nombre_equipo}\"}})\n",
    "    MATCH (u:Usuario)-[pe:pertenece]-(e)\n",
    "    RETURN u, e\n",
    "    '''\n",
    "    nodos_miembros = session.run(query).data()\n",
    "\n",
    "    # Obteniendo el top 5 por equipo\n",
    "    ratings_miembro = []\n",
    "    for miembro in nodos_miembros:\n",
    "        usuario_id = miembro['u']['id']\n",
    "        usuario = usuarios_col.find_one({f'{usuario_id}.id': f'{usuario_id}'})\n",
    "        rating_blitz = usuario[usuario_id]['perfs']['blitz']['rating']\n",
    "        username = usuario[usuario_id]['username']\n",
    "        ratings_miembro.append((username, rating_blitz))\n",
    "    top5_blitz = sorted(ratings_miembro, key=lambda x: x[1], reverse=True)[:5]\n",
    "\n",
    "    equipo_top5[nombre_equipo] = top5_blitz"
   ]
  },
  {
   "cell_type": "code",
   "execution_count": 439,
   "metadata": {},
   "outputs": [
    {
     "data": {
      "text/html": [
       "<div>                            <div id=\"dabb3632-928d-4b18-830b-7fe26ab88465\" class=\"plotly-graph-div\" style=\"height:525px; width:100%;\"></div>            <script type=\"text/javascript\">                require([\"plotly\"], function(Plotly) {                    window.PLOTLYENV=window.PLOTLYENV || {};                                    if (document.getElementById(\"dabb3632-928d-4b18-830b-7fe26ab88465\")) {                    Plotly.newPlot(                        \"dabb3632-928d-4b18-830b-7fe26ab88465\",                        [{\"alignmentgroup\":\"True\",\"hovertemplate\":\"nombre_equipo=%{x}<br>rating=%{y}<br>usuario=%{text}<extra></extra>\",\"legendgroup\":\"\",\"marker\":{\"color\":\"#636efa\",\"pattern\":{\"shape\":\"\"}},\"name\":\"\",\"offsetgroup\":\"\",\"orientation\":\"v\",\"showlegend\":false,\"text\":[\"lerb64\",\"Lance5500-YouTube\",\"xXPIAGETGODXx\",\"Cuappatolli\",\"Misterhi4\",\"AldoNieto\",\"caramen\",\"IgnacioPintos\",\"veiqrc\",\"Cisvidec\",\"tennbeis\",\"Altuzarra2002\",\"Oscar3_LoboMX\",\"jaguaryou\"],\"textposition\":\"outside\",\"x\":[\"Ciencias UNAM\",\"WNM orlovachess Fans Club\",\"Team FES Cuautitlán\",\"Universidad Nacional Autónoma de México (UNAM)\",\"FES Cuautitlán c4\",\"Ingeniería UNAM\",\"FES UNAM\",\"AjedrezArte\",\"Prepochess\",\"UNAM\",\"Club Prometeo\",\"Facultad de Química UNAM\",\"ENCUENTRO UNIVERSITARIO DE EDUCACIÓN MEDIA SUPERIOR DGIRE\",\"SI UNAM  Ajedrez en línea\"],\"xaxis\":\"x\",\"y\":[2482,2472,2356,2347,2276,2200,2124,2094,1937,1882,1832,1785,1697,1423],\"yaxis\":\"y\",\"type\":\"bar\",\"textfont\":{\"size\":12},\"cliponaxis\":false,\"textangle\":0}],                        {\"template\":{\"data\":{\"barpolar\":[{\"marker\":{\"line\":{\"color\":\"rgb(17,17,17)\",\"width\":0.5},\"pattern\":{\"fillmode\":\"overlay\",\"size\":10,\"solidity\":0.2}},\"type\":\"barpolar\"}],\"bar\":[{\"error_x\":{\"color\":\"#f2f5fa\"},\"error_y\":{\"color\":\"#f2f5fa\"},\"marker\":{\"line\":{\"color\":\"rgb(17,17,17)\",\"width\":0.5},\"pattern\":{\"fillmode\":\"overlay\",\"size\":10,\"solidity\":0.2}},\"type\":\"bar\"}],\"carpet\":[{\"aaxis\":{\"endlinecolor\":\"#A2B1C6\",\"gridcolor\":\"#506784\",\"linecolor\":\"#506784\",\"minorgridcolor\":\"#506784\",\"startlinecolor\":\"#A2B1C6\"},\"baxis\":{\"endlinecolor\":\"#A2B1C6\",\"gridcolor\":\"#506784\",\"linecolor\":\"#506784\",\"minorgridcolor\":\"#506784\",\"startlinecolor\":\"#A2B1C6\"},\"type\":\"carpet\"}],\"choropleth\":[{\"colorbar\":{\"outlinewidth\":0,\"ticks\":\"\"},\"type\":\"choropleth\"}],\"contourcarpet\":[{\"colorbar\":{\"outlinewidth\":0,\"ticks\":\"\"},\"type\":\"contourcarpet\"}],\"contour\":[{\"colorbar\":{\"outlinewidth\":0,\"ticks\":\"\"},\"colorscale\":[[0.0,\"#0d0887\"],[0.1111111111111111,\"#46039f\"],[0.2222222222222222,\"#7201a8\"],[0.3333333333333333,\"#9c179e\"],[0.4444444444444444,\"#bd3786\"],[0.5555555555555556,\"#d8576b\"],[0.6666666666666666,\"#ed7953\"],[0.7777777777777778,\"#fb9f3a\"],[0.8888888888888888,\"#fdca26\"],[1.0,\"#f0f921\"]],\"type\":\"contour\"}],\"heatmapgl\":[{\"colorbar\":{\"outlinewidth\":0,\"ticks\":\"\"},\"colorscale\":[[0.0,\"#0d0887\"],[0.1111111111111111,\"#46039f\"],[0.2222222222222222,\"#7201a8\"],[0.3333333333333333,\"#9c179e\"],[0.4444444444444444,\"#bd3786\"],[0.5555555555555556,\"#d8576b\"],[0.6666666666666666,\"#ed7953\"],[0.7777777777777778,\"#fb9f3a\"],[0.8888888888888888,\"#fdca26\"],[1.0,\"#f0f921\"]],\"type\":\"heatmapgl\"}],\"heatmap\":[{\"colorbar\":{\"outlinewidth\":0,\"ticks\":\"\"},\"colorscale\":[[0.0,\"#0d0887\"],[0.1111111111111111,\"#46039f\"],[0.2222222222222222,\"#7201a8\"],[0.3333333333333333,\"#9c179e\"],[0.4444444444444444,\"#bd3786\"],[0.5555555555555556,\"#d8576b\"],[0.6666666666666666,\"#ed7953\"],[0.7777777777777778,\"#fb9f3a\"],[0.8888888888888888,\"#fdca26\"],[1.0,\"#f0f921\"]],\"type\":\"heatmap\"}],\"histogram2dcontour\":[{\"colorbar\":{\"outlinewidth\":0,\"ticks\":\"\"},\"colorscale\":[[0.0,\"#0d0887\"],[0.1111111111111111,\"#46039f\"],[0.2222222222222222,\"#7201a8\"],[0.3333333333333333,\"#9c179e\"],[0.4444444444444444,\"#bd3786\"],[0.5555555555555556,\"#d8576b\"],[0.6666666666666666,\"#ed7953\"],[0.7777777777777778,\"#fb9f3a\"],[0.8888888888888888,\"#fdca26\"],[1.0,\"#f0f921\"]],\"type\":\"histogram2dcontour\"}],\"histogram2d\":[{\"colorbar\":{\"outlinewidth\":0,\"ticks\":\"\"},\"colorscale\":[[0.0,\"#0d0887\"],[0.1111111111111111,\"#46039f\"],[0.2222222222222222,\"#7201a8\"],[0.3333333333333333,\"#9c179e\"],[0.4444444444444444,\"#bd3786\"],[0.5555555555555556,\"#d8576b\"],[0.6666666666666666,\"#ed7953\"],[0.7777777777777778,\"#fb9f3a\"],[0.8888888888888888,\"#fdca26\"],[1.0,\"#f0f921\"]],\"type\":\"histogram2d\"}],\"histogram\":[{\"marker\":{\"pattern\":{\"fillmode\":\"overlay\",\"size\":10,\"solidity\":0.2}},\"type\":\"histogram\"}],\"mesh3d\":[{\"colorbar\":{\"outlinewidth\":0,\"ticks\":\"\"},\"type\":\"mesh3d\"}],\"parcoords\":[{\"line\":{\"colorbar\":{\"outlinewidth\":0,\"ticks\":\"\"}},\"type\":\"parcoords\"}],\"pie\":[{\"automargin\":true,\"type\":\"pie\"}],\"scatter3d\":[{\"line\":{\"colorbar\":{\"outlinewidth\":0,\"ticks\":\"\"}},\"marker\":{\"colorbar\":{\"outlinewidth\":0,\"ticks\":\"\"}},\"type\":\"scatter3d\"}],\"scattercarpet\":[{\"marker\":{\"colorbar\":{\"outlinewidth\":0,\"ticks\":\"\"}},\"type\":\"scattercarpet\"}],\"scattergeo\":[{\"marker\":{\"colorbar\":{\"outlinewidth\":0,\"ticks\":\"\"}},\"type\":\"scattergeo\"}],\"scattergl\":[{\"marker\":{\"line\":{\"color\":\"#283442\"}},\"type\":\"scattergl\"}],\"scattermapbox\":[{\"marker\":{\"colorbar\":{\"outlinewidth\":0,\"ticks\":\"\"}},\"type\":\"scattermapbox\"}],\"scatterpolargl\":[{\"marker\":{\"colorbar\":{\"outlinewidth\":0,\"ticks\":\"\"}},\"type\":\"scatterpolargl\"}],\"scatterpolar\":[{\"marker\":{\"colorbar\":{\"outlinewidth\":0,\"ticks\":\"\"}},\"type\":\"scatterpolar\"}],\"scatter\":[{\"marker\":{\"line\":{\"color\":\"#283442\"}},\"type\":\"scatter\"}],\"scatterternary\":[{\"marker\":{\"colorbar\":{\"outlinewidth\":0,\"ticks\":\"\"}},\"type\":\"scatterternary\"}],\"surface\":[{\"colorbar\":{\"outlinewidth\":0,\"ticks\":\"\"},\"colorscale\":[[0.0,\"#0d0887\"],[0.1111111111111111,\"#46039f\"],[0.2222222222222222,\"#7201a8\"],[0.3333333333333333,\"#9c179e\"],[0.4444444444444444,\"#bd3786\"],[0.5555555555555556,\"#d8576b\"],[0.6666666666666666,\"#ed7953\"],[0.7777777777777778,\"#fb9f3a\"],[0.8888888888888888,\"#fdca26\"],[1.0,\"#f0f921\"]],\"type\":\"surface\"}],\"table\":[{\"cells\":{\"fill\":{\"color\":\"#506784\"},\"line\":{\"color\":\"rgb(17,17,17)\"}},\"header\":{\"fill\":{\"color\":\"#2a3f5f\"},\"line\":{\"color\":\"rgb(17,17,17)\"}},\"type\":\"table\"}]},\"layout\":{\"annotationdefaults\":{\"arrowcolor\":\"#f2f5fa\",\"arrowhead\":0,\"arrowwidth\":1},\"autotypenumbers\":\"strict\",\"coloraxis\":{\"colorbar\":{\"outlinewidth\":0,\"ticks\":\"\"}},\"colorscale\":{\"diverging\":[[0,\"#8e0152\"],[0.1,\"#c51b7d\"],[0.2,\"#de77ae\"],[0.3,\"#f1b6da\"],[0.4,\"#fde0ef\"],[0.5,\"#f7f7f7\"],[0.6,\"#e6f5d0\"],[0.7,\"#b8e186\"],[0.8,\"#7fbc41\"],[0.9,\"#4d9221\"],[1,\"#276419\"]],\"sequential\":[[0.0,\"#0d0887\"],[0.1111111111111111,\"#46039f\"],[0.2222222222222222,\"#7201a8\"],[0.3333333333333333,\"#9c179e\"],[0.4444444444444444,\"#bd3786\"],[0.5555555555555556,\"#d8576b\"],[0.6666666666666666,\"#ed7953\"],[0.7777777777777778,\"#fb9f3a\"],[0.8888888888888888,\"#fdca26\"],[1.0,\"#f0f921\"]],\"sequentialminus\":[[0.0,\"#0d0887\"],[0.1111111111111111,\"#46039f\"],[0.2222222222222222,\"#7201a8\"],[0.3333333333333333,\"#9c179e\"],[0.4444444444444444,\"#bd3786\"],[0.5555555555555556,\"#d8576b\"],[0.6666666666666666,\"#ed7953\"],[0.7777777777777778,\"#fb9f3a\"],[0.8888888888888888,\"#fdca26\"],[1.0,\"#f0f921\"]]},\"colorway\":[\"#636efa\",\"#EF553B\",\"#00cc96\",\"#ab63fa\",\"#FFA15A\",\"#19d3f3\",\"#FF6692\",\"#B6E880\",\"#FF97FF\",\"#FECB52\"],\"font\":{\"color\":\"#f2f5fa\"},\"geo\":{\"bgcolor\":\"rgb(17,17,17)\",\"lakecolor\":\"rgb(17,17,17)\",\"landcolor\":\"rgb(17,17,17)\",\"showlakes\":true,\"showland\":true,\"subunitcolor\":\"#506784\"},\"hoverlabel\":{\"align\":\"left\"},\"hovermode\":\"closest\",\"mapbox\":{\"style\":\"dark\"},\"paper_bgcolor\":\"rgb(17,17,17)\",\"plot_bgcolor\":\"rgb(17,17,17)\",\"polar\":{\"angularaxis\":{\"gridcolor\":\"#506784\",\"linecolor\":\"#506784\",\"ticks\":\"\"},\"bgcolor\":\"rgb(17,17,17)\",\"radialaxis\":{\"gridcolor\":\"#506784\",\"linecolor\":\"#506784\",\"ticks\":\"\"}},\"scene\":{\"xaxis\":{\"backgroundcolor\":\"rgb(17,17,17)\",\"gridcolor\":\"#506784\",\"gridwidth\":2,\"linecolor\":\"#506784\",\"showbackground\":true,\"ticks\":\"\",\"zerolinecolor\":\"#C8D4E3\"},\"yaxis\":{\"backgroundcolor\":\"rgb(17,17,17)\",\"gridcolor\":\"#506784\",\"gridwidth\":2,\"linecolor\":\"#506784\",\"showbackground\":true,\"ticks\":\"\",\"zerolinecolor\":\"#C8D4E3\"},\"zaxis\":{\"backgroundcolor\":\"rgb(17,17,17)\",\"gridcolor\":\"#506784\",\"gridwidth\":2,\"linecolor\":\"#506784\",\"showbackground\":true,\"ticks\":\"\",\"zerolinecolor\":\"#C8D4E3\"}},\"shapedefaults\":{\"line\":{\"color\":\"#f2f5fa\"}},\"sliderdefaults\":{\"bgcolor\":\"#C8D4E3\",\"bordercolor\":\"rgb(17,17,17)\",\"borderwidth\":1,\"tickwidth\":0},\"ternary\":{\"aaxis\":{\"gridcolor\":\"#506784\",\"linecolor\":\"#506784\",\"ticks\":\"\"},\"baxis\":{\"gridcolor\":\"#506784\",\"linecolor\":\"#506784\",\"ticks\":\"\"},\"bgcolor\":\"rgb(17,17,17)\",\"caxis\":{\"gridcolor\":\"#506784\",\"linecolor\":\"#506784\",\"ticks\":\"\"}},\"title\":{\"x\":0.05},\"updatemenudefaults\":{\"bgcolor\":\"#506784\",\"borderwidth\":0},\"xaxis\":{\"automargin\":true,\"gridcolor\":\"#283442\",\"linecolor\":\"#506784\",\"ticks\":\"\",\"title\":{\"standoff\":15},\"zerolinecolor\":\"#283442\",\"zerolinewidth\":2},\"yaxis\":{\"automargin\":true,\"gridcolor\":\"#283442\",\"linecolor\":\"#506784\",\"ticks\":\"\",\"title\":{\"standoff\":15},\"zerolinecolor\":\"#283442\",\"zerolinewidth\":2}}},\"xaxis\":{\"anchor\":\"y\",\"domain\":[0.0,1.0],\"title\":{\"text\":\"nombre_equipo\"}},\"yaxis\":{\"anchor\":\"x\",\"domain\":[0.0,1.0],\"title\":{\"text\":\"rating\"}},\"legend\":{\"tracegroupgap\":0},\"title\":{\"text\":\"Distribución del mejor rating por cada equipo de la UNAM en blitz\"},\"barmode\":\"relative\"},                        {\"responsive\": true}                    ).then(function(){\n",
       "                            \n",
       "var gd = document.getElementById('dabb3632-928d-4b18-830b-7fe26ab88465');\n",
       "var x = new MutationObserver(function (mutations, observer) {{\n",
       "        var display = window.getComputedStyle(gd).display;\n",
       "        if (!display || display === 'none') {{\n",
       "            console.log([gd, 'removed!']);\n",
       "            Plotly.purge(gd);\n",
       "            observer.disconnect();\n",
       "        }}\n",
       "}});\n",
       "\n",
       "// Listen for the removal of the full notebook cells\n",
       "var notebookContainer = gd.closest('#notebook-container');\n",
       "if (notebookContainer) {{\n",
       "    x.observe(notebookContainer, {childList: true});\n",
       "}}\n",
       "\n",
       "// Listen for the clearing of the current output cell\n",
       "var outputEl = gd.closest('.output');\n",
       "if (outputEl) {{\n",
       "    x.observe(outputEl, {childList: true});\n",
       "}}\n",
       "\n",
       "                        })                };                });            </script>        </div>"
      ]
     },
     "metadata": {},
     "output_type": "display_data"
    }
   ],
   "source": [
    "### Distribución del mejor rating por cada equipo de la UNAM\n",
    "mejores_equipo = list(map(lambda x: (x,equipo_top5[x][0]), equipo_top5))\n",
    "mejores_equipo_df = pd.DataFrame(dict(\n",
    "    nombre_equipo=map(lambda x: x[0], mejores_equipo),\n",
    "    usuario=map(lambda x: x[1][0], mejores_equipo),\n",
    "    rating=map(lambda x: x[1][1], mejores_equipo),\n",
    "))\n",
    "\n",
    "title='Distribución del mejor rating por cada equipo de la UNAM en blitz'\n",
    "fig = px.bar(mejores_equipo_df.sort_values('rating', ascending=False), x='nombre_equipo', y='rating',#text_auto=True,\n",
    "             template='plotly_dark', title=title, text='usuario')\n",
    "fig.update_traces(textfont_size=12, textangle=0, textposition=\"outside\", cliponaxis=False)             \n",
    "fig.show()"
   ]
  },
  {
   "cell_type": "markdown",
   "metadata": {},
   "source": [
    "![adjfk](https://raw.githubusercontent.com/gandres-dev/Bases-datos-no-estructuradas/main/img/consulta1_memo.png)"
   ]
  },
  {
   "cell_type": "markdown",
   "metadata": {},
   "source": [
    "Podemos observar a partir de esta gráfica que cada equipo esta baleanciado con usuarios con un buen rating en partidas de blitz."
   ]
  },
  {
   "cell_type": "markdown",
   "metadata": {},
   "source": [
    "### Análisis de coincidencias de las mejores jugadas en blitz.\n",
    "\n",
    "Para este próximo análisis queremos conocer si existen coincidencias con judagadores que han vencidos con jugadores del mismo equipo. Es decir, determinar si jugadores del mismo equipo han vencido a mismo jugadores.  Con este análisis logramos determinar si los jugadores que vencen al mismo jugador tienen el mismo rating o que caracteristica deberia de tener.\n",
    "\n",
    "<!-- ![Ilustracion](https://raw.githubusercontent.com/gandres-dev/Bases-datos-no-estructuradas/main/img/ilustracionConsulta2.png) -->\n",
    "\n",
    "\n",
    "<img src=\"https://raw.githubusercontent.com/gandres-dev/Bases-datos-no-estructuradas/main/img/ilustracionConsulta2.png\" alt=\"ilustracion\" width=50%>\n",
    "\n",
    "\n",
    "Ver si los jugadores con los que coinciden, es decir, con los que ganaron, tienen el mismo raiting o son muy dispersos.\n",
    "\n",
    "Con esta gráfico podemos ver claramente un ejemplo de lo queremos lograr encontrar, buscar esos nodos en común dato un equipo. Para lograrlo generamos una query para encontrar los nodos que tienen el mismo equipo y regresar los nodos y aristas que coincida con la relación \"gano\\_a\" para despues a traves de python determinar las coincidencias. Como podemos en la salidos los jugadores \"alejandror0210\" y  \"alanrv\" le han ganado los dos al jugador 'maxmledesma' teniendo el mismo rating."
   ]
  },
  {
   "cell_type": "code",
   "execution_count": 191,
   "metadata": {},
   "outputs": [
    {
     "data": {
      "text/plain": [
       "[('alejandror0210', 'maxmledesma'), ('alanrv', 'maxmledesma')]"
      ]
     },
     "execution_count": 191,
     "metadata": {},
     "output_type": "execute_result"
    }
   ],
   "source": [
    "nombre_equipo = \"Club Prometeo\"\n",
    "\n",
    "query = f'''\n",
    "MATCH (e:Equipo {{nombre: \"{nombre_equipo}\"}})\n",
    "MATCH (u:Usuario)-[ga:gano_a]-(u2:Usuario)\n",
    "MATCH (e)-[pe:pertenece]-(u)\n",
    "RETURN u, ga, u2\n",
    "'''.replace('\\n', '')\n",
    "nodos_judadores = session.run(query).data()\n",
    "\n",
    "relaciones_ganoa = [nodo_jugador['ga'] for nodo_jugador in nodos_judadores]\n",
    "relaciones_ganoa = [(relacion[0]['id'] ,relacion[2]['id'])for relacion in relaciones_ganoa]\n",
    "usuarios2 = list(map(lambda x: x[1], relaciones_ganoa))\n",
    "oponentes_coincidentes = list(filter(lambda x: usuarios2.count(x[1]) > 1, relaciones_ganoa))\n",
    "oponentes_coincidentes"
   ]
  },
  {
   "cell_type": "code",
   "execution_count": 437,
   "metadata": {},
   "outputs": [
    {
     "name": "stdout",
     "output_type": "stream",
     "text": [
      "Nombre\t\t\tRanking\n",
      "alejandror0210-1500\n",
      "alanrv-1500\n"
     ]
    }
   ],
   "source": [
    "print(\"Nombre\\t\\t\\tRanking\")\n",
    "for usuario_id, u2 in oponentes_coincidentes:        \n",
    "    tmp = usuarios_col.find_one({f'{usuario_id}.id': f'{usuario_id}'})\n",
    "    raiting_usuario = tmp[usuario_id]['perfs']['correspondence']['rating']\n",
    "    print(f\"{usuario_id}-{raiting_usuario}\")"
   ]
  },
  {
   "cell_type": "markdown",
   "metadata": {},
   "source": [
    "### Análisis de  jugadores que han crecido a lo largo del tiempo en Blitz dado equipo.\n",
    "\n",
    "Se analizará el historial de puntos de cada uno de los jugadores de un equipo, para determinar aquellos que han ido subiendo mejorando a traves del tiempo mediante su puntuación.\n"
   ]
  },
  {
   "cell_type": "code",
   "execution_count": 433,
   "metadata": {},
   "outputs": [],
   "source": [
    "def jugadores_creciendo_blitz(username, visualizar=False):  \n",
    "    \"\"\"Encuentra jugadores que van creciendo en raiting por intervalo de tiempo\"\"\"  \n",
    "    response = requests.get(f'https://lichess.org/api/user/{username}/rating-history')    \n",
    "    # En el caso, donde el jugador no tenga ninguna partida por lo que implica\n",
    "    # que no tiene puntos .\n",
    "    try:\n",
    "        historial_blitz = response.json()[1]['points']\n",
    "    except:\n",
    "        return None\n",
    "    historial_blitz_array = np.array(historial_blitz)\n",
    "    tamanio_hist = historial_blitz_array.shape[0]\n",
    "    ventana = 5\n",
    "    # Solo si es mayor al tamaño de la ventana \n",
    "    if tamanio_hist < ventana:\n",
    "        return None\n",
    "\n",
    "    año=historial_blitz_array[:, 0]\n",
    "    mes=historial_blitz_array[:, 1]\n",
    "    dia=historial_blitz_array[:, 2]\n",
    "    fechas = []\n",
    "    for año, mes, dia in zip(año, mes, dia):    \n",
    "        fechas.append(f'{año}/{mes+1}/{dia}') \n",
    "\n",
    "    historial_blitz_df = pd.DataFrame(dict(\n",
    "        fechas=fechas,\n",
    "        puntos=historial_blitz_array[:, 3]\n",
    "    ))    \n",
    "\n",
    "    if visualizar:\n",
    "        fig = px.line(historial_blitz_df, x='fechas', y=\"puntos\",\n",
    "                    template='plotly_dark', title='Historial rating de un usuario')\n",
    "        fig.show()\n",
    "    \n",
    "    n = historial_blitz_df.shape[0]    \n",
    "    \n",
    "    p2 = historial_blitz_df[-ventana:]['puntos'].values\n",
    "    p1 = historial_blitz_df[n-(ventana+1):-1]['puntos'].values       \n",
    "    relacion_raiting = np.sum(p2-p1)\n",
    "    if relacion_raiting > 0:\n",
    "        return username\n",
    "    return None    "
   ]
  },
  {
   "cell_type": "code",
   "execution_count": 434,
   "metadata": {},
   "outputs": [
    {
     "data": {
      "text/html": [
       "<div>                            <div id=\"445cf598-ca3c-4d13-98bc-6db54fea0017\" class=\"plotly-graph-div\" style=\"height:525px; width:100%;\"></div>            <script type=\"text/javascript\">                require([\"plotly\"], function(Plotly) {                    window.PLOTLYENV=window.PLOTLYENV || {};                                    if (document.getElementById(\"445cf598-ca3c-4d13-98bc-6db54fea0017\")) {                    Plotly.newPlot(                        \"445cf598-ca3c-4d13-98bc-6db54fea0017\",                        [{\"hovertemplate\":\"fechas=%{x}<br>puntos=%{y}<extra></extra>\",\"legendgroup\":\"\",\"line\":{\"color\":\"#636efa\",\"dash\":\"solid\"},\"marker\":{\"symbol\":\"circle\"},\"mode\":\"lines\",\"name\":\"\",\"orientation\":\"v\",\"showlegend\":false,\"x\":[\"2021/8/1\",\"2021/8/27\",\"2021/8/28\",\"2021/8/30\",\"2021/8/31\",\"2021/9/3\",\"2021/9/5\",\"2021/9/8\",\"2021/9/9\",\"2021/9/10\",\"2021/9/22\",\"2021/9/24\",\"2021/9/25\",\"2021/9/26\",\"2021/9/29\",\"2021/9/30\",\"2021/10/1\",\"2021/10/4\",\"2021/10/7\",\"2021/10/8\",\"2021/10/10\",\"2021/10/11\",\"2021/10/13\",\"2021/10/14\",\"2021/10/15\",\"2021/10/16\",\"2021/10/18\",\"2021/10/19\",\"2021/10/20\",\"2021/10/22\",\"2021/11/10\",\"2021/11/17\",\"2021/11/19\"],\"xaxis\":\"x\",\"y\":[1523,1566,1601,1642,1627,1625,1638,1653,1642,1621,1610,1661,1673,1682,1710,1684,1691,1662,1706,1719,1727,1721,1741,1746,1762,1750,1730,1736,1730,1719,1726,1723,1730],\"yaxis\":\"y\",\"type\":\"scatter\"}],                        {\"template\":{\"data\":{\"barpolar\":[{\"marker\":{\"line\":{\"color\":\"rgb(17,17,17)\",\"width\":0.5},\"pattern\":{\"fillmode\":\"overlay\",\"size\":10,\"solidity\":0.2}},\"type\":\"barpolar\"}],\"bar\":[{\"error_x\":{\"color\":\"#f2f5fa\"},\"error_y\":{\"color\":\"#f2f5fa\"},\"marker\":{\"line\":{\"color\":\"rgb(17,17,17)\",\"width\":0.5},\"pattern\":{\"fillmode\":\"overlay\",\"size\":10,\"solidity\":0.2}},\"type\":\"bar\"}],\"carpet\":[{\"aaxis\":{\"endlinecolor\":\"#A2B1C6\",\"gridcolor\":\"#506784\",\"linecolor\":\"#506784\",\"minorgridcolor\":\"#506784\",\"startlinecolor\":\"#A2B1C6\"},\"baxis\":{\"endlinecolor\":\"#A2B1C6\",\"gridcolor\":\"#506784\",\"linecolor\":\"#506784\",\"minorgridcolor\":\"#506784\",\"startlinecolor\":\"#A2B1C6\"},\"type\":\"carpet\"}],\"choropleth\":[{\"colorbar\":{\"outlinewidth\":0,\"ticks\":\"\"},\"type\":\"choropleth\"}],\"contourcarpet\":[{\"colorbar\":{\"outlinewidth\":0,\"ticks\":\"\"},\"type\":\"contourcarpet\"}],\"contour\":[{\"colorbar\":{\"outlinewidth\":0,\"ticks\":\"\"},\"colorscale\":[[0.0,\"#0d0887\"],[0.1111111111111111,\"#46039f\"],[0.2222222222222222,\"#7201a8\"],[0.3333333333333333,\"#9c179e\"],[0.4444444444444444,\"#bd3786\"],[0.5555555555555556,\"#d8576b\"],[0.6666666666666666,\"#ed7953\"],[0.7777777777777778,\"#fb9f3a\"],[0.8888888888888888,\"#fdca26\"],[1.0,\"#f0f921\"]],\"type\":\"contour\"}],\"heatmapgl\":[{\"colorbar\":{\"outlinewidth\":0,\"ticks\":\"\"},\"colorscale\":[[0.0,\"#0d0887\"],[0.1111111111111111,\"#46039f\"],[0.2222222222222222,\"#7201a8\"],[0.3333333333333333,\"#9c179e\"],[0.4444444444444444,\"#bd3786\"],[0.5555555555555556,\"#d8576b\"],[0.6666666666666666,\"#ed7953\"],[0.7777777777777778,\"#fb9f3a\"],[0.8888888888888888,\"#fdca26\"],[1.0,\"#f0f921\"]],\"type\":\"heatmapgl\"}],\"heatmap\":[{\"colorbar\":{\"outlinewidth\":0,\"ticks\":\"\"},\"colorscale\":[[0.0,\"#0d0887\"],[0.1111111111111111,\"#46039f\"],[0.2222222222222222,\"#7201a8\"],[0.3333333333333333,\"#9c179e\"],[0.4444444444444444,\"#bd3786\"],[0.5555555555555556,\"#d8576b\"],[0.6666666666666666,\"#ed7953\"],[0.7777777777777778,\"#fb9f3a\"],[0.8888888888888888,\"#fdca26\"],[1.0,\"#f0f921\"]],\"type\":\"heatmap\"}],\"histogram2dcontour\":[{\"colorbar\":{\"outlinewidth\":0,\"ticks\":\"\"},\"colorscale\":[[0.0,\"#0d0887\"],[0.1111111111111111,\"#46039f\"],[0.2222222222222222,\"#7201a8\"],[0.3333333333333333,\"#9c179e\"],[0.4444444444444444,\"#bd3786\"],[0.5555555555555556,\"#d8576b\"],[0.6666666666666666,\"#ed7953\"],[0.7777777777777778,\"#fb9f3a\"],[0.8888888888888888,\"#fdca26\"],[1.0,\"#f0f921\"]],\"type\":\"histogram2dcontour\"}],\"histogram2d\":[{\"colorbar\":{\"outlinewidth\":0,\"ticks\":\"\"},\"colorscale\":[[0.0,\"#0d0887\"],[0.1111111111111111,\"#46039f\"],[0.2222222222222222,\"#7201a8\"],[0.3333333333333333,\"#9c179e\"],[0.4444444444444444,\"#bd3786\"],[0.5555555555555556,\"#d8576b\"],[0.6666666666666666,\"#ed7953\"],[0.7777777777777778,\"#fb9f3a\"],[0.8888888888888888,\"#fdca26\"],[1.0,\"#f0f921\"]],\"type\":\"histogram2d\"}],\"histogram\":[{\"marker\":{\"pattern\":{\"fillmode\":\"overlay\",\"size\":10,\"solidity\":0.2}},\"type\":\"histogram\"}],\"mesh3d\":[{\"colorbar\":{\"outlinewidth\":0,\"ticks\":\"\"},\"type\":\"mesh3d\"}],\"parcoords\":[{\"line\":{\"colorbar\":{\"outlinewidth\":0,\"ticks\":\"\"}},\"type\":\"parcoords\"}],\"pie\":[{\"automargin\":true,\"type\":\"pie\"}],\"scatter3d\":[{\"line\":{\"colorbar\":{\"outlinewidth\":0,\"ticks\":\"\"}},\"marker\":{\"colorbar\":{\"outlinewidth\":0,\"ticks\":\"\"}},\"type\":\"scatter3d\"}],\"scattercarpet\":[{\"marker\":{\"colorbar\":{\"outlinewidth\":0,\"ticks\":\"\"}},\"type\":\"scattercarpet\"}],\"scattergeo\":[{\"marker\":{\"colorbar\":{\"outlinewidth\":0,\"ticks\":\"\"}},\"type\":\"scattergeo\"}],\"scattergl\":[{\"marker\":{\"line\":{\"color\":\"#283442\"}},\"type\":\"scattergl\"}],\"scattermapbox\":[{\"marker\":{\"colorbar\":{\"outlinewidth\":0,\"ticks\":\"\"}},\"type\":\"scattermapbox\"}],\"scatterpolargl\":[{\"marker\":{\"colorbar\":{\"outlinewidth\":0,\"ticks\":\"\"}},\"type\":\"scatterpolargl\"}],\"scatterpolar\":[{\"marker\":{\"colorbar\":{\"outlinewidth\":0,\"ticks\":\"\"}},\"type\":\"scatterpolar\"}],\"scatter\":[{\"marker\":{\"line\":{\"color\":\"#283442\"}},\"type\":\"scatter\"}],\"scatterternary\":[{\"marker\":{\"colorbar\":{\"outlinewidth\":0,\"ticks\":\"\"}},\"type\":\"scatterternary\"}],\"surface\":[{\"colorbar\":{\"outlinewidth\":0,\"ticks\":\"\"},\"colorscale\":[[0.0,\"#0d0887\"],[0.1111111111111111,\"#46039f\"],[0.2222222222222222,\"#7201a8\"],[0.3333333333333333,\"#9c179e\"],[0.4444444444444444,\"#bd3786\"],[0.5555555555555556,\"#d8576b\"],[0.6666666666666666,\"#ed7953\"],[0.7777777777777778,\"#fb9f3a\"],[0.8888888888888888,\"#fdca26\"],[1.0,\"#f0f921\"]],\"type\":\"surface\"}],\"table\":[{\"cells\":{\"fill\":{\"color\":\"#506784\"},\"line\":{\"color\":\"rgb(17,17,17)\"}},\"header\":{\"fill\":{\"color\":\"#2a3f5f\"},\"line\":{\"color\":\"rgb(17,17,17)\"}},\"type\":\"table\"}]},\"layout\":{\"annotationdefaults\":{\"arrowcolor\":\"#f2f5fa\",\"arrowhead\":0,\"arrowwidth\":1},\"autotypenumbers\":\"strict\",\"coloraxis\":{\"colorbar\":{\"outlinewidth\":0,\"ticks\":\"\"}},\"colorscale\":{\"diverging\":[[0,\"#8e0152\"],[0.1,\"#c51b7d\"],[0.2,\"#de77ae\"],[0.3,\"#f1b6da\"],[0.4,\"#fde0ef\"],[0.5,\"#f7f7f7\"],[0.6,\"#e6f5d0\"],[0.7,\"#b8e186\"],[0.8,\"#7fbc41\"],[0.9,\"#4d9221\"],[1,\"#276419\"]],\"sequential\":[[0.0,\"#0d0887\"],[0.1111111111111111,\"#46039f\"],[0.2222222222222222,\"#7201a8\"],[0.3333333333333333,\"#9c179e\"],[0.4444444444444444,\"#bd3786\"],[0.5555555555555556,\"#d8576b\"],[0.6666666666666666,\"#ed7953\"],[0.7777777777777778,\"#fb9f3a\"],[0.8888888888888888,\"#fdca26\"],[1.0,\"#f0f921\"]],\"sequentialminus\":[[0.0,\"#0d0887\"],[0.1111111111111111,\"#46039f\"],[0.2222222222222222,\"#7201a8\"],[0.3333333333333333,\"#9c179e\"],[0.4444444444444444,\"#bd3786\"],[0.5555555555555556,\"#d8576b\"],[0.6666666666666666,\"#ed7953\"],[0.7777777777777778,\"#fb9f3a\"],[0.8888888888888888,\"#fdca26\"],[1.0,\"#f0f921\"]]},\"colorway\":[\"#636efa\",\"#EF553B\",\"#00cc96\",\"#ab63fa\",\"#FFA15A\",\"#19d3f3\",\"#FF6692\",\"#B6E880\",\"#FF97FF\",\"#FECB52\"],\"font\":{\"color\":\"#f2f5fa\"},\"geo\":{\"bgcolor\":\"rgb(17,17,17)\",\"lakecolor\":\"rgb(17,17,17)\",\"landcolor\":\"rgb(17,17,17)\",\"showlakes\":true,\"showland\":true,\"subunitcolor\":\"#506784\"},\"hoverlabel\":{\"align\":\"left\"},\"hovermode\":\"closest\",\"mapbox\":{\"style\":\"dark\"},\"paper_bgcolor\":\"rgb(17,17,17)\",\"plot_bgcolor\":\"rgb(17,17,17)\",\"polar\":{\"angularaxis\":{\"gridcolor\":\"#506784\",\"linecolor\":\"#506784\",\"ticks\":\"\"},\"bgcolor\":\"rgb(17,17,17)\",\"radialaxis\":{\"gridcolor\":\"#506784\",\"linecolor\":\"#506784\",\"ticks\":\"\"}},\"scene\":{\"xaxis\":{\"backgroundcolor\":\"rgb(17,17,17)\",\"gridcolor\":\"#506784\",\"gridwidth\":2,\"linecolor\":\"#506784\",\"showbackground\":true,\"ticks\":\"\",\"zerolinecolor\":\"#C8D4E3\"},\"yaxis\":{\"backgroundcolor\":\"rgb(17,17,17)\",\"gridcolor\":\"#506784\",\"gridwidth\":2,\"linecolor\":\"#506784\",\"showbackground\":true,\"ticks\":\"\",\"zerolinecolor\":\"#C8D4E3\"},\"zaxis\":{\"backgroundcolor\":\"rgb(17,17,17)\",\"gridcolor\":\"#506784\",\"gridwidth\":2,\"linecolor\":\"#506784\",\"showbackground\":true,\"ticks\":\"\",\"zerolinecolor\":\"#C8D4E3\"}},\"shapedefaults\":{\"line\":{\"color\":\"#f2f5fa\"}},\"sliderdefaults\":{\"bgcolor\":\"#C8D4E3\",\"bordercolor\":\"rgb(17,17,17)\",\"borderwidth\":1,\"tickwidth\":0},\"ternary\":{\"aaxis\":{\"gridcolor\":\"#506784\",\"linecolor\":\"#506784\",\"ticks\":\"\"},\"baxis\":{\"gridcolor\":\"#506784\",\"linecolor\":\"#506784\",\"ticks\":\"\"},\"bgcolor\":\"rgb(17,17,17)\",\"caxis\":{\"gridcolor\":\"#506784\",\"linecolor\":\"#506784\",\"ticks\":\"\"}},\"title\":{\"x\":0.05},\"updatemenudefaults\":{\"bgcolor\":\"#506784\",\"borderwidth\":0},\"xaxis\":{\"automargin\":true,\"gridcolor\":\"#283442\",\"linecolor\":\"#506784\",\"ticks\":\"\",\"title\":{\"standoff\":15},\"zerolinecolor\":\"#283442\",\"zerolinewidth\":2},\"yaxis\":{\"automargin\":true,\"gridcolor\":\"#283442\",\"linecolor\":\"#506784\",\"ticks\":\"\",\"title\":{\"standoff\":15},\"zerolinecolor\":\"#283442\",\"zerolinewidth\":2}}},\"xaxis\":{\"anchor\":\"y\",\"domain\":[0.0,1.0],\"title\":{\"text\":\"fechas\"}},\"yaxis\":{\"anchor\":\"x\",\"domain\":[0.0,1.0],\"title\":{\"text\":\"puntos\"}},\"legend\":{\"tracegroupgap\":0},\"title\":{\"text\":\"Historial rating de un usuario\"}},                        {\"responsive\": true}                    ).then(function(){\n",
       "                            \n",
       "var gd = document.getElementById('445cf598-ca3c-4d13-98bc-6db54fea0017');\n",
       "var x = new MutationObserver(function (mutations, observer) {{\n",
       "        var display = window.getComputedStyle(gd).display;\n",
       "        if (!display || display === 'none') {{\n",
       "            console.log([gd, 'removed!']);\n",
       "            Plotly.purge(gd);\n",
       "            observer.disconnect();\n",
       "        }}\n",
       "}});\n",
       "\n",
       "// Listen for the removal of the full notebook cells\n",
       "var notebookContainer = gd.closest('#notebook-container');\n",
       "if (notebookContainer) {{\n",
       "    x.observe(notebookContainer, {childList: true});\n",
       "}}\n",
       "\n",
       "// Listen for the clearing of the current output cell\n",
       "var outputEl = gd.closest('.output');\n",
       "if (outputEl) {{\n",
       "    x.observe(outputEl, {childList: true});\n",
       "}}\n",
       "\n",
       "                        })                };                });            </script>        </div>"
      ]
     },
     "metadata": {},
     "output_type": "display_data"
    }
   ],
   "source": [
    "nombre_equipo = \"Club Prometeo\"\n",
    "\n",
    "query = f'''\n",
    "MATCH (e:Equipo {{nombre: \"{nombre_equipo}\"}})\n",
    "MATCH (e)-[pe:pertenece]-(u)\n",
    "RETURN u\n",
    "'''.replace('\\n', '')\n",
    "nodos_judadores = session.run(query).data()\n",
    "\n",
    "# Obtenemos el historial de un jugador\n",
    "username=nodos_judadores[0]['u']['id']\n",
    "jugadores_creciendo_blitz(username, visualizar=True)"
   ]
  },
  {
   "cell_type": "markdown",
   "metadata": {},
   "source": [
    "![img2](https://raw.githubusercontent.com/gandres-dev/Bases-datos-no-estructuradas/main/img/consulta2_memo.png)"
   ]
  },
  {
   "cell_type": "markdown",
   "metadata": {},
   "source": [
    "A partir de esta gráfica de ejemplo, podemos analizar las ultimas fechas para determinar si el jugador va creciendo conforme pasan los dias o en picada."
   ]
  },
  {
   "cell_type": "code",
   "execution_count": 384,
   "metadata": {},
   "outputs": [],
   "source": [
    "jugadores_creciendo = []\n",
    "# Obtenemos el historial de todos los jugadores de un equipo\n",
    "for jugador in nodos_judadores:\n",
    "    username=jugador['u']['id']\n",
    "    jugador_creciendo = jugadores_creciendo_blitz(username)\n",
    "    if jugador_creciendo:\n",
    "        jugadores_creciendo.append(jugador_creciendo)"
   ]
  },
  {
   "cell_type": "code",
   "execution_count": 436,
   "metadata": {},
   "outputs": [
    {
     "name": "stdout",
     "output_type": "stream",
     "text": [
      "******Jugadores que van creciendo en las ultimas 5 fechas*****\n",
      "xschoko\n",
      "xngelguale\n",
      "alanmezal\n"
     ]
    }
   ],
   "source": [
    "print(\"******Jugadores que van creciendo en las ultimas 5 fechas*****\")\n",
    "output=list(map(print, jugadores_creciendo))"
   ]
  },
  {
   "cell_type": "code",
   "execution_count": 435,
   "metadata": {},
   "outputs": [
    {
     "data": {
      "text/html": [
       "<div>                            <div id=\"a0e3754b-a47e-4d73-853a-480245aa3014\" class=\"plotly-graph-div\" style=\"height:525px; width:100%;\"></div>            <script type=\"text/javascript\">                require([\"plotly\"], function(Plotly) {                    window.PLOTLYENV=window.PLOTLYENV || {};                                    if (document.getElementById(\"a0e3754b-a47e-4d73-853a-480245aa3014\")) {                    Plotly.newPlot(                        \"a0e3754b-a47e-4d73-853a-480245aa3014\",                        [{\"hovertemplate\":\"fechas=%{x}<br>puntos=%{y}<extra></extra>\",\"legendgroup\":\"\",\"line\":{\"color\":\"#636efa\",\"dash\":\"solid\"},\"marker\":{\"symbol\":\"circle\"},\"mode\":\"lines\",\"name\":\"\",\"orientation\":\"v\",\"showlegend\":false,\"x\":[\"2021/11/10\",\"2021/11/11\",\"2021/11/12\",\"2021/11/13\",\"2021/11/14\",\"2021/11/15\",\"2021/11/16\",\"2021/11/17\",\"2021/11/18\",\"2021/11/19\",\"2021/11/20\",\"2021/11/23\",\"2021/11/24\",\"2021/11/25\",\"2021/11/26\",\"2021/11/27\",\"2021/11/29\",\"2021/11/30\",\"2021/12/1\",\"2021/12/6\",\"2021/12/7\",\"2021/12/8\",\"2021/12/9\",\"2021/12/10\",\"2021/12/12\",\"2021/12/15\",\"2021/12/16\",\"2021/12/17\",\"2021/12/23\",\"2021/12/24\",\"2021/12/27\",\"2021/12/30\",\"2021/12/31\",\"2022/1/2\",\"2022/1/3\",\"2022/1/4\",\"2022/1/5\",\"2022/1/6\",\"2022/1/7\",\"2022/1/8\",\"2022/1/11\",\"2022/1/12\",\"2022/1/13\",\"2022/1/14\",\"2022/1/15\",\"2022/1/16\",\"2022/1/17\",\"2022/1/18\",\"2022/1/19\",\"2022/1/20\",\"2022/1/22\",\"2022/1/23\",\"2022/1/24\",\"2022/1/25\",\"2022/1/26\",\"2022/1/27\",\"2022/1/28\",\"2022/1/29\",\"2022/1/30\",\"2022/2/2\",\"2022/2/3\",\"2022/2/4\",\"2022/2/7\",\"2022/2/8\",\"2022/2/11\",\"2022/2/12\",\"2022/2/14\",\"2022/2/15\",\"2022/2/16\",\"2022/2/18\",\"2022/2/19\",\"2022/2/25\",\"2022/3/2\",\"2022/3/4\",\"2022/3/5\",\"2022/3/6\",\"2022/3/7\",\"2022/3/9\",\"2022/3/10\",\"2022/3/11\",\"2022/3/12\",\"2022/3/13\",\"2022/3/14\",\"2022/3/16\",\"2022/3/18\",\"2022/3/19\",\"2022/3/21\",\"2022/3/22\",\"2022/3/23\",\"2022/3/24\",\"2022/3/25\",\"2022/3/26\",\"2022/3/31\",\"2022/4/1\",\"2022/4/2\",\"2022/4/3\",\"2022/4/4\",\"2022/4/5\",\"2022/4/6\",\"2022/4/9\",\"2022/4/10\",\"2022/4/11\",\"2022/4/12\",\"2022/4/15\",\"2022/4/16\",\"2022/4/17\",\"2022/4/18\",\"2022/4/19\",\"2022/4/20\",\"2022/4/21\",\"2022/4/22\",\"2022/4/23\",\"2022/4/24\",\"2022/4/25\",\"2022/4/26\",\"2022/4/27\",\"2022/4/29\",\"2022/5/3\",\"2022/5/4\",\"2022/5/5\",\"2022/5/12\",\"2022/5/13\",\"2022/5/15\",\"2022/5/16\",\"2022/5/17\",\"2022/5/18\",\"2022/5/19\",\"2022/5/20\",\"2022/5/21\",\"2022/5/22\",\"2022/5/24\",\"2022/5/25\",\"2022/5/26\",\"2022/5/27\",\"2022/5/28\",\"2022/5/29\",\"2022/5/30\",\"2022/6/1\",\"2022/6/2\",\"2022/6/3\",\"2022/6/4\"],\"xaxis\":\"x\",\"y\":[1512,1526,1520,1517,1526,1549,1558,1563,1576,1578,1539,1541,1530,1541,1570,1573,1593,1557,1552,1553,1562,1569,1564,1563,1553,1539,1490,1489,1518,1533,1539,1565,1560,1571,1558,1573,1584,1565,1575,1592,1600,1587,1605,1585,1571,1565,1579,1598,1595,1607,1623,1572,1559,1589,1598,1605,1595,1655,1625,1624,1604,1609,1584,1584,1613,1594,1593,1581,1528,1524,1541,1574,1550,1544,1539,1526,1520,1537,1537,1547,1556,1574,1575,1620,1616,1622,1647,1666,1670,1669,1664,1687,1692,1699,1705,1696,1695,1665,1676,1657,1632,1575,1586,1571,1589,1583,1579,1554,1533,1544,1571,1589,1563,1574,1566,1544,1572,1570,1574,1572,1586,1586,1605,1605,1610,1620,1615,1630,1618,1624,1637,1628,1593,1593,1539,1617,1633,1639,1651,1647,1664],\"yaxis\":\"y\",\"type\":\"scatter\"}],                        {\"template\":{\"data\":{\"barpolar\":[{\"marker\":{\"line\":{\"color\":\"rgb(17,17,17)\",\"width\":0.5},\"pattern\":{\"fillmode\":\"overlay\",\"size\":10,\"solidity\":0.2}},\"type\":\"barpolar\"}],\"bar\":[{\"error_x\":{\"color\":\"#f2f5fa\"},\"error_y\":{\"color\":\"#f2f5fa\"},\"marker\":{\"line\":{\"color\":\"rgb(17,17,17)\",\"width\":0.5},\"pattern\":{\"fillmode\":\"overlay\",\"size\":10,\"solidity\":0.2}},\"type\":\"bar\"}],\"carpet\":[{\"aaxis\":{\"endlinecolor\":\"#A2B1C6\",\"gridcolor\":\"#506784\",\"linecolor\":\"#506784\",\"minorgridcolor\":\"#506784\",\"startlinecolor\":\"#A2B1C6\"},\"baxis\":{\"endlinecolor\":\"#A2B1C6\",\"gridcolor\":\"#506784\",\"linecolor\":\"#506784\",\"minorgridcolor\":\"#506784\",\"startlinecolor\":\"#A2B1C6\"},\"type\":\"carpet\"}],\"choropleth\":[{\"colorbar\":{\"outlinewidth\":0,\"ticks\":\"\"},\"type\":\"choropleth\"}],\"contourcarpet\":[{\"colorbar\":{\"outlinewidth\":0,\"ticks\":\"\"},\"type\":\"contourcarpet\"}],\"contour\":[{\"colorbar\":{\"outlinewidth\":0,\"ticks\":\"\"},\"colorscale\":[[0.0,\"#0d0887\"],[0.1111111111111111,\"#46039f\"],[0.2222222222222222,\"#7201a8\"],[0.3333333333333333,\"#9c179e\"],[0.4444444444444444,\"#bd3786\"],[0.5555555555555556,\"#d8576b\"],[0.6666666666666666,\"#ed7953\"],[0.7777777777777778,\"#fb9f3a\"],[0.8888888888888888,\"#fdca26\"],[1.0,\"#f0f921\"]],\"type\":\"contour\"}],\"heatmapgl\":[{\"colorbar\":{\"outlinewidth\":0,\"ticks\":\"\"},\"colorscale\":[[0.0,\"#0d0887\"],[0.1111111111111111,\"#46039f\"],[0.2222222222222222,\"#7201a8\"],[0.3333333333333333,\"#9c179e\"],[0.4444444444444444,\"#bd3786\"],[0.5555555555555556,\"#d8576b\"],[0.6666666666666666,\"#ed7953\"],[0.7777777777777778,\"#fb9f3a\"],[0.8888888888888888,\"#fdca26\"],[1.0,\"#f0f921\"]],\"type\":\"heatmapgl\"}],\"heatmap\":[{\"colorbar\":{\"outlinewidth\":0,\"ticks\":\"\"},\"colorscale\":[[0.0,\"#0d0887\"],[0.1111111111111111,\"#46039f\"],[0.2222222222222222,\"#7201a8\"],[0.3333333333333333,\"#9c179e\"],[0.4444444444444444,\"#bd3786\"],[0.5555555555555556,\"#d8576b\"],[0.6666666666666666,\"#ed7953\"],[0.7777777777777778,\"#fb9f3a\"],[0.8888888888888888,\"#fdca26\"],[1.0,\"#f0f921\"]],\"type\":\"heatmap\"}],\"histogram2dcontour\":[{\"colorbar\":{\"outlinewidth\":0,\"ticks\":\"\"},\"colorscale\":[[0.0,\"#0d0887\"],[0.1111111111111111,\"#46039f\"],[0.2222222222222222,\"#7201a8\"],[0.3333333333333333,\"#9c179e\"],[0.4444444444444444,\"#bd3786\"],[0.5555555555555556,\"#d8576b\"],[0.6666666666666666,\"#ed7953\"],[0.7777777777777778,\"#fb9f3a\"],[0.8888888888888888,\"#fdca26\"],[1.0,\"#f0f921\"]],\"type\":\"histogram2dcontour\"}],\"histogram2d\":[{\"colorbar\":{\"outlinewidth\":0,\"ticks\":\"\"},\"colorscale\":[[0.0,\"#0d0887\"],[0.1111111111111111,\"#46039f\"],[0.2222222222222222,\"#7201a8\"],[0.3333333333333333,\"#9c179e\"],[0.4444444444444444,\"#bd3786\"],[0.5555555555555556,\"#d8576b\"],[0.6666666666666666,\"#ed7953\"],[0.7777777777777778,\"#fb9f3a\"],[0.8888888888888888,\"#fdca26\"],[1.0,\"#f0f921\"]],\"type\":\"histogram2d\"}],\"histogram\":[{\"marker\":{\"pattern\":{\"fillmode\":\"overlay\",\"size\":10,\"solidity\":0.2}},\"type\":\"histogram\"}],\"mesh3d\":[{\"colorbar\":{\"outlinewidth\":0,\"ticks\":\"\"},\"type\":\"mesh3d\"}],\"parcoords\":[{\"line\":{\"colorbar\":{\"outlinewidth\":0,\"ticks\":\"\"}},\"type\":\"parcoords\"}],\"pie\":[{\"automargin\":true,\"type\":\"pie\"}],\"scatter3d\":[{\"line\":{\"colorbar\":{\"outlinewidth\":0,\"ticks\":\"\"}},\"marker\":{\"colorbar\":{\"outlinewidth\":0,\"ticks\":\"\"}},\"type\":\"scatter3d\"}],\"scattercarpet\":[{\"marker\":{\"colorbar\":{\"outlinewidth\":0,\"ticks\":\"\"}},\"type\":\"scattercarpet\"}],\"scattergeo\":[{\"marker\":{\"colorbar\":{\"outlinewidth\":0,\"ticks\":\"\"}},\"type\":\"scattergeo\"}],\"scattergl\":[{\"marker\":{\"line\":{\"color\":\"#283442\"}},\"type\":\"scattergl\"}],\"scattermapbox\":[{\"marker\":{\"colorbar\":{\"outlinewidth\":0,\"ticks\":\"\"}},\"type\":\"scattermapbox\"}],\"scatterpolargl\":[{\"marker\":{\"colorbar\":{\"outlinewidth\":0,\"ticks\":\"\"}},\"type\":\"scatterpolargl\"}],\"scatterpolar\":[{\"marker\":{\"colorbar\":{\"outlinewidth\":0,\"ticks\":\"\"}},\"type\":\"scatterpolar\"}],\"scatter\":[{\"marker\":{\"line\":{\"color\":\"#283442\"}},\"type\":\"scatter\"}],\"scatterternary\":[{\"marker\":{\"colorbar\":{\"outlinewidth\":0,\"ticks\":\"\"}},\"type\":\"scatterternary\"}],\"surface\":[{\"colorbar\":{\"outlinewidth\":0,\"ticks\":\"\"},\"colorscale\":[[0.0,\"#0d0887\"],[0.1111111111111111,\"#46039f\"],[0.2222222222222222,\"#7201a8\"],[0.3333333333333333,\"#9c179e\"],[0.4444444444444444,\"#bd3786\"],[0.5555555555555556,\"#d8576b\"],[0.6666666666666666,\"#ed7953\"],[0.7777777777777778,\"#fb9f3a\"],[0.8888888888888888,\"#fdca26\"],[1.0,\"#f0f921\"]],\"type\":\"surface\"}],\"table\":[{\"cells\":{\"fill\":{\"color\":\"#506784\"},\"line\":{\"color\":\"rgb(17,17,17)\"}},\"header\":{\"fill\":{\"color\":\"#2a3f5f\"},\"line\":{\"color\":\"rgb(17,17,17)\"}},\"type\":\"table\"}]},\"layout\":{\"annotationdefaults\":{\"arrowcolor\":\"#f2f5fa\",\"arrowhead\":0,\"arrowwidth\":1},\"autotypenumbers\":\"strict\",\"coloraxis\":{\"colorbar\":{\"outlinewidth\":0,\"ticks\":\"\"}},\"colorscale\":{\"diverging\":[[0,\"#8e0152\"],[0.1,\"#c51b7d\"],[0.2,\"#de77ae\"],[0.3,\"#f1b6da\"],[0.4,\"#fde0ef\"],[0.5,\"#f7f7f7\"],[0.6,\"#e6f5d0\"],[0.7,\"#b8e186\"],[0.8,\"#7fbc41\"],[0.9,\"#4d9221\"],[1,\"#276419\"]],\"sequential\":[[0.0,\"#0d0887\"],[0.1111111111111111,\"#46039f\"],[0.2222222222222222,\"#7201a8\"],[0.3333333333333333,\"#9c179e\"],[0.4444444444444444,\"#bd3786\"],[0.5555555555555556,\"#d8576b\"],[0.6666666666666666,\"#ed7953\"],[0.7777777777777778,\"#fb9f3a\"],[0.8888888888888888,\"#fdca26\"],[1.0,\"#f0f921\"]],\"sequentialminus\":[[0.0,\"#0d0887\"],[0.1111111111111111,\"#46039f\"],[0.2222222222222222,\"#7201a8\"],[0.3333333333333333,\"#9c179e\"],[0.4444444444444444,\"#bd3786\"],[0.5555555555555556,\"#d8576b\"],[0.6666666666666666,\"#ed7953\"],[0.7777777777777778,\"#fb9f3a\"],[0.8888888888888888,\"#fdca26\"],[1.0,\"#f0f921\"]]},\"colorway\":[\"#636efa\",\"#EF553B\",\"#00cc96\",\"#ab63fa\",\"#FFA15A\",\"#19d3f3\",\"#FF6692\",\"#B6E880\",\"#FF97FF\",\"#FECB52\"],\"font\":{\"color\":\"#f2f5fa\"},\"geo\":{\"bgcolor\":\"rgb(17,17,17)\",\"lakecolor\":\"rgb(17,17,17)\",\"landcolor\":\"rgb(17,17,17)\",\"showlakes\":true,\"showland\":true,\"subunitcolor\":\"#506784\"},\"hoverlabel\":{\"align\":\"left\"},\"hovermode\":\"closest\",\"mapbox\":{\"style\":\"dark\"},\"paper_bgcolor\":\"rgb(17,17,17)\",\"plot_bgcolor\":\"rgb(17,17,17)\",\"polar\":{\"angularaxis\":{\"gridcolor\":\"#506784\",\"linecolor\":\"#506784\",\"ticks\":\"\"},\"bgcolor\":\"rgb(17,17,17)\",\"radialaxis\":{\"gridcolor\":\"#506784\",\"linecolor\":\"#506784\",\"ticks\":\"\"}},\"scene\":{\"xaxis\":{\"backgroundcolor\":\"rgb(17,17,17)\",\"gridcolor\":\"#506784\",\"gridwidth\":2,\"linecolor\":\"#506784\",\"showbackground\":true,\"ticks\":\"\",\"zerolinecolor\":\"#C8D4E3\"},\"yaxis\":{\"backgroundcolor\":\"rgb(17,17,17)\",\"gridcolor\":\"#506784\",\"gridwidth\":2,\"linecolor\":\"#506784\",\"showbackground\":true,\"ticks\":\"\",\"zerolinecolor\":\"#C8D4E3\"},\"zaxis\":{\"backgroundcolor\":\"rgb(17,17,17)\",\"gridcolor\":\"#506784\",\"gridwidth\":2,\"linecolor\":\"#506784\",\"showbackground\":true,\"ticks\":\"\",\"zerolinecolor\":\"#C8D4E3\"}},\"shapedefaults\":{\"line\":{\"color\":\"#f2f5fa\"}},\"sliderdefaults\":{\"bgcolor\":\"#C8D4E3\",\"bordercolor\":\"rgb(17,17,17)\",\"borderwidth\":1,\"tickwidth\":0},\"ternary\":{\"aaxis\":{\"gridcolor\":\"#506784\",\"linecolor\":\"#506784\",\"ticks\":\"\"},\"baxis\":{\"gridcolor\":\"#506784\",\"linecolor\":\"#506784\",\"ticks\":\"\"},\"bgcolor\":\"rgb(17,17,17)\",\"caxis\":{\"gridcolor\":\"#506784\",\"linecolor\":\"#506784\",\"ticks\":\"\"}},\"title\":{\"x\":0.05},\"updatemenudefaults\":{\"bgcolor\":\"#506784\",\"borderwidth\":0},\"xaxis\":{\"automargin\":true,\"gridcolor\":\"#283442\",\"linecolor\":\"#506784\",\"ticks\":\"\",\"title\":{\"standoff\":15},\"zerolinecolor\":\"#283442\",\"zerolinewidth\":2},\"yaxis\":{\"automargin\":true,\"gridcolor\":\"#283442\",\"linecolor\":\"#506784\",\"ticks\":\"\",\"title\":{\"standoff\":15},\"zerolinecolor\":\"#283442\",\"zerolinewidth\":2}}},\"xaxis\":{\"anchor\":\"y\",\"domain\":[0.0,1.0],\"title\":{\"text\":\"fechas\"}},\"yaxis\":{\"anchor\":\"x\",\"domain\":[0.0,1.0],\"title\":{\"text\":\"puntos\"}},\"legend\":{\"tracegroupgap\":0},\"title\":{\"text\":\"Historial rating de un usuario\"}},                        {\"responsive\": true}                    ).then(function(){\n",
       "                            \n",
       "var gd = document.getElementById('a0e3754b-a47e-4d73-853a-480245aa3014');\n",
       "var x = new MutationObserver(function (mutations, observer) {{\n",
       "        var display = window.getComputedStyle(gd).display;\n",
       "        if (!display || display === 'none') {{\n",
       "            console.log([gd, 'removed!']);\n",
       "            Plotly.purge(gd);\n",
       "            observer.disconnect();\n",
       "        }}\n",
       "}});\n",
       "\n",
       "// Listen for the removal of the full notebook cells\n",
       "var notebookContainer = gd.closest('#notebook-container');\n",
       "if (notebookContainer) {{\n",
       "    x.observe(notebookContainer, {childList: true});\n",
       "}}\n",
       "\n",
       "// Listen for the clearing of the current output cell\n",
       "var outputEl = gd.closest('.output');\n",
       "if (outputEl) {{\n",
       "    x.observe(outputEl, {childList: true});\n",
       "}}\n",
       "\n",
       "                        })                };                });            </script>        </div>"
      ]
     },
     "metadata": {},
     "output_type": "display_data"
    },
    {
     "data": {
      "text/plain": [
       "'xschoko'"
      ]
     },
     "execution_count": 435,
     "metadata": {},
     "output_type": "execute_result"
    }
   ],
   "source": [
    "username=nodos_judadores[0]['u']['id']\n",
    "jugadores_creciendo_blitz('xschoko', visualizar=True)"
   ]
  },
  {
   "cell_type": "markdown",
   "metadata": {},
   "source": [
    "![sdlk](https://raw.githubusercontent.com/gandres-dev/Bases-datos-no-estructuradas/main/img/consulta3_memo.png)"
   ]
  },
  {
   "cell_type": "markdown",
   "metadata": {},
   "source": [
    "Con esta gráfica podemos ver que precisamente el jugador `xschoko` va creciendo su rating en ultimas 5 fechas."
   ]
  }
 ],
 "metadata": {
  "interpreter": {
   "hash": "64b27365b0e8236425919d2e9a9f5da0cc6a27b8c86cfc1aac666ffc9a216bbb"
  },
  "kernelspec": {
   "display_name": "Python 3.10.0 64-bit ('dev': conda)",
   "language": "python",
   "name": "python3"
  },
  "language_info": {
   "codemirror_mode": {
    "name": "ipython",
    "version": 3
   },
   "file_extension": ".py",
   "mimetype": "text/x-python",
   "name": "python",
   "nbconvert_exporter": "python",
   "pygments_lexer": "ipython3",
   "version": "3.10.0"
  },
  "orig_nbformat": 4
 },
 "nbformat": 4,
 "nbformat_minor": 2
}
