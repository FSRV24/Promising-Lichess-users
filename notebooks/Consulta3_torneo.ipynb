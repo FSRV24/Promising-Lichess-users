{
 "cells": [
  {
   "cell_type": "code",
   "execution_count": 1,
   "metadata": {},
   "outputs": [],
   "source": [
    "%run ../../modulos.ipynb"
   ]
  },
  {
   "cell_type": "markdown",
   "metadata": {},
   "source": [
    "# Carga a la base de datos"
   ]
  },
  {
   "cell_type": "markdown",
   "metadata": {},
   "source": [
    "Consultas:\n",
    "\n",
    "- Analizar el número de ingrados y exgrados de cada uno de los nodos (jugadores) y verificar el número de ingrados por equipo.\n",
    "- Determiar qué jugadores tuvieron un torneo más difícil. Esto es, asignar a cada una de las aristas el cociente:\n",
    "\n",
    "$$ \\text{Valor de resultado} = \\frac{\\text{elo}_{loser}}{\\text{elo}_{winner}} $$\n",
    "\n",
    "Si el valor de resultado es mayor a 1, entonces tiene mucho mérito por parte del jugador más novato. Si el valor de resultado es menor a 1 y cercano a cero, entonces es un resultado esperado.\n",
    "\n",
    "Si el promedio de ingrados es cercano a cero, te han ganado jugadores muy buenos y, por tanto, tuviste un torneo con el resultado esperado. Si el promedio de ingrados es mayor que 1, entonces te han ganado jugadores más débiles y, por tanto, tuviste mala suerte.\n",
    "\n",
    "Si el promedio de exgrados es mayor a 1, tuviste un torneo muy bueno pues derrotaste a gente muy buena. Si el promedio de los exgrados es menor a 1, entonces ganaste sobre jugadores más débiles.\n",
    "\n",
    "- Jugadores sorpresa con un valor de resultado promedio mayor a 1."
   ]
  },
  {
   "cell_type": "code",
   "execution_count": 2,
   "metadata": {},
   "outputs": [],
   "source": [
    "import ndjson"
   ]
  },
  {
   "cell_type": "code",
   "execution_count": 3,
   "metadata": {},
   "outputs": [],
   "source": [
    "def obtener_data_lichess(url):    \n",
    "    headers = {\"Authorization\": f\"Bearer {personal_access_token}\"}    \n",
    "    response = requests.get(url, headers=headers)    \n",
    "    return response"
   ]
  },
  {
   "cell_type": "code",
   "execution_count": 14,
   "metadata": {},
   "outputs": [],
   "source": [
    "juegos_universitarios = obtener_data_lichess('https://lichess.org/api/tournament/jszDSiUx/games')"
   ]
  },
  {
   "cell_type": "markdown",
   "metadata": {},
   "source": [
    "Cada línea del conjunto de datos puede verse como el item de una lista mediante la siguiente instrucción."
   ]
  },
  {
   "cell_type": "code",
   "execution_count": 15,
   "metadata": {},
   "outputs": [],
   "source": [
    "games = [s for s in juegos_universitarios.text.split(\"\\n\")[:-1]]"
   ]
  },
  {
   "cell_type": "markdown",
   "metadata": {},
   "source": [
    "Cada línea puede ser agregada a Mongo, pero el objetivo es agregar los datos a Neo4j."
   ]
  },
  {
   "cell_type": "code",
   "execution_count": 26,
   "metadata": {},
   "outputs": [],
   "source": [
    "from neo4j import GraphDatabase\n",
    "\n",
    "data_base_connection = GraphDatabase.driver(uri=\"bolt://localhost:7687\", auth=(\"neo4j\", \"1234\"))\n",
    "session = data_base_connection.session()"
   ]
  },
  {
   "cell_type": "code",
   "execution_count": 27,
   "metadata": {},
   "outputs": [],
   "source": [
    "# elimina toda la base de datos\n",
    "session.run('MATCH (n) DETACH DELETE n')\n",
    "q=session.run('MATCH (n) RETURN n')"
   ]
  },
  {
   "cell_type": "code",
   "execution_count": 20,
   "metadata": {},
   "outputs": [],
   "source": [
    "def agregar_neo4j(white, white_rating, white_team, black, black_rating, black_team, result, valor_resultado):\n",
    "    instruccion = f'''\n",
    "    MERGE (u1:Usuario {{id:\"{white}\"}})\n",
    "    MERGE (u2:Usuario {{id:\"{black}\"}})\n",
    "    MERGE (t1:Equipo {{nombre_equipo:\"{white_team}\"}})\n",
    "    MERGE (t2:Equipo {{nombre_equipo:\"{black_team}\"}})\n",
    "    MERGE (u1)-[:juega_para]->(t1)\n",
    "    MERGE (u2)-[:juega_para]->(t2)\n",
    "    '''\n",
    "\n",
    "    if result == 1:\n",
    "        instruccion += f'MERGE (u1)-[g:gano_a {{valor_resultado:\"{valor_resultado}\", white_rating:\"{white_rating}\", black_rating:\"{black_rating}\"}}]->(u2)'\n",
    "    elif result == 0:\n",
    "        instruccion += f'MERGE (u2)-[g:gano_a {{valor_resultado:\"{valor_resultado}\", white_rating:\"{white_rating}\", black_rating:\"{black_rating}\"}}]->(u1)'\n",
    "    elif result == 0.5:\n",
    "        if white_rating >= black_rating:\n",
    "            instruccion += f'MERGE (u2)-[g:gano_a {{valor_resultado:\"{valor_resultado}\", white_rating:\"{white_rating}\", black_rating:\"{black_rating}\"}}]->(u1)'\n",
    "        else:\n",
    "            instruccion += f'MERGE (u1)-[g:gano_a {{valor_resultado:\"{valor_resultado}\", white_rating:\"{white_rating}\", black_rating:\"{black_rating}\"}}]->(u2)'\n",
    "    \n",
    "    return instruccion"
   ]
  },
  {
   "cell_type": "code",
   "execution_count": 28,
   "metadata": {},
   "outputs": [
    {
     "data": {
      "application/vnd.jupyter.widget-view+json": {
       "model_id": "c2a50482afb641e7bbd0d2e3d786e3a5",
       "version_major": 2,
       "version_minor": 0
      },
      "text/plain": [
       "  0%|          | 0/22021 [00:00<?, ?it/s]"
      ]
     },
     "metadata": {},
     "output_type": "display_data"
    }
   ],
   "source": [
    "flag_valor_resultado = False\n",
    "jugadores = set()\n",
    "equipos = set()\n",
    "result = 1000\n",
    "\n",
    "# iteramos sobre cada una de las líneas de games\n",
    "for i in tqm(games[:]):\n",
    "\n",
    "    # extracción de usuarios\n",
    "    if i.count('White \"'):\n",
    "        white_user_id = i[8:-2]\n",
    "        jugadores.add(white_user_id)\n",
    "    if i.count('Black \"'):\n",
    "        black_user_id = i[8:-2]\n",
    "        jugadores.add(black_user_id)\n",
    "\n",
    "    # extracción de resultado\n",
    "    if i.count('Result \"1-0\"'):\n",
    "        result = 1\n",
    "    elif i.count('Result \"0-1\"'):\n",
    "        result = 0\n",
    "    elif i.count('Result \"1/2-1/2\"'):\n",
    "        result = 0.5\n",
    "\n",
    "    # extracción de rating\n",
    "    if i.count('WhiteElo'):\n",
    "        white_rating = float(i[11:-2])\n",
    "    if i.count('BlackElo'):\n",
    "        black_rating = float(i[11:-2])\n",
    "        flag_valor_resultado = True\n",
    "\n",
    "    # extracción de equipo\n",
    "    if i.count('WhiteTeam'):\n",
    "        white_team = i[12:-2]\n",
    "        equipos.add(white_team)\n",
    "    if i.count('BlackTeam'):\n",
    "        black_team = i[12:-2]\n",
    "        equipos.add(black_team)\n",
    "        # agregar datos a Neo4j\n",
    "        instruccion = agregar_neo4j(white_user_id,\n",
    "                                    white_rating,\n",
    "                                    white_team,\n",
    "                                    black_user_id,\n",
    "                                    black_rating,\n",
    "                                    black_team,\n",
    "                                    result,\n",
    "                                    valor_de_resultado)\n",
    "        session.run(instruccion)\n",
    "\n",
    "    # cálculo de valor de resultado\n",
    "    if (result == 1) & (flag_valor_resultado == True):\n",
    "        valor_de_resultado = np.round(black_rating / white_rating, 2)\n",
    "        flag_valor_resultado = False\n",
    "    elif (result == 0) & (flag_valor_resultado == True):\n",
    "        valor_de_resultado = np.round(white_rating / black_rating, 2)\n",
    "        flag_valor_resultado = False\n",
    "    elif (result == 0.5) & (flag_valor_resultado == True):\n",
    "        if white_rating >= black_rating:\n",
    "            # deberá tener penalización el jugador con más rating que entabló\n",
    "            valor_de_resultado = np.round(white_rating / black_rating, 2)\n",
    "            flag_valor_resultado = False\n",
    "        else:\n",
    "            valor_de_resultado = np.round(black_rating / white_rating, 2)\n",
    "            flag_valor_resultado = False"
   ]
  },
  {
   "cell_type": "code",
   "execution_count": 5,
   "metadata": {},
   "outputs": [],
   "source": [
    "def exgrados_jugador(jugador):\n",
    "    \"\"\"\n",
    "    Obtiene los puntos por jugador via los exgrados de su nodo.\n",
    "    \"\"\"\n",
    "\n",
    "    instruccion = f'''\n",
    "    MATCH (u1:Usuario)\n",
    "    MATCH (u2:Usuario)\n",
    "    WHERE u1.id = '{jugador}'\n",
    "    MATCH (u1)-[:gano_a]->(u2)\n",
    "    RETURN count(*) as exgrados\n",
    "    '''\n",
    "    return session.run(instruccion).data()[0]['exgrados']\n",
    "\n",
    "def equipo_jugador(jugador):\n",
    "    \"\"\"\n",
    "    Obtiene el equipo de un jugador dado desde la base de Neo4j.\n",
    "    \"\"\"\n",
    "\n",
    "    instruccion = f'''\n",
    "    MATCH (u:Usuario)\n",
    "    MATCH (t:Equipo)\n",
    "    WHERE u.id = '{jugador}'\n",
    "    MATCH (u)-[:juega_para]->(t)\n",
    "    return t\n",
    "    '''\n",
    "\n",
    "    return session.run(instruccion).data()[0]['t']['nombre_equipo']\n",
    "\n",
    "def victorias_sobresalientes(jugador):\n",
    "    \"\"\"\n",
    "    Cuenta el número de partidas ganadas contra jugadores con\n",
    "    un rating mayor.\n",
    "    \"\"\"\n",
    "\n",
    "    instruccion = f'''\n",
    "    MATCH (u1:Usuario)\n",
    "    MATCH (u2:Usuario)\n",
    "    WHERE u1.id = '{jugador}'\n",
    "    MATCH (u1)-[g:gano_a]->(u2)\n",
    "    RETURN g.valor_resultado\n",
    "    '''\n",
    "\n",
    "    count = 0\n",
    "\n",
    "    for resultado in session.run(instruccion).data():\n",
    "        if float(resultado['g.valor_resultado']) > 1:\n",
    "            count += 1\n",
    "\n",
    "    return count\n",
    "\n",
    "def derrotas_jugador(jugador):\n",
    "    \"\"\"\n",
    "    Número de derrotas por jugador.\n",
    "    \"\"\"\n",
    "\n",
    "    instruccion = f'''\n",
    "    MATCH (u1:Usuario)\n",
    "    MATCH (u2:Usuario)\n",
    "    WHERE u1.id = '{jugador}'\n",
    "    MATCH (u2)-[g:gano_a]->(u1)\n",
    "    RETURN count(*) as ingrados\n",
    "    '''\n",
    "\n",
    "    return session.run(instruccion).data()[0]['ingrados']\n",
    "\n",
    "def peores_derrotas(jugador):\n",
    "    \"\"\"\n",
    "    Cuenta el número de derrotas contra jugadores inferiores\n",
    "    en el momento de la partida.\n",
    "    \"\"\"\n",
    "\n",
    "    instruccion = f'''\n",
    "    MATCH (u1:Usuario)\n",
    "    MATCH (u2:Usuario)\n",
    "    WHERE u1.id = '{jugador}'\n",
    "    MATCH (u2)-[g:gano_a]->(u1)\n",
    "    RETURN g.valor_resultado\n",
    "    '''\n",
    "\n",
    "    count = 0\n",
    "\n",
    "    for resultado in session.run(instruccion).data():\n",
    "        if float(resultado['g.valor_resultado']) > 1:\n",
    "            count += 1\n",
    "\n",
    "    return count"
   ]
  },
  {
   "cell_type": "markdown",
   "metadata": {},
   "source": [
    "# Ranking por equipos"
   ]
  },
  {
   "cell_type": "markdown",
   "metadata": {},
   "source": [
    "Con el número de exgrados por jugador de cada equipo podemos determinar qué equipo hizo más puntos."
   ]
  },
  {
   "cell_type": "code",
   "execution_count": 29,
   "metadata": {},
   "outputs": [
    {
     "data": {
      "application/vnd.jupyter.widget-view+json": {
       "model_id": "40fe63fd9ebc4614b1f8f9ace2a64eb1",
       "version_major": 2,
       "version_minor": 0
      },
      "text/plain": [
       "  0%|          | 0/115 [00:00<?, ?it/s]"
      ]
     },
     "metadata": {},
     "output_type": "display_data"
    }
   ],
   "source": [
    "# diccionario para almacenar resultados\n",
    "ranking_equipos = {}\n",
    "for equipo in equipos:\n",
    "    ranking_equipos[equipo] = 0\n",
    "\n",
    "# exgrados por participante\n",
    "for jugador in tqm(jugadores):\n",
    "    puntos = exgrados_jugador(jugador)\n",
    "    equipo = equipo_jugador(jugador)\n",
    "    ranking_equipos[equipo] += puntos"
   ]
  },
  {
   "cell_type": "code",
   "execution_count": 49,
   "metadata": {},
   "outputs": [
    {
     "data": {
      "text/html": [
       "<div>                            <div id=\"2803cfca-a010-46af-b718-e36d0722757f\" class=\"plotly-graph-div\" style=\"height:525px; width:100%;\"></div>            <script type=\"text/javascript\">                require([\"plotly\"], function(Plotly) {                    window.PLOTLYENV=window.PLOTLYENV || {};                                    if (document.getElementById(\"2803cfca-a010-46af-b718-e36d0722757f\")) {                    Plotly.newPlot(                        \"2803cfca-a010-46af-b718-e36d0722757f\",                        [{\"alignmentgroup\":\"True\",\"hovertemplate\":\"Instituci\\u00f3n=%{x}<br>Puntos=%{y}<extra></extra>\",\"legendgroup\":\"fes-iztacala-equipo-a\",\"marker\":{\"color\":\"#636efa\",\"opacity\":0.6,\"pattern\":{\"shape\":\"\"}},\"name\":\"fes-iztacala-equipo-a\",\"offsetgroup\":\"fes-iztacala-equipo-a\",\"orientation\":\"v\",\"showlegend\":true,\"textposition\":\"auto\",\"x\":[\"fes-iztacala-equipo-a\"],\"xaxis\":\"x\",\"y\":[113],\"yaxis\":\"y\",\"type\":\"bar\"},{\"alignmentgroup\":\"True\",\"hovertemplate\":\"Instituci\\u00f3n=%{x}<br>Puntos=%{y}<extra></extra>\",\"legendgroup\":\"seleccion-fes-acatlan\",\"marker\":{\"color\":\"#EF553B\",\"opacity\":0.6,\"pattern\":{\"shape\":\"\"}},\"name\":\"seleccion-fes-acatlan\",\"offsetgroup\":\"seleccion-fes-acatlan\",\"orientation\":\"v\",\"showlegend\":true,\"textposition\":\"auto\",\"x\":[\"seleccion-fes-acatlan\"],\"xaxis\":\"x\",\"y\":[93],\"yaxis\":\"y\",\"type\":\"bar\"},{\"alignmentgroup\":\"True\",\"hovertemplate\":\"Instituci\\u00f3n=%{x}<br>Puntos=%{y}<extra></extra>\",\"legendgroup\":\"facultad-de-contaduria-y-administracion-1\",\"marker\":{\"color\":\"#00cc96\",\"opacity\":0.6,\"pattern\":{\"shape\":\"\"}},\"name\":\"facultad-de-contaduria-y-administracion-1\",\"offsetgroup\":\"facultad-de-contaduria-y-administracion-1\",\"orientation\":\"v\",\"showlegend\":true,\"textposition\":\"auto\",\"x\":[\"facultad-de-contaduria-y-administracion-1\"],\"xaxis\":\"x\",\"y\":[76],\"yaxis\":\"y\",\"type\":\"bar\"},{\"alignmentgroup\":\"True\",\"hovertemplate\":\"Instituci\\u00f3n=%{x}<br>Puntos=%{y}<extra></extra>\",\"legendgroup\":\"cents-facultad-de-economia\",\"marker\":{\"color\":\"#ab63fa\",\"opacity\":0.6,\"pattern\":{\"shape\":\"\"}},\"name\":\"cents-facultad-de-economia\",\"offsetgroup\":\"cents-facultad-de-economia\",\"orientation\":\"v\",\"showlegend\":true,\"textposition\":\"auto\",\"x\":[\"cents-facultad-de-economia\"],\"xaxis\":\"x\",\"y\":[74],\"yaxis\":\"y\",\"type\":\"bar\"},{\"alignmentgroup\":\"True\",\"hovertemplate\":\"Instituci\\u00f3n=%{x}<br>Puntos=%{y}<extra></extra>\",\"legendgroup\":\"facultad-de-ingenieria-unam-a\",\"marker\":{\"color\":\"#FFA15A\",\"opacity\":0.6,\"pattern\":{\"shape\":\"\"}},\"name\":\"facultad-de-ingenieria-unam-a\",\"offsetgroup\":\"facultad-de-ingenieria-unam-a\",\"orientation\":\"v\",\"showlegend\":true,\"textposition\":\"auto\",\"x\":[\"facultad-de-ingenieria-unam-a\"],\"xaxis\":\"x\",\"y\":[68],\"yaxis\":\"y\",\"type\":\"bar\"},{\"alignmentgroup\":\"True\",\"hovertemplate\":\"Instituci\\u00f3n=%{x}<br>Puntos=%{y}<extra></extra>\",\"legendgroup\":\"facultad-de-quimica-2022\",\"marker\":{\"color\":\"#19d3f3\",\"opacity\":0.6,\"pattern\":{\"shape\":\"\"}},\"name\":\"facultad-de-quimica-2022\",\"offsetgroup\":\"facultad-de-quimica-2022\",\"orientation\":\"v\",\"showlegend\":true,\"textposition\":\"auto\",\"x\":[\"facultad-de-quimica-2022\"],\"xaxis\":\"x\",\"y\":[58],\"yaxis\":\"y\",\"type\":\"bar\"},{\"alignmentgroup\":\"True\",\"hovertemplate\":\"Instituci\\u00f3n=%{x}<br>Puntos=%{y}<extra></extra>\",\"legendgroup\":\"facultad-de-contaduria-y-administracion-2\",\"marker\":{\"color\":\"#FF6692\",\"opacity\":0.6,\"pattern\":{\"shape\":\"\"}},\"name\":\"facultad-de-contaduria-y-administracion-2\",\"offsetgroup\":\"facultad-de-contaduria-y-administracion-2\",\"orientation\":\"v\",\"showlegend\":true,\"textposition\":\"auto\",\"x\":[\"facultad-de-contaduria-y-administracion-2\"],\"xaxis\":\"x\",\"y\":[54],\"yaxis\":\"y\",\"type\":\"bar\"},{\"alignmentgroup\":\"True\",\"hovertemplate\":\"Instituci\\u00f3n=%{x}<br>Puntos=%{y}<extra></extra>\",\"legendgroup\":\"equipo-de-prepa-8\",\"marker\":{\"color\":\"#B6E880\",\"opacity\":0.6,\"pattern\":{\"shape\":\"\"}},\"name\":\"equipo-de-prepa-8\",\"offsetgroup\":\"equipo-de-prepa-8\",\"orientation\":\"v\",\"showlegend\":true,\"textposition\":\"auto\",\"x\":[\"equipo-de-prepa-8\"],\"xaxis\":\"x\",\"y\":[54],\"yaxis\":\"y\",\"type\":\"bar\"},{\"alignmentgroup\":\"True\",\"hovertemplate\":\"Instituci\\u00f3n=%{x}<br>Puntos=%{y}<extra></extra>\",\"legendgroup\":\"club-de-ajedrez-unam-enes-juriquilla\",\"marker\":{\"color\":\"#FF97FF\",\"opacity\":0.6,\"pattern\":{\"shape\":\"\"}},\"name\":\"club-de-ajedrez-unam-enes-juriquilla\",\"offsetgroup\":\"club-de-ajedrez-unam-enes-juriquilla\",\"orientation\":\"v\",\"showlegend\":true,\"textposition\":\"auto\",\"x\":[\"club-de-ajedrez-unam-enes-juriquilla\"],\"xaxis\":\"x\",\"y\":[48],\"yaxis\":\"y\",\"type\":\"bar\"},{\"alignmentgroup\":\"True\",\"hovertemplate\":\"Instituci\\u00f3n=%{x}<br>Puntos=%{y}<extra></extra>\",\"legendgroup\":\"facultad-de-filosofia-y-letras-filosos-y-letrosos\",\"marker\":{\"color\":\"#FECB52\",\"opacity\":0.6,\"pattern\":{\"shape\":\"\"}},\"name\":\"facultad-de-filosofia-y-letras-filosos-y-letrosos\",\"offsetgroup\":\"facultad-de-filosofia-y-letras-filosos-y-letrosos\",\"orientation\":\"v\",\"showlegend\":true,\"textposition\":\"auto\",\"x\":[\"facultad-de-filosofia-y-letras-filosos-y-letrosos\"],\"xaxis\":\"x\",\"y\":[43],\"yaxis\":\"y\",\"type\":\"bar\"},{\"alignmentgroup\":\"True\",\"hovertemplate\":\"Instituci\\u00f3n=%{x}<br>Puntos=%{y}<extra></extra>\",\"legendgroup\":\"cch-naucalpan-2022-2\",\"marker\":{\"color\":\"#636efa\",\"opacity\":0.6,\"pattern\":{\"shape\":\"\"}},\"name\":\"cch-naucalpan-2022-2\",\"offsetgroup\":\"cch-naucalpan-2022-2\",\"orientation\":\"v\",\"showlegend\":true,\"textposition\":\"auto\",\"x\":[\"cch-naucalpan-2022-2\"],\"xaxis\":\"x\",\"y\":[40],\"yaxis\":\"y\",\"type\":\"bar\"},{\"alignmentgroup\":\"True\",\"hovertemplate\":\"Instituci\\u00f3n=%{x}<br>Puntos=%{y}<extra></extra>\",\"legendgroup\":\"escuela-nacional-preparatoria--3\",\"marker\":{\"color\":\"#EF553B\",\"opacity\":0.6,\"pattern\":{\"shape\":\"\"}},\"name\":\"escuela-nacional-preparatoria--3\",\"offsetgroup\":\"escuela-nacional-preparatoria--3\",\"orientation\":\"v\",\"showlegend\":true,\"textposition\":\"auto\",\"x\":[\"escuela-nacional-preparatoria--3\"],\"xaxis\":\"x\",\"y\":[40],\"yaxis\":\"y\",\"type\":\"bar\"},{\"alignmentgroup\":\"True\",\"hovertemplate\":\"Instituci\\u00f3n=%{x}<br>Puntos=%{y}<extra></extra>\",\"legendgroup\":\"fes-zaragoza-2022\",\"marker\":{\"color\":\"#00cc96\",\"opacity\":0.6,\"pattern\":{\"shape\":\"\"}},\"name\":\"fes-zaragoza-2022\",\"offsetgroup\":\"fes-zaragoza-2022\",\"orientation\":\"v\",\"showlegend\":true,\"textposition\":\"auto\",\"x\":[\"fes-zaragoza-2022\"],\"xaxis\":\"x\",\"y\":[39],\"yaxis\":\"y\",\"type\":\"bar\"},{\"alignmentgroup\":\"True\",\"hovertemplate\":\"Instituci\\u00f3n=%{x}<br>Puntos=%{y}<extra></extra>\",\"legendgroup\":\"cents-facultad-de-economia-b\",\"marker\":{\"color\":\"#ab63fa\",\"opacity\":0.6,\"pattern\":{\"shape\":\"\"}},\"name\":\"cents-facultad-de-economia-b\",\"offsetgroup\":\"cents-facultad-de-economia-b\",\"orientation\":\"v\",\"showlegend\":true,\"textposition\":\"auto\",\"x\":[\"cents-facultad-de-economia-b\"],\"xaxis\":\"x\",\"y\":[37],\"yaxis\":\"y\",\"type\":\"bar\"},{\"alignmentgroup\":\"True\",\"hovertemplate\":\"Instituci\\u00f3n=%{x}<br>Puntos=%{y}<extra></extra>\",\"legendgroup\":\"fes-aragon-femenil\",\"marker\":{\"color\":\"#FFA15A\",\"opacity\":0.6,\"pattern\":{\"shape\":\"\"}},\"name\":\"fes-aragon-femenil\",\"offsetgroup\":\"fes-aragon-femenil\",\"orientation\":\"v\",\"showlegend\":true,\"textposition\":\"auto\",\"x\":[\"fes-aragon-femenil\"],\"xaxis\":\"x\",\"y\":[36],\"yaxis\":\"y\",\"type\":\"bar\"},{\"alignmentgroup\":\"True\",\"hovertemplate\":\"Instituci\\u00f3n=%{x}<br>Puntos=%{y}<extra></extra>\",\"legendgroup\":\"equipo-varonil-fes-aragon\",\"marker\":{\"color\":\"#19d3f3\",\"opacity\":0.6,\"pattern\":{\"shape\":\"\"}},\"name\":\"equipo-varonil-fes-aragon\",\"offsetgroup\":\"equipo-varonil-fes-aragon\",\"orientation\":\"v\",\"showlegend\":true,\"textposition\":\"auto\",\"x\":[\"equipo-varonil-fes-aragon\"],\"xaxis\":\"x\",\"y\":[35],\"yaxis\":\"y\",\"type\":\"bar\"},{\"alignmentgroup\":\"True\",\"hovertemplate\":\"Instituci\\u00f3n=%{x}<br>Puntos=%{y}<extra></extra>\",\"legendgroup\":\"enp-6\",\"marker\":{\"color\":\"#FF6692\",\"opacity\":0.6,\"pattern\":{\"shape\":\"\"}},\"name\":\"enp-6\",\"offsetgroup\":\"enp-6\",\"orientation\":\"v\",\"showlegend\":true,\"textposition\":\"auto\",\"x\":[\"enp-6\"],\"xaxis\":\"x\",\"y\":[26],\"yaxis\":\"y\",\"type\":\"bar\"},{\"alignmentgroup\":\"True\",\"hovertemplate\":\"Instituci\\u00f3n=%{x}<br>Puntos=%{y}<extra></extra>\",\"legendgroup\":\"escuela-nacional-preparatoria--4\",\"marker\":{\"color\":\"#B6E880\",\"opacity\":0.6,\"pattern\":{\"shape\":\"\"}},\"name\":\"escuela-nacional-preparatoria--4\",\"offsetgroup\":\"escuela-nacional-preparatoria--4\",\"orientation\":\"v\",\"showlegend\":true,\"textposition\":\"auto\",\"x\":[\"escuela-nacional-preparatoria--4\"],\"xaxis\":\"x\",\"y\":[24],\"yaxis\":\"y\",\"type\":\"bar\"},{\"alignmentgroup\":\"True\",\"hovertemplate\":\"Instituci\\u00f3n=%{x}<br>Puntos=%{y}<extra></extra>\",\"legendgroup\":\"iniciacion-enp-2\",\"marker\":{\"color\":\"#FF97FF\",\"opacity\":0.6,\"pattern\":{\"shape\":\"\"}},\"name\":\"iniciacion-enp-2\",\"offsetgroup\":\"iniciacion-enp-2\",\"orientation\":\"v\",\"showlegend\":true,\"textposition\":\"auto\",\"x\":[\"iniciacion-enp-2\"],\"xaxis\":\"x\",\"y\":[17],\"yaxis\":\"y\",\"type\":\"bar\"},{\"alignmentgroup\":\"True\",\"hovertemplate\":\"Instituci\\u00f3n=%{x}<br>Puntos=%{y}<extra></extra>\",\"legendgroup\":\"facultad-de-derecho\",\"marker\":{\"color\":\"#FECB52\",\"opacity\":0.6,\"pattern\":{\"shape\":\"\"}},\"name\":\"facultad-de-derecho\",\"offsetgroup\":\"facultad-de-derecho\",\"orientation\":\"v\",\"showlegend\":true,\"textposition\":\"auto\",\"x\":[\"facultad-de-derecho\"],\"xaxis\":\"x\",\"y\":[10],\"yaxis\":\"y\",\"type\":\"bar\"},{\"alignmentgroup\":\"True\",\"hovertemplate\":\"Instituci\\u00f3n=%{x}<br>Puntos=%{y}<extra></extra>\",\"legendgroup\":\"enes-morelia\",\"marker\":{\"color\":\"#636efa\",\"opacity\":0.6,\"pattern\":{\"shape\":\"\"}},\"name\":\"enes-morelia\",\"offsetgroup\":\"enes-morelia\",\"orientation\":\"v\",\"showlegend\":true,\"textposition\":\"auto\",\"x\":[\"enes-morelia\"],\"xaxis\":\"x\",\"y\":[9],\"yaxis\":\"y\",\"type\":\"bar\"},{\"alignmentgroup\":\"True\",\"hovertemplate\":\"Instituci\\u00f3n=%{x}<br>Puntos=%{y}<extra></extra>\",\"legendgroup\":\"fes-cuautitlan-c4\",\"marker\":{\"color\":\"#EF553B\",\"opacity\":0.6,\"pattern\":{\"shape\":\"\"}},\"name\":\"fes-cuautitlan-c4\",\"offsetgroup\":\"fes-cuautitlan-c4\",\"orientation\":\"v\",\"showlegend\":true,\"textposition\":\"auto\",\"x\":[\"fes-cuautitlan-c4\"],\"xaxis\":\"x\",\"y\":[6],\"yaxis\":\"y\",\"type\":\"bar\"},{\"alignmentgroup\":\"True\",\"hovertemplate\":\"Instituci\\u00f3n=%{x}<br>Puntos=%{y}<extra></extra>\",\"legendgroup\":\"prepa-1\",\"marker\":{\"color\":\"#00cc96\",\"opacity\":0.6,\"pattern\":{\"shape\":\"\"}},\"name\":\"prepa-1\",\"offsetgroup\":\"prepa-1\",\"orientation\":\"v\",\"showlegend\":true,\"textposition\":\"auto\",\"x\":[\"prepa-1\"],\"xaxis\":\"x\",\"y\":[0],\"yaxis\":\"y\",\"type\":\"bar\"}],                        {\"template\":{\"data\":{\"barpolar\":[{\"marker\":{\"line\":{\"color\":\"rgb(17,17,17)\",\"width\":0.5},\"pattern\":{\"fillmode\":\"overlay\",\"size\":10,\"solidity\":0.2}},\"type\":\"barpolar\"}],\"bar\":[{\"error_x\":{\"color\":\"#f2f5fa\"},\"error_y\":{\"color\":\"#f2f5fa\"},\"marker\":{\"line\":{\"color\":\"rgb(17,17,17)\",\"width\":0.5},\"pattern\":{\"fillmode\":\"overlay\",\"size\":10,\"solidity\":0.2}},\"type\":\"bar\"}],\"carpet\":[{\"aaxis\":{\"endlinecolor\":\"#A2B1C6\",\"gridcolor\":\"#506784\",\"linecolor\":\"#506784\",\"minorgridcolor\":\"#506784\",\"startlinecolor\":\"#A2B1C6\"},\"baxis\":{\"endlinecolor\":\"#A2B1C6\",\"gridcolor\":\"#506784\",\"linecolor\":\"#506784\",\"minorgridcolor\":\"#506784\",\"startlinecolor\":\"#A2B1C6\"},\"type\":\"carpet\"}],\"choropleth\":[{\"colorbar\":{\"outlinewidth\":0,\"ticks\":\"\"},\"type\":\"choropleth\"}],\"contourcarpet\":[{\"colorbar\":{\"outlinewidth\":0,\"ticks\":\"\"},\"type\":\"contourcarpet\"}],\"contour\":[{\"colorbar\":{\"outlinewidth\":0,\"ticks\":\"\"},\"colorscale\":[[0.0,\"#0d0887\"],[0.1111111111111111,\"#46039f\"],[0.2222222222222222,\"#7201a8\"],[0.3333333333333333,\"#9c179e\"],[0.4444444444444444,\"#bd3786\"],[0.5555555555555556,\"#d8576b\"],[0.6666666666666666,\"#ed7953\"],[0.7777777777777778,\"#fb9f3a\"],[0.8888888888888888,\"#fdca26\"],[1.0,\"#f0f921\"]],\"type\":\"contour\"}],\"heatmapgl\":[{\"colorbar\":{\"outlinewidth\":0,\"ticks\":\"\"},\"colorscale\":[[0.0,\"#0d0887\"],[0.1111111111111111,\"#46039f\"],[0.2222222222222222,\"#7201a8\"],[0.3333333333333333,\"#9c179e\"],[0.4444444444444444,\"#bd3786\"],[0.5555555555555556,\"#d8576b\"],[0.6666666666666666,\"#ed7953\"],[0.7777777777777778,\"#fb9f3a\"],[0.8888888888888888,\"#fdca26\"],[1.0,\"#f0f921\"]],\"type\":\"heatmapgl\"}],\"heatmap\":[{\"colorbar\":{\"outlinewidth\":0,\"ticks\":\"\"},\"colorscale\":[[0.0,\"#0d0887\"],[0.1111111111111111,\"#46039f\"],[0.2222222222222222,\"#7201a8\"],[0.3333333333333333,\"#9c179e\"],[0.4444444444444444,\"#bd3786\"],[0.5555555555555556,\"#d8576b\"],[0.6666666666666666,\"#ed7953\"],[0.7777777777777778,\"#fb9f3a\"],[0.8888888888888888,\"#fdca26\"],[1.0,\"#f0f921\"]],\"type\":\"heatmap\"}],\"histogram2dcontour\":[{\"colorbar\":{\"outlinewidth\":0,\"ticks\":\"\"},\"colorscale\":[[0.0,\"#0d0887\"],[0.1111111111111111,\"#46039f\"],[0.2222222222222222,\"#7201a8\"],[0.3333333333333333,\"#9c179e\"],[0.4444444444444444,\"#bd3786\"],[0.5555555555555556,\"#d8576b\"],[0.6666666666666666,\"#ed7953\"],[0.7777777777777778,\"#fb9f3a\"],[0.8888888888888888,\"#fdca26\"],[1.0,\"#f0f921\"]],\"type\":\"histogram2dcontour\"}],\"histogram2d\":[{\"colorbar\":{\"outlinewidth\":0,\"ticks\":\"\"},\"colorscale\":[[0.0,\"#0d0887\"],[0.1111111111111111,\"#46039f\"],[0.2222222222222222,\"#7201a8\"],[0.3333333333333333,\"#9c179e\"],[0.4444444444444444,\"#bd3786\"],[0.5555555555555556,\"#d8576b\"],[0.6666666666666666,\"#ed7953\"],[0.7777777777777778,\"#fb9f3a\"],[0.8888888888888888,\"#fdca26\"],[1.0,\"#f0f921\"]],\"type\":\"histogram2d\"}],\"histogram\":[{\"marker\":{\"pattern\":{\"fillmode\":\"overlay\",\"size\":10,\"solidity\":0.2}},\"type\":\"histogram\"}],\"mesh3d\":[{\"colorbar\":{\"outlinewidth\":0,\"ticks\":\"\"},\"type\":\"mesh3d\"}],\"parcoords\":[{\"line\":{\"colorbar\":{\"outlinewidth\":0,\"ticks\":\"\"}},\"type\":\"parcoords\"}],\"pie\":[{\"automargin\":true,\"type\":\"pie\"}],\"scatter3d\":[{\"line\":{\"colorbar\":{\"outlinewidth\":0,\"ticks\":\"\"}},\"marker\":{\"colorbar\":{\"outlinewidth\":0,\"ticks\":\"\"}},\"type\":\"scatter3d\"}],\"scattercarpet\":[{\"marker\":{\"colorbar\":{\"outlinewidth\":0,\"ticks\":\"\"}},\"type\":\"scattercarpet\"}],\"scattergeo\":[{\"marker\":{\"colorbar\":{\"outlinewidth\":0,\"ticks\":\"\"}},\"type\":\"scattergeo\"}],\"scattergl\":[{\"marker\":{\"line\":{\"color\":\"#283442\"}},\"type\":\"scattergl\"}],\"scattermapbox\":[{\"marker\":{\"colorbar\":{\"outlinewidth\":0,\"ticks\":\"\"}},\"type\":\"scattermapbox\"}],\"scatterpolargl\":[{\"marker\":{\"colorbar\":{\"outlinewidth\":0,\"ticks\":\"\"}},\"type\":\"scatterpolargl\"}],\"scatterpolar\":[{\"marker\":{\"colorbar\":{\"outlinewidth\":0,\"ticks\":\"\"}},\"type\":\"scatterpolar\"}],\"scatter\":[{\"marker\":{\"line\":{\"color\":\"#283442\"}},\"type\":\"scatter\"}],\"scatterternary\":[{\"marker\":{\"colorbar\":{\"outlinewidth\":0,\"ticks\":\"\"}},\"type\":\"scatterternary\"}],\"surface\":[{\"colorbar\":{\"outlinewidth\":0,\"ticks\":\"\"},\"colorscale\":[[0.0,\"#0d0887\"],[0.1111111111111111,\"#46039f\"],[0.2222222222222222,\"#7201a8\"],[0.3333333333333333,\"#9c179e\"],[0.4444444444444444,\"#bd3786\"],[0.5555555555555556,\"#d8576b\"],[0.6666666666666666,\"#ed7953\"],[0.7777777777777778,\"#fb9f3a\"],[0.8888888888888888,\"#fdca26\"],[1.0,\"#f0f921\"]],\"type\":\"surface\"}],\"table\":[{\"cells\":{\"fill\":{\"color\":\"#506784\"},\"line\":{\"color\":\"rgb(17,17,17)\"}},\"header\":{\"fill\":{\"color\":\"#2a3f5f\"},\"line\":{\"color\":\"rgb(17,17,17)\"}},\"type\":\"table\"}]},\"layout\":{\"annotationdefaults\":{\"arrowcolor\":\"#f2f5fa\",\"arrowhead\":0,\"arrowwidth\":1},\"autotypenumbers\":\"strict\",\"coloraxis\":{\"colorbar\":{\"outlinewidth\":0,\"ticks\":\"\"}},\"colorscale\":{\"diverging\":[[0,\"#8e0152\"],[0.1,\"#c51b7d\"],[0.2,\"#de77ae\"],[0.3,\"#f1b6da\"],[0.4,\"#fde0ef\"],[0.5,\"#f7f7f7\"],[0.6,\"#e6f5d0\"],[0.7,\"#b8e186\"],[0.8,\"#7fbc41\"],[0.9,\"#4d9221\"],[1,\"#276419\"]],\"sequential\":[[0.0,\"#0d0887\"],[0.1111111111111111,\"#46039f\"],[0.2222222222222222,\"#7201a8\"],[0.3333333333333333,\"#9c179e\"],[0.4444444444444444,\"#bd3786\"],[0.5555555555555556,\"#d8576b\"],[0.6666666666666666,\"#ed7953\"],[0.7777777777777778,\"#fb9f3a\"],[0.8888888888888888,\"#fdca26\"],[1.0,\"#f0f921\"]],\"sequentialminus\":[[0.0,\"#0d0887\"],[0.1111111111111111,\"#46039f\"],[0.2222222222222222,\"#7201a8\"],[0.3333333333333333,\"#9c179e\"],[0.4444444444444444,\"#bd3786\"],[0.5555555555555556,\"#d8576b\"],[0.6666666666666666,\"#ed7953\"],[0.7777777777777778,\"#fb9f3a\"],[0.8888888888888888,\"#fdca26\"],[1.0,\"#f0f921\"]]},\"colorway\":[\"#636efa\",\"#EF553B\",\"#00cc96\",\"#ab63fa\",\"#FFA15A\",\"#19d3f3\",\"#FF6692\",\"#B6E880\",\"#FF97FF\",\"#FECB52\"],\"font\":{\"color\":\"#f2f5fa\"},\"geo\":{\"bgcolor\":\"rgb(17,17,17)\",\"lakecolor\":\"rgb(17,17,17)\",\"landcolor\":\"rgb(17,17,17)\",\"showlakes\":true,\"showland\":true,\"subunitcolor\":\"#506784\"},\"hoverlabel\":{\"align\":\"left\"},\"hovermode\":\"closest\",\"mapbox\":{\"style\":\"dark\"},\"paper_bgcolor\":\"rgb(17,17,17)\",\"plot_bgcolor\":\"rgb(17,17,17)\",\"polar\":{\"angularaxis\":{\"gridcolor\":\"#506784\",\"linecolor\":\"#506784\",\"ticks\":\"\"},\"bgcolor\":\"rgb(17,17,17)\",\"radialaxis\":{\"gridcolor\":\"#506784\",\"linecolor\":\"#506784\",\"ticks\":\"\"}},\"scene\":{\"xaxis\":{\"backgroundcolor\":\"rgb(17,17,17)\",\"gridcolor\":\"#506784\",\"gridwidth\":2,\"linecolor\":\"#506784\",\"showbackground\":true,\"ticks\":\"\",\"zerolinecolor\":\"#C8D4E3\"},\"yaxis\":{\"backgroundcolor\":\"rgb(17,17,17)\",\"gridcolor\":\"#506784\",\"gridwidth\":2,\"linecolor\":\"#506784\",\"showbackground\":true,\"ticks\":\"\",\"zerolinecolor\":\"#C8D4E3\"},\"zaxis\":{\"backgroundcolor\":\"rgb(17,17,17)\",\"gridcolor\":\"#506784\",\"gridwidth\":2,\"linecolor\":\"#506784\",\"showbackground\":true,\"ticks\":\"\",\"zerolinecolor\":\"#C8D4E3\"}},\"shapedefaults\":{\"line\":{\"color\":\"#f2f5fa\"}},\"sliderdefaults\":{\"bgcolor\":\"#C8D4E3\",\"bordercolor\":\"rgb(17,17,17)\",\"borderwidth\":1,\"tickwidth\":0},\"ternary\":{\"aaxis\":{\"gridcolor\":\"#506784\",\"linecolor\":\"#506784\",\"ticks\":\"\"},\"baxis\":{\"gridcolor\":\"#506784\",\"linecolor\":\"#506784\",\"ticks\":\"\"},\"bgcolor\":\"rgb(17,17,17)\",\"caxis\":{\"gridcolor\":\"#506784\",\"linecolor\":\"#506784\",\"ticks\":\"\"}},\"title\":{\"x\":0.05},\"updatemenudefaults\":{\"bgcolor\":\"#506784\",\"borderwidth\":0},\"xaxis\":{\"automargin\":true,\"gridcolor\":\"#283442\",\"linecolor\":\"#506784\",\"ticks\":\"\",\"title\":{\"standoff\":15},\"zerolinecolor\":\"#283442\",\"zerolinewidth\":2},\"yaxis\":{\"automargin\":true,\"gridcolor\":\"#283442\",\"linecolor\":\"#506784\",\"ticks\":\"\",\"title\":{\"standoff\":15},\"zerolinecolor\":\"#283442\",\"zerolinewidth\":2}}},\"xaxis\":{\"anchor\":\"y\",\"domain\":[0.0,1.0],\"title\":{\"text\":\"Instituci\\u00f3n\"},\"categoryorder\":\"array\",\"categoryarray\":[\"fes-iztacala-equipo-a\",\"seleccion-fes-acatlan\",\"facultad-de-contaduria-y-administracion-1\",\"cents-facultad-de-economia\",\"facultad-de-ingenieria-unam-a\",\"facultad-de-quimica-2022\",\"facultad-de-contaduria-y-administracion-2\",\"equipo-de-prepa-8\",\"club-de-ajedrez-unam-enes-juriquilla\",\"facultad-de-filosofia-y-letras-filosos-y-letrosos\",\"cch-naucalpan-2022-2\",\"escuela-nacional-preparatoria--3\",\"fes-zaragoza-2022\",\"cents-facultad-de-economia-b\",\"fes-aragon-femenil\",\"equipo-varonil-fes-aragon\",\"enp-6\",\"escuela-nacional-preparatoria--4\",\"iniciacion-enp-2\",\"facultad-de-derecho\",\"enes-morelia\",\"fes-cuautitlan-c4\",\"prepa-1\"]},\"yaxis\":{\"anchor\":\"x\",\"domain\":[0.0,1.0],\"title\":{\"text\":\"Puntos\"}},\"legend\":{\"title\":{\"text\":\"Instituci\\u00f3n\"},\"tracegroupgap\":0},\"margin\":{\"t\":60},\"barmode\":\"relative\",\"showlegend\":false},                        {\"responsive\": true}                    ).then(function(){\n",
       "                            \n",
       "var gd = document.getElementById('2803cfca-a010-46af-b718-e36d0722757f');\n",
       "var x = new MutationObserver(function (mutations, observer) {{\n",
       "        var display = window.getComputedStyle(gd).display;\n",
       "        if (!display || display === 'none') {{\n",
       "            console.log([gd, 'removed!']);\n",
       "            Plotly.purge(gd);\n",
       "            observer.disconnect();\n",
       "        }}\n",
       "}});\n",
       "\n",
       "// Listen for the removal of the full notebook cells\n",
       "var notebookContainer = gd.closest('#notebook-container');\n",
       "if (notebookContainer) {{\n",
       "    x.observe(notebookContainer, {childList: true});\n",
       "}}\n",
       "\n",
       "// Listen for the clearing of the current output cell\n",
       "var outputEl = gd.closest('.output');\n",
       "if (outputEl) {{\n",
       "    x.observe(outputEl, {childList: true});\n",
       "}}\n",
       "\n",
       "                        })                };                });            </script>        </div>"
      ]
     },
     "metadata": {},
     "output_type": "display_data"
    }
   ],
   "source": [
    "# DataFrame para realizar gráfico\n",
    "ranking_equipos_df = pd.DataFrame({'Institución':ranking_equipos.keys(),\n",
    "                                   'Puntos':ranking_equipos.values()})\n",
    "\n",
    "# gráfica\n",
    "fig = px.bar(ranking_equipos_df.sort_values('Puntos', ascending=False), x='Institución', y='Puntos', color='Institución', opacity=0.6)\n",
    "fig.update_layout(\n",
    "    showlegend=False,\n",
    "    template='plotly_dark'\n",
    "    )\n",
    "fig.show()"
   ]
  },
  {
   "cell_type": "markdown",
   "metadata": {},
   "source": [
    "![img1](./imgs/rank.png)\n"
   ]
  },
  {
   "cell_type": "markdown",
   "metadata": {},
   "source": [
    "# Posibles jugadores tramposos o que sobresalieron"
   ]
  },
  {
   "cell_type": "code",
   "execution_count": 32,
   "metadata": {},
   "outputs": [
    {
     "data": {
      "application/vnd.jupyter.widget-view+json": {
       "model_id": "ada63a3920cb4f2b89f23e976631235b",
       "version_major": 2,
       "version_minor": 0
      },
      "text/plain": [
       "  0%|          | 0/115 [00:00<?, ?it/s]"
      ]
     },
     "metadata": {},
     "output_type": "display_data"
    }
   ],
   "source": [
    "# diccionario para almacenar resultados\n",
    "resultados_sobresalientes = {}\n",
    "\n",
    "# exgrados por participante\n",
    "for jugador in tqm(jugadores):\n",
    "    resultados_sobresalientes[jugador] = victorias_sobresalientes(jugador)"
   ]
  },
  {
   "cell_type": "code",
   "execution_count": 52,
   "metadata": {},
   "outputs": [
    {
     "data": {
      "text/html": [
       "<div>                            <div id=\"90f5000d-4557-4b41-9e2f-80c1b2f0efc9\" class=\"plotly-graph-div\" style=\"height:525px; width:100%;\"></div>            <script type=\"text/javascript\">                require([\"plotly\"], function(Plotly) {                    window.PLOTLYENV=window.PLOTLYENV || {};                                    if (document.getElementById(\"90f5000d-4557-4b41-9e2f-80c1b2f0efc9\")) {                    Plotly.newPlot(                        \"90f5000d-4557-4b41-9e2f-80c1b2f0efc9\",                        [{\"alignmentgroup\":\"True\",\"hovertemplate\":\"Jugador=%{x}<br>Puntos destacados=%{y}<extra></extra>\",\"legendgroup\":\"Vlad_III-lea\",\"marker\":{\"color\":\"#636efa\",\"opacity\":0.6,\"pattern\":{\"shape\":\"\"}},\"name\":\"Vlad_III-lea\",\"offsetgroup\":\"Vlad_III-lea\",\"orientation\":\"v\",\"showlegend\":true,\"textposition\":\"auto\",\"x\":[\"Vlad_III-lea\"],\"xaxis\":\"x\",\"y\":[10],\"yaxis\":\"y\",\"type\":\"bar\"},{\"alignmentgroup\":\"True\",\"hovertemplate\":\"Jugador=%{x}<br>Puntos destacados=%{y}<extra></extra>\",\"legendgroup\":\"yoshua18\",\"marker\":{\"color\":\"#EF553B\",\"opacity\":0.6,\"pattern\":{\"shape\":\"\"}},\"name\":\"yoshua18\",\"offsetgroup\":\"yoshua18\",\"orientation\":\"v\",\"showlegend\":true,\"textposition\":\"auto\",\"x\":[\"yoshua18\"],\"xaxis\":\"x\",\"y\":[9],\"yaxis\":\"y\",\"type\":\"bar\"},{\"alignmentgroup\":\"True\",\"hovertemplate\":\"Jugador=%{x}<br>Puntos destacados=%{y}<extra></extra>\",\"legendgroup\":\"Iturbide18\",\"marker\":{\"color\":\"#00cc96\",\"opacity\":0.6,\"pattern\":{\"shape\":\"\"}},\"name\":\"Iturbide18\",\"offsetgroup\":\"Iturbide18\",\"orientation\":\"v\",\"showlegend\":true,\"textposition\":\"auto\",\"x\":[\"Iturbide18\"],\"xaxis\":\"x\",\"y\":[8],\"yaxis\":\"y\",\"type\":\"bar\"},{\"alignmentgroup\":\"True\",\"hovertemplate\":\"Jugador=%{x}<br>Puntos destacados=%{y}<extra></extra>\",\"legendgroup\":\"lucabrasi29\",\"marker\":{\"color\":\"#ab63fa\",\"opacity\":0.6,\"pattern\":{\"shape\":\"\"}},\"name\":\"lucabrasi29\",\"offsetgroup\":\"lucabrasi29\",\"orientation\":\"v\",\"showlegend\":true,\"textposition\":\"auto\",\"x\":[\"lucabrasi29\"],\"xaxis\":\"x\",\"y\":[7],\"yaxis\":\"y\",\"type\":\"bar\"},{\"alignmentgroup\":\"True\",\"hovertemplate\":\"Jugador=%{x}<br>Puntos destacados=%{y}<extra></extra>\",\"legendgroup\":\"Zarate_21\",\"marker\":{\"color\":\"#FFA15A\",\"opacity\":0.6,\"pattern\":{\"shape\":\"\"}},\"name\":\"Zarate_21\",\"offsetgroup\":\"Zarate_21\",\"orientation\":\"v\",\"showlegend\":true,\"textposition\":\"auto\",\"x\":[\"Zarate_21\"],\"xaxis\":\"x\",\"y\":[7],\"yaxis\":\"y\",\"type\":\"bar\"},{\"alignmentgroup\":\"True\",\"hovertemplate\":\"Jugador=%{x}<br>Puntos destacados=%{y}<extra></extra>\",\"legendgroup\":\"Isr_00\",\"marker\":{\"color\":\"#19d3f3\",\"opacity\":0.6,\"pattern\":{\"shape\":\"\"}},\"name\":\"Isr_00\",\"offsetgroup\":\"Isr_00\",\"orientation\":\"v\",\"showlegend\":true,\"textposition\":\"auto\",\"x\":[\"Isr_00\"],\"xaxis\":\"x\",\"y\":[6],\"yaxis\":\"y\",\"type\":\"bar\"},{\"alignmentgroup\":\"True\",\"hovertemplate\":\"Jugador=%{x}<br>Puntos destacados=%{y}<extra></extra>\",\"legendgroup\":\"LsAlbertoBullet\",\"marker\":{\"color\":\"#FF6692\",\"opacity\":0.6,\"pattern\":{\"shape\":\"\"}},\"name\":\"LsAlbertoBullet\",\"offsetgroup\":\"LsAlbertoBullet\",\"orientation\":\"v\",\"showlegend\":true,\"textposition\":\"auto\",\"x\":[\"LsAlbertoBullet\"],\"xaxis\":\"x\",\"y\":[6],\"yaxis\":\"y\",\"type\":\"bar\"},{\"alignmentgroup\":\"True\",\"hovertemplate\":\"Jugador=%{x}<br>Puntos destacados=%{y}<extra></extra>\",\"legendgroup\":\"FabianPoisot07\",\"marker\":{\"color\":\"#B6E880\",\"opacity\":0.6,\"pattern\":{\"shape\":\"\"}},\"name\":\"FabianPoisot07\",\"offsetgroup\":\"FabianPoisot07\",\"orientation\":\"v\",\"showlegend\":true,\"textposition\":\"auto\",\"x\":[\"FabianPoisot07\"],\"xaxis\":\"x\",\"y\":[6],\"yaxis\":\"y\",\"type\":\"bar\"},{\"alignmentgroup\":\"True\",\"hovertemplate\":\"Jugador=%{x}<br>Puntos destacados=%{y}<extra></extra>\",\"legendgroup\":\"Luckmoto\",\"marker\":{\"color\":\"#FF97FF\",\"opacity\":0.6,\"pattern\":{\"shape\":\"\"}},\"name\":\"Luckmoto\",\"offsetgroup\":\"Luckmoto\",\"orientation\":\"v\",\"showlegend\":true,\"textposition\":\"auto\",\"x\":[\"Luckmoto\"],\"xaxis\":\"x\",\"y\":[6],\"yaxis\":\"y\",\"type\":\"bar\"},{\"alignmentgroup\":\"True\",\"hovertemplate\":\"Jugador=%{x}<br>Puntos destacados=%{y}<extra></extra>\",\"legendgroup\":\"Yerma\",\"marker\":{\"color\":\"#FECB52\",\"opacity\":0.6,\"pattern\":{\"shape\":\"\"}},\"name\":\"Yerma\",\"offsetgroup\":\"Yerma\",\"orientation\":\"v\",\"showlegend\":true,\"textposition\":\"auto\",\"x\":[\"Yerma\"],\"xaxis\":\"x\",\"y\":[6],\"yaxis\":\"y\",\"type\":\"bar\"}],                        {\"template\":{\"data\":{\"barpolar\":[{\"marker\":{\"line\":{\"color\":\"rgb(17,17,17)\",\"width\":0.5},\"pattern\":{\"fillmode\":\"overlay\",\"size\":10,\"solidity\":0.2}},\"type\":\"barpolar\"}],\"bar\":[{\"error_x\":{\"color\":\"#f2f5fa\"},\"error_y\":{\"color\":\"#f2f5fa\"},\"marker\":{\"line\":{\"color\":\"rgb(17,17,17)\",\"width\":0.5},\"pattern\":{\"fillmode\":\"overlay\",\"size\":10,\"solidity\":0.2}},\"type\":\"bar\"}],\"carpet\":[{\"aaxis\":{\"endlinecolor\":\"#A2B1C6\",\"gridcolor\":\"#506784\",\"linecolor\":\"#506784\",\"minorgridcolor\":\"#506784\",\"startlinecolor\":\"#A2B1C6\"},\"baxis\":{\"endlinecolor\":\"#A2B1C6\",\"gridcolor\":\"#506784\",\"linecolor\":\"#506784\",\"minorgridcolor\":\"#506784\",\"startlinecolor\":\"#A2B1C6\"},\"type\":\"carpet\"}],\"choropleth\":[{\"colorbar\":{\"outlinewidth\":0,\"ticks\":\"\"},\"type\":\"choropleth\"}],\"contourcarpet\":[{\"colorbar\":{\"outlinewidth\":0,\"ticks\":\"\"},\"type\":\"contourcarpet\"}],\"contour\":[{\"colorbar\":{\"outlinewidth\":0,\"ticks\":\"\"},\"colorscale\":[[0.0,\"#0d0887\"],[0.1111111111111111,\"#46039f\"],[0.2222222222222222,\"#7201a8\"],[0.3333333333333333,\"#9c179e\"],[0.4444444444444444,\"#bd3786\"],[0.5555555555555556,\"#d8576b\"],[0.6666666666666666,\"#ed7953\"],[0.7777777777777778,\"#fb9f3a\"],[0.8888888888888888,\"#fdca26\"],[1.0,\"#f0f921\"]],\"type\":\"contour\"}],\"heatmapgl\":[{\"colorbar\":{\"outlinewidth\":0,\"ticks\":\"\"},\"colorscale\":[[0.0,\"#0d0887\"],[0.1111111111111111,\"#46039f\"],[0.2222222222222222,\"#7201a8\"],[0.3333333333333333,\"#9c179e\"],[0.4444444444444444,\"#bd3786\"],[0.5555555555555556,\"#d8576b\"],[0.6666666666666666,\"#ed7953\"],[0.7777777777777778,\"#fb9f3a\"],[0.8888888888888888,\"#fdca26\"],[1.0,\"#f0f921\"]],\"type\":\"heatmapgl\"}],\"heatmap\":[{\"colorbar\":{\"outlinewidth\":0,\"ticks\":\"\"},\"colorscale\":[[0.0,\"#0d0887\"],[0.1111111111111111,\"#46039f\"],[0.2222222222222222,\"#7201a8\"],[0.3333333333333333,\"#9c179e\"],[0.4444444444444444,\"#bd3786\"],[0.5555555555555556,\"#d8576b\"],[0.6666666666666666,\"#ed7953\"],[0.7777777777777778,\"#fb9f3a\"],[0.8888888888888888,\"#fdca26\"],[1.0,\"#f0f921\"]],\"type\":\"heatmap\"}],\"histogram2dcontour\":[{\"colorbar\":{\"outlinewidth\":0,\"ticks\":\"\"},\"colorscale\":[[0.0,\"#0d0887\"],[0.1111111111111111,\"#46039f\"],[0.2222222222222222,\"#7201a8\"],[0.3333333333333333,\"#9c179e\"],[0.4444444444444444,\"#bd3786\"],[0.5555555555555556,\"#d8576b\"],[0.6666666666666666,\"#ed7953\"],[0.7777777777777778,\"#fb9f3a\"],[0.8888888888888888,\"#fdca26\"],[1.0,\"#f0f921\"]],\"type\":\"histogram2dcontour\"}],\"histogram2d\":[{\"colorbar\":{\"outlinewidth\":0,\"ticks\":\"\"},\"colorscale\":[[0.0,\"#0d0887\"],[0.1111111111111111,\"#46039f\"],[0.2222222222222222,\"#7201a8\"],[0.3333333333333333,\"#9c179e\"],[0.4444444444444444,\"#bd3786\"],[0.5555555555555556,\"#d8576b\"],[0.6666666666666666,\"#ed7953\"],[0.7777777777777778,\"#fb9f3a\"],[0.8888888888888888,\"#fdca26\"],[1.0,\"#f0f921\"]],\"type\":\"histogram2d\"}],\"histogram\":[{\"marker\":{\"pattern\":{\"fillmode\":\"overlay\",\"size\":10,\"solidity\":0.2}},\"type\":\"histogram\"}],\"mesh3d\":[{\"colorbar\":{\"outlinewidth\":0,\"ticks\":\"\"},\"type\":\"mesh3d\"}],\"parcoords\":[{\"line\":{\"colorbar\":{\"outlinewidth\":0,\"ticks\":\"\"}},\"type\":\"parcoords\"}],\"pie\":[{\"automargin\":true,\"type\":\"pie\"}],\"scatter3d\":[{\"line\":{\"colorbar\":{\"outlinewidth\":0,\"ticks\":\"\"}},\"marker\":{\"colorbar\":{\"outlinewidth\":0,\"ticks\":\"\"}},\"type\":\"scatter3d\"}],\"scattercarpet\":[{\"marker\":{\"colorbar\":{\"outlinewidth\":0,\"ticks\":\"\"}},\"type\":\"scattercarpet\"}],\"scattergeo\":[{\"marker\":{\"colorbar\":{\"outlinewidth\":0,\"ticks\":\"\"}},\"type\":\"scattergeo\"}],\"scattergl\":[{\"marker\":{\"line\":{\"color\":\"#283442\"}},\"type\":\"scattergl\"}],\"scattermapbox\":[{\"marker\":{\"colorbar\":{\"outlinewidth\":0,\"ticks\":\"\"}},\"type\":\"scattermapbox\"}],\"scatterpolargl\":[{\"marker\":{\"colorbar\":{\"outlinewidth\":0,\"ticks\":\"\"}},\"type\":\"scatterpolargl\"}],\"scatterpolar\":[{\"marker\":{\"colorbar\":{\"outlinewidth\":0,\"ticks\":\"\"}},\"type\":\"scatterpolar\"}],\"scatter\":[{\"marker\":{\"line\":{\"color\":\"#283442\"}},\"type\":\"scatter\"}],\"scatterternary\":[{\"marker\":{\"colorbar\":{\"outlinewidth\":0,\"ticks\":\"\"}},\"type\":\"scatterternary\"}],\"surface\":[{\"colorbar\":{\"outlinewidth\":0,\"ticks\":\"\"},\"colorscale\":[[0.0,\"#0d0887\"],[0.1111111111111111,\"#46039f\"],[0.2222222222222222,\"#7201a8\"],[0.3333333333333333,\"#9c179e\"],[0.4444444444444444,\"#bd3786\"],[0.5555555555555556,\"#d8576b\"],[0.6666666666666666,\"#ed7953\"],[0.7777777777777778,\"#fb9f3a\"],[0.8888888888888888,\"#fdca26\"],[1.0,\"#f0f921\"]],\"type\":\"surface\"}],\"table\":[{\"cells\":{\"fill\":{\"color\":\"#506784\"},\"line\":{\"color\":\"rgb(17,17,17)\"}},\"header\":{\"fill\":{\"color\":\"#2a3f5f\"},\"line\":{\"color\":\"rgb(17,17,17)\"}},\"type\":\"table\"}]},\"layout\":{\"annotationdefaults\":{\"arrowcolor\":\"#f2f5fa\",\"arrowhead\":0,\"arrowwidth\":1},\"autotypenumbers\":\"strict\",\"coloraxis\":{\"colorbar\":{\"outlinewidth\":0,\"ticks\":\"\"}},\"colorscale\":{\"diverging\":[[0,\"#8e0152\"],[0.1,\"#c51b7d\"],[0.2,\"#de77ae\"],[0.3,\"#f1b6da\"],[0.4,\"#fde0ef\"],[0.5,\"#f7f7f7\"],[0.6,\"#e6f5d0\"],[0.7,\"#b8e186\"],[0.8,\"#7fbc41\"],[0.9,\"#4d9221\"],[1,\"#276419\"]],\"sequential\":[[0.0,\"#0d0887\"],[0.1111111111111111,\"#46039f\"],[0.2222222222222222,\"#7201a8\"],[0.3333333333333333,\"#9c179e\"],[0.4444444444444444,\"#bd3786\"],[0.5555555555555556,\"#d8576b\"],[0.6666666666666666,\"#ed7953\"],[0.7777777777777778,\"#fb9f3a\"],[0.8888888888888888,\"#fdca26\"],[1.0,\"#f0f921\"]],\"sequentialminus\":[[0.0,\"#0d0887\"],[0.1111111111111111,\"#46039f\"],[0.2222222222222222,\"#7201a8\"],[0.3333333333333333,\"#9c179e\"],[0.4444444444444444,\"#bd3786\"],[0.5555555555555556,\"#d8576b\"],[0.6666666666666666,\"#ed7953\"],[0.7777777777777778,\"#fb9f3a\"],[0.8888888888888888,\"#fdca26\"],[1.0,\"#f0f921\"]]},\"colorway\":[\"#636efa\",\"#EF553B\",\"#00cc96\",\"#ab63fa\",\"#FFA15A\",\"#19d3f3\",\"#FF6692\",\"#B6E880\",\"#FF97FF\",\"#FECB52\"],\"font\":{\"color\":\"#f2f5fa\"},\"geo\":{\"bgcolor\":\"rgb(17,17,17)\",\"lakecolor\":\"rgb(17,17,17)\",\"landcolor\":\"rgb(17,17,17)\",\"showlakes\":true,\"showland\":true,\"subunitcolor\":\"#506784\"},\"hoverlabel\":{\"align\":\"left\"},\"hovermode\":\"closest\",\"mapbox\":{\"style\":\"dark\"},\"paper_bgcolor\":\"rgb(17,17,17)\",\"plot_bgcolor\":\"rgb(17,17,17)\",\"polar\":{\"angularaxis\":{\"gridcolor\":\"#506784\",\"linecolor\":\"#506784\",\"ticks\":\"\"},\"bgcolor\":\"rgb(17,17,17)\",\"radialaxis\":{\"gridcolor\":\"#506784\",\"linecolor\":\"#506784\",\"ticks\":\"\"}},\"scene\":{\"xaxis\":{\"backgroundcolor\":\"rgb(17,17,17)\",\"gridcolor\":\"#506784\",\"gridwidth\":2,\"linecolor\":\"#506784\",\"showbackground\":true,\"ticks\":\"\",\"zerolinecolor\":\"#C8D4E3\"},\"yaxis\":{\"backgroundcolor\":\"rgb(17,17,17)\",\"gridcolor\":\"#506784\",\"gridwidth\":2,\"linecolor\":\"#506784\",\"showbackground\":true,\"ticks\":\"\",\"zerolinecolor\":\"#C8D4E3\"},\"zaxis\":{\"backgroundcolor\":\"rgb(17,17,17)\",\"gridcolor\":\"#506784\",\"gridwidth\":2,\"linecolor\":\"#506784\",\"showbackground\":true,\"ticks\":\"\",\"zerolinecolor\":\"#C8D4E3\"}},\"shapedefaults\":{\"line\":{\"color\":\"#f2f5fa\"}},\"sliderdefaults\":{\"bgcolor\":\"#C8D4E3\",\"bordercolor\":\"rgb(17,17,17)\",\"borderwidth\":1,\"tickwidth\":0},\"ternary\":{\"aaxis\":{\"gridcolor\":\"#506784\",\"linecolor\":\"#506784\",\"ticks\":\"\"},\"baxis\":{\"gridcolor\":\"#506784\",\"linecolor\":\"#506784\",\"ticks\":\"\"},\"bgcolor\":\"rgb(17,17,17)\",\"caxis\":{\"gridcolor\":\"#506784\",\"linecolor\":\"#506784\",\"ticks\":\"\"}},\"title\":{\"x\":0.05},\"updatemenudefaults\":{\"bgcolor\":\"#506784\",\"borderwidth\":0},\"xaxis\":{\"automargin\":true,\"gridcolor\":\"#283442\",\"linecolor\":\"#506784\",\"ticks\":\"\",\"title\":{\"standoff\":15},\"zerolinecolor\":\"#283442\",\"zerolinewidth\":2},\"yaxis\":{\"automargin\":true,\"gridcolor\":\"#283442\",\"linecolor\":\"#506784\",\"ticks\":\"\",\"title\":{\"standoff\":15},\"zerolinecolor\":\"#283442\",\"zerolinewidth\":2}}},\"xaxis\":{\"anchor\":\"y\",\"domain\":[0.0,1.0],\"title\":{\"text\":\"Jugador\"},\"categoryorder\":\"array\",\"categoryarray\":[\"Vlad_III-lea\",\"yoshua18\",\"Iturbide18\",\"lucabrasi29\",\"Zarate_21\",\"Isr_00\",\"LsAlbertoBullet\",\"FabianPoisot07\",\"Luckmoto\",\"Yerma\"]},\"yaxis\":{\"anchor\":\"x\",\"domain\":[0.0,1.0],\"title\":{\"text\":\"Puntos destacados\"}},\"legend\":{\"title\":{\"text\":\"Jugador\"},\"tracegroupgap\":0},\"margin\":{\"t\":60},\"barmode\":\"relative\",\"showlegend\":false},                        {\"responsive\": true}                    ).then(function(){\n",
       "                            \n",
       "var gd = document.getElementById('90f5000d-4557-4b41-9e2f-80c1b2f0efc9');\n",
       "var x = new MutationObserver(function (mutations, observer) {{\n",
       "        var display = window.getComputedStyle(gd).display;\n",
       "        if (!display || display === 'none') {{\n",
       "            console.log([gd, 'removed!']);\n",
       "            Plotly.purge(gd);\n",
       "            observer.disconnect();\n",
       "        }}\n",
       "}});\n",
       "\n",
       "// Listen for the removal of the full notebook cells\n",
       "var notebookContainer = gd.closest('#notebook-container');\n",
       "if (notebookContainer) {{\n",
       "    x.observe(notebookContainer, {childList: true});\n",
       "}}\n",
       "\n",
       "// Listen for the clearing of the current output cell\n",
       "var outputEl = gd.closest('.output');\n",
       "if (outputEl) {{\n",
       "    x.observe(outputEl, {childList: true});\n",
       "}}\n",
       "\n",
       "                        })                };                });            </script>        </div>"
      ]
     },
     "metadata": {},
     "output_type": "display_data"
    }
   ],
   "source": [
    "# DataFrame para realizar gráfico\n",
    "resultados_sobresalientes_df = pd.DataFrame({'Jugador':resultados_sobresalientes.keys(),\n",
    "                                   'Puntos destacados':resultados_sobresalientes.values()})\n",
    "\n",
    "# gráfica\n",
    "fig = px.bar(resultados_sobresalientes_df.sort_values('Puntos destacados', ascending=False).iloc[:10, :], x='Jugador', y='Puntos destacados', color='Jugador', opacity=0.6)\n",
    "fig.update_layout(\n",
    "    showlegend=False,\n",
    "    template='plotly_dark'\n",
    "    )\n",
    "fig.show()"
   ]
  },
  {
   "cell_type": "markdown",
   "metadata": {},
   "source": [
    "![img2](./imgs/unknown.png)"
   ]
  },
  {
   "cell_type": "markdown",
   "metadata": {},
   "source": [
    "# Jugadores con torneo más complicado"
   ]
  },
  {
   "cell_type": "code",
   "execution_count": 42,
   "metadata": {},
   "outputs": [
    {
     "data": {
      "application/vnd.jupyter.widget-view+json": {
       "model_id": "c26a39acc53c4a9b8fa2cdb2f7bd016b",
       "version_major": 2,
       "version_minor": 0
      },
      "text/plain": [
       "  0%|          | 0/115 [00:00<?, ?it/s]"
      ]
     },
     "metadata": {},
     "output_type": "display_data"
    }
   ],
   "source": [
    "# diccionario para almacenar resultados\n",
    "resultados_malos = {}\n",
    "\n",
    "# ingrados por participante\n",
    "for jugador in tqm(jugadores):\n",
    "    resultados_malos[jugador] = derrotas_jugador(jugador)"
   ]
  },
  {
   "cell_type": "code",
   "execution_count": 51,
   "metadata": {},
   "outputs": [
    {
     "data": {
      "text/html": [
       "<div>                            <div id=\"3d99d4ed-1a60-45ec-b31c-ecd9fdae1c7c\" class=\"plotly-graph-div\" style=\"height:525px; width:100%;\"></div>            <script type=\"text/javascript\">                require([\"plotly\"], function(Plotly) {                    window.PLOTLYENV=window.PLOTLYENV || {};                                    if (document.getElementById(\"3d99d4ed-1a60-45ec-b31c-ecd9fdae1c7c\")) {                    Plotly.newPlot(                        \"3d99d4ed-1a60-45ec-b31c-ecd9fdae1c7c\",                        [{\"alignmentgroup\":\"True\",\"hovertemplate\":\"Jugador=%{x}<br>Ingrados=%{y}<extra></extra>\",\"legendgroup\":\"Sofia_DeLaRosa\",\"marker\":{\"color\":\"#636efa\",\"opacity\":0.6,\"pattern\":{\"shape\":\"\"}},\"name\":\"Sofia_DeLaRosa\",\"offsetgroup\":\"Sofia_DeLaRosa\",\"orientation\":\"v\",\"showlegend\":true,\"textposition\":\"auto\",\"x\":[\"Sofia_DeLaRosa\"],\"xaxis\":\"x\",\"y\":[18],\"yaxis\":\"y\",\"type\":\"bar\"},{\"alignmentgroup\":\"True\",\"hovertemplate\":\"Jugador=%{x}<br>Ingrados=%{y}<extra></extra>\",\"legendgroup\":\"Danie1_Rod_Arr\",\"marker\":{\"color\":\"#EF553B\",\"opacity\":0.6,\"pattern\":{\"shape\":\"\"}},\"name\":\"Danie1_Rod_Arr\",\"offsetgroup\":\"Danie1_Rod_Arr\",\"orientation\":\"v\",\"showlegend\":true,\"textposition\":\"auto\",\"x\":[\"Danie1_Rod_Arr\"],\"xaxis\":\"x\",\"y\":[18],\"yaxis\":\"y\",\"type\":\"bar\"},{\"alignmentgroup\":\"True\",\"hovertemplate\":\"Jugador=%{x}<br>Ingrados=%{y}<extra></extra>\",\"legendgroup\":\"EsmeraldaQuijano226\",\"marker\":{\"color\":\"#00cc96\",\"opacity\":0.6,\"pattern\":{\"shape\":\"\"}},\"name\":\"EsmeraldaQuijano226\",\"offsetgroup\":\"EsmeraldaQuijano226\",\"orientation\":\"v\",\"showlegend\":true,\"textposition\":\"auto\",\"x\":[\"EsmeraldaQuijano226\"],\"xaxis\":\"x\",\"y\":[16],\"yaxis\":\"y\",\"type\":\"bar\"},{\"alignmentgroup\":\"True\",\"hovertemplate\":\"Jugador=%{x}<br>Ingrados=%{y}<extra></extra>\",\"legendgroup\":\"gorkeanton37\",\"marker\":{\"color\":\"#ab63fa\",\"opacity\":0.6,\"pattern\":{\"shape\":\"\"}},\"name\":\"gorkeanton37\",\"offsetgroup\":\"gorkeanton37\",\"orientation\":\"v\",\"showlegend\":true,\"textposition\":\"auto\",\"x\":[\"gorkeanton37\"],\"xaxis\":\"x\",\"y\":[16],\"yaxis\":\"y\",\"type\":\"bar\"},{\"alignmentgroup\":\"True\",\"hovertemplate\":\"Jugador=%{x}<br>Ingrados=%{y}<extra></extra>\",\"legendgroup\":\"Yerma\",\"marker\":{\"color\":\"#FFA15A\",\"opacity\":0.6,\"pattern\":{\"shape\":\"\"}},\"name\":\"Yerma\",\"offsetgroup\":\"Yerma\",\"orientation\":\"v\",\"showlegend\":true,\"textposition\":\"auto\",\"x\":[\"Yerma\"],\"xaxis\":\"x\",\"y\":[15],\"yaxis\":\"y\",\"type\":\"bar\"},{\"alignmentgroup\":\"True\",\"hovertemplate\":\"Jugador=%{x}<br>Ingrados=%{y}<extra></extra>\",\"legendgroup\":\"Gerardo_2110\",\"marker\":{\"color\":\"#19d3f3\",\"opacity\":0.6,\"pattern\":{\"shape\":\"\"}},\"name\":\"Gerardo_2110\",\"offsetgroup\":\"Gerardo_2110\",\"orientation\":\"v\",\"showlegend\":true,\"textposition\":\"auto\",\"x\":[\"Gerardo_2110\"],\"xaxis\":\"x\",\"y\":[15],\"yaxis\":\"y\",\"type\":\"bar\"},{\"alignmentgroup\":\"True\",\"hovertemplate\":\"Jugador=%{x}<br>Ingrados=%{y}<extra></extra>\",\"legendgroup\":\"Axel_her\",\"marker\":{\"color\":\"#FF6692\",\"opacity\":0.6,\"pattern\":{\"shape\":\"\"}},\"name\":\"Axel_her\",\"offsetgroup\":\"Axel_her\",\"orientation\":\"v\",\"showlegend\":true,\"textposition\":\"auto\",\"x\":[\"Axel_her\"],\"xaxis\":\"x\",\"y\":[15],\"yaxis\":\"y\",\"type\":\"bar\"},{\"alignmentgroup\":\"True\",\"hovertemplate\":\"Jugador=%{x}<br>Ingrados=%{y}<extra></extra>\",\"legendgroup\":\"Oscar3_LoboMX\",\"marker\":{\"color\":\"#B6E880\",\"opacity\":0.6,\"pattern\":{\"shape\":\"\"}},\"name\":\"Oscar3_LoboMX\",\"offsetgroup\":\"Oscar3_LoboMX\",\"orientation\":\"v\",\"showlegend\":true,\"textposition\":\"auto\",\"x\":[\"Oscar3_LoboMX\"],\"xaxis\":\"x\",\"y\":[14],\"yaxis\":\"y\",\"type\":\"bar\"},{\"alignmentgroup\":\"True\",\"hovertemplate\":\"Jugador=%{x}<br>Ingrados=%{y}<extra></extra>\",\"legendgroup\":\"jonathan_jaet\",\"marker\":{\"color\":\"#FF97FF\",\"opacity\":0.6,\"pattern\":{\"shape\":\"\"}},\"name\":\"jonathan_jaet\",\"offsetgroup\":\"jonathan_jaet\",\"orientation\":\"v\",\"showlegend\":true,\"textposition\":\"auto\",\"x\":[\"jonathan_jaet\"],\"xaxis\":\"x\",\"y\":[14],\"yaxis\":\"y\",\"type\":\"bar\"},{\"alignmentgroup\":\"True\",\"hovertemplate\":\"Jugador=%{x}<br>Ingrados=%{y}<extra></extra>\",\"legendgroup\":\"Zarate_21\",\"marker\":{\"color\":\"#FECB52\",\"opacity\":0.6,\"pattern\":{\"shape\":\"\"}},\"name\":\"Zarate_21\",\"offsetgroup\":\"Zarate_21\",\"orientation\":\"v\",\"showlegend\":true,\"textposition\":\"auto\",\"x\":[\"Zarate_21\"],\"xaxis\":\"x\",\"y\":[13],\"yaxis\":\"y\",\"type\":\"bar\"}],                        {\"template\":{\"data\":{\"barpolar\":[{\"marker\":{\"line\":{\"color\":\"rgb(17,17,17)\",\"width\":0.5},\"pattern\":{\"fillmode\":\"overlay\",\"size\":10,\"solidity\":0.2}},\"type\":\"barpolar\"}],\"bar\":[{\"error_x\":{\"color\":\"#f2f5fa\"},\"error_y\":{\"color\":\"#f2f5fa\"},\"marker\":{\"line\":{\"color\":\"rgb(17,17,17)\",\"width\":0.5},\"pattern\":{\"fillmode\":\"overlay\",\"size\":10,\"solidity\":0.2}},\"type\":\"bar\"}],\"carpet\":[{\"aaxis\":{\"endlinecolor\":\"#A2B1C6\",\"gridcolor\":\"#506784\",\"linecolor\":\"#506784\",\"minorgridcolor\":\"#506784\",\"startlinecolor\":\"#A2B1C6\"},\"baxis\":{\"endlinecolor\":\"#A2B1C6\",\"gridcolor\":\"#506784\",\"linecolor\":\"#506784\",\"minorgridcolor\":\"#506784\",\"startlinecolor\":\"#A2B1C6\"},\"type\":\"carpet\"}],\"choropleth\":[{\"colorbar\":{\"outlinewidth\":0,\"ticks\":\"\"},\"type\":\"choropleth\"}],\"contourcarpet\":[{\"colorbar\":{\"outlinewidth\":0,\"ticks\":\"\"},\"type\":\"contourcarpet\"}],\"contour\":[{\"colorbar\":{\"outlinewidth\":0,\"ticks\":\"\"},\"colorscale\":[[0.0,\"#0d0887\"],[0.1111111111111111,\"#46039f\"],[0.2222222222222222,\"#7201a8\"],[0.3333333333333333,\"#9c179e\"],[0.4444444444444444,\"#bd3786\"],[0.5555555555555556,\"#d8576b\"],[0.6666666666666666,\"#ed7953\"],[0.7777777777777778,\"#fb9f3a\"],[0.8888888888888888,\"#fdca26\"],[1.0,\"#f0f921\"]],\"type\":\"contour\"}],\"heatmapgl\":[{\"colorbar\":{\"outlinewidth\":0,\"ticks\":\"\"},\"colorscale\":[[0.0,\"#0d0887\"],[0.1111111111111111,\"#46039f\"],[0.2222222222222222,\"#7201a8\"],[0.3333333333333333,\"#9c179e\"],[0.4444444444444444,\"#bd3786\"],[0.5555555555555556,\"#d8576b\"],[0.6666666666666666,\"#ed7953\"],[0.7777777777777778,\"#fb9f3a\"],[0.8888888888888888,\"#fdca26\"],[1.0,\"#f0f921\"]],\"type\":\"heatmapgl\"}],\"heatmap\":[{\"colorbar\":{\"outlinewidth\":0,\"ticks\":\"\"},\"colorscale\":[[0.0,\"#0d0887\"],[0.1111111111111111,\"#46039f\"],[0.2222222222222222,\"#7201a8\"],[0.3333333333333333,\"#9c179e\"],[0.4444444444444444,\"#bd3786\"],[0.5555555555555556,\"#d8576b\"],[0.6666666666666666,\"#ed7953\"],[0.7777777777777778,\"#fb9f3a\"],[0.8888888888888888,\"#fdca26\"],[1.0,\"#f0f921\"]],\"type\":\"heatmap\"}],\"histogram2dcontour\":[{\"colorbar\":{\"outlinewidth\":0,\"ticks\":\"\"},\"colorscale\":[[0.0,\"#0d0887\"],[0.1111111111111111,\"#46039f\"],[0.2222222222222222,\"#7201a8\"],[0.3333333333333333,\"#9c179e\"],[0.4444444444444444,\"#bd3786\"],[0.5555555555555556,\"#d8576b\"],[0.6666666666666666,\"#ed7953\"],[0.7777777777777778,\"#fb9f3a\"],[0.8888888888888888,\"#fdca26\"],[1.0,\"#f0f921\"]],\"type\":\"histogram2dcontour\"}],\"histogram2d\":[{\"colorbar\":{\"outlinewidth\":0,\"ticks\":\"\"},\"colorscale\":[[0.0,\"#0d0887\"],[0.1111111111111111,\"#46039f\"],[0.2222222222222222,\"#7201a8\"],[0.3333333333333333,\"#9c179e\"],[0.4444444444444444,\"#bd3786\"],[0.5555555555555556,\"#d8576b\"],[0.6666666666666666,\"#ed7953\"],[0.7777777777777778,\"#fb9f3a\"],[0.8888888888888888,\"#fdca26\"],[1.0,\"#f0f921\"]],\"type\":\"histogram2d\"}],\"histogram\":[{\"marker\":{\"pattern\":{\"fillmode\":\"overlay\",\"size\":10,\"solidity\":0.2}},\"type\":\"histogram\"}],\"mesh3d\":[{\"colorbar\":{\"outlinewidth\":0,\"ticks\":\"\"},\"type\":\"mesh3d\"}],\"parcoords\":[{\"line\":{\"colorbar\":{\"outlinewidth\":0,\"ticks\":\"\"}},\"type\":\"parcoords\"}],\"pie\":[{\"automargin\":true,\"type\":\"pie\"}],\"scatter3d\":[{\"line\":{\"colorbar\":{\"outlinewidth\":0,\"ticks\":\"\"}},\"marker\":{\"colorbar\":{\"outlinewidth\":0,\"ticks\":\"\"}},\"type\":\"scatter3d\"}],\"scattercarpet\":[{\"marker\":{\"colorbar\":{\"outlinewidth\":0,\"ticks\":\"\"}},\"type\":\"scattercarpet\"}],\"scattergeo\":[{\"marker\":{\"colorbar\":{\"outlinewidth\":0,\"ticks\":\"\"}},\"type\":\"scattergeo\"}],\"scattergl\":[{\"marker\":{\"line\":{\"color\":\"#283442\"}},\"type\":\"scattergl\"}],\"scattermapbox\":[{\"marker\":{\"colorbar\":{\"outlinewidth\":0,\"ticks\":\"\"}},\"type\":\"scattermapbox\"}],\"scatterpolargl\":[{\"marker\":{\"colorbar\":{\"outlinewidth\":0,\"ticks\":\"\"}},\"type\":\"scatterpolargl\"}],\"scatterpolar\":[{\"marker\":{\"colorbar\":{\"outlinewidth\":0,\"ticks\":\"\"}},\"type\":\"scatterpolar\"}],\"scatter\":[{\"marker\":{\"line\":{\"color\":\"#283442\"}},\"type\":\"scatter\"}],\"scatterternary\":[{\"marker\":{\"colorbar\":{\"outlinewidth\":0,\"ticks\":\"\"}},\"type\":\"scatterternary\"}],\"surface\":[{\"colorbar\":{\"outlinewidth\":0,\"ticks\":\"\"},\"colorscale\":[[0.0,\"#0d0887\"],[0.1111111111111111,\"#46039f\"],[0.2222222222222222,\"#7201a8\"],[0.3333333333333333,\"#9c179e\"],[0.4444444444444444,\"#bd3786\"],[0.5555555555555556,\"#d8576b\"],[0.6666666666666666,\"#ed7953\"],[0.7777777777777778,\"#fb9f3a\"],[0.8888888888888888,\"#fdca26\"],[1.0,\"#f0f921\"]],\"type\":\"surface\"}],\"table\":[{\"cells\":{\"fill\":{\"color\":\"#506784\"},\"line\":{\"color\":\"rgb(17,17,17)\"}},\"header\":{\"fill\":{\"color\":\"#2a3f5f\"},\"line\":{\"color\":\"rgb(17,17,17)\"}},\"type\":\"table\"}]},\"layout\":{\"annotationdefaults\":{\"arrowcolor\":\"#f2f5fa\",\"arrowhead\":0,\"arrowwidth\":1},\"autotypenumbers\":\"strict\",\"coloraxis\":{\"colorbar\":{\"outlinewidth\":0,\"ticks\":\"\"}},\"colorscale\":{\"diverging\":[[0,\"#8e0152\"],[0.1,\"#c51b7d\"],[0.2,\"#de77ae\"],[0.3,\"#f1b6da\"],[0.4,\"#fde0ef\"],[0.5,\"#f7f7f7\"],[0.6,\"#e6f5d0\"],[0.7,\"#b8e186\"],[0.8,\"#7fbc41\"],[0.9,\"#4d9221\"],[1,\"#276419\"]],\"sequential\":[[0.0,\"#0d0887\"],[0.1111111111111111,\"#46039f\"],[0.2222222222222222,\"#7201a8\"],[0.3333333333333333,\"#9c179e\"],[0.4444444444444444,\"#bd3786\"],[0.5555555555555556,\"#d8576b\"],[0.6666666666666666,\"#ed7953\"],[0.7777777777777778,\"#fb9f3a\"],[0.8888888888888888,\"#fdca26\"],[1.0,\"#f0f921\"]],\"sequentialminus\":[[0.0,\"#0d0887\"],[0.1111111111111111,\"#46039f\"],[0.2222222222222222,\"#7201a8\"],[0.3333333333333333,\"#9c179e\"],[0.4444444444444444,\"#bd3786\"],[0.5555555555555556,\"#d8576b\"],[0.6666666666666666,\"#ed7953\"],[0.7777777777777778,\"#fb9f3a\"],[0.8888888888888888,\"#fdca26\"],[1.0,\"#f0f921\"]]},\"colorway\":[\"#636efa\",\"#EF553B\",\"#00cc96\",\"#ab63fa\",\"#FFA15A\",\"#19d3f3\",\"#FF6692\",\"#B6E880\",\"#FF97FF\",\"#FECB52\"],\"font\":{\"color\":\"#f2f5fa\"},\"geo\":{\"bgcolor\":\"rgb(17,17,17)\",\"lakecolor\":\"rgb(17,17,17)\",\"landcolor\":\"rgb(17,17,17)\",\"showlakes\":true,\"showland\":true,\"subunitcolor\":\"#506784\"},\"hoverlabel\":{\"align\":\"left\"},\"hovermode\":\"closest\",\"mapbox\":{\"style\":\"dark\"},\"paper_bgcolor\":\"rgb(17,17,17)\",\"plot_bgcolor\":\"rgb(17,17,17)\",\"polar\":{\"angularaxis\":{\"gridcolor\":\"#506784\",\"linecolor\":\"#506784\",\"ticks\":\"\"},\"bgcolor\":\"rgb(17,17,17)\",\"radialaxis\":{\"gridcolor\":\"#506784\",\"linecolor\":\"#506784\",\"ticks\":\"\"}},\"scene\":{\"xaxis\":{\"backgroundcolor\":\"rgb(17,17,17)\",\"gridcolor\":\"#506784\",\"gridwidth\":2,\"linecolor\":\"#506784\",\"showbackground\":true,\"ticks\":\"\",\"zerolinecolor\":\"#C8D4E3\"},\"yaxis\":{\"backgroundcolor\":\"rgb(17,17,17)\",\"gridcolor\":\"#506784\",\"gridwidth\":2,\"linecolor\":\"#506784\",\"showbackground\":true,\"ticks\":\"\",\"zerolinecolor\":\"#C8D4E3\"},\"zaxis\":{\"backgroundcolor\":\"rgb(17,17,17)\",\"gridcolor\":\"#506784\",\"gridwidth\":2,\"linecolor\":\"#506784\",\"showbackground\":true,\"ticks\":\"\",\"zerolinecolor\":\"#C8D4E3\"}},\"shapedefaults\":{\"line\":{\"color\":\"#f2f5fa\"}},\"sliderdefaults\":{\"bgcolor\":\"#C8D4E3\",\"bordercolor\":\"rgb(17,17,17)\",\"borderwidth\":1,\"tickwidth\":0},\"ternary\":{\"aaxis\":{\"gridcolor\":\"#506784\",\"linecolor\":\"#506784\",\"ticks\":\"\"},\"baxis\":{\"gridcolor\":\"#506784\",\"linecolor\":\"#506784\",\"ticks\":\"\"},\"bgcolor\":\"rgb(17,17,17)\",\"caxis\":{\"gridcolor\":\"#506784\",\"linecolor\":\"#506784\",\"ticks\":\"\"}},\"title\":{\"x\":0.05},\"updatemenudefaults\":{\"bgcolor\":\"#506784\",\"borderwidth\":0},\"xaxis\":{\"automargin\":true,\"gridcolor\":\"#283442\",\"linecolor\":\"#506784\",\"ticks\":\"\",\"title\":{\"standoff\":15},\"zerolinecolor\":\"#283442\",\"zerolinewidth\":2},\"yaxis\":{\"automargin\":true,\"gridcolor\":\"#283442\",\"linecolor\":\"#506784\",\"ticks\":\"\",\"title\":{\"standoff\":15},\"zerolinecolor\":\"#283442\",\"zerolinewidth\":2}}},\"xaxis\":{\"anchor\":\"y\",\"domain\":[0.0,1.0],\"title\":{\"text\":\"Jugador\"},\"categoryorder\":\"array\",\"categoryarray\":[\"Sofia_DeLaRosa\",\"Danie1_Rod_Arr\",\"EsmeraldaQuijano226\",\"gorkeanton37\",\"Yerma\",\"Gerardo_2110\",\"Axel_her\",\"Oscar3_LoboMX\",\"jonathan_jaet\",\"Zarate_21\"]},\"yaxis\":{\"anchor\":\"x\",\"domain\":[0.0,1.0],\"title\":{\"text\":\"Ingrados\"}},\"legend\":{\"title\":{\"text\":\"Jugador\"},\"tracegroupgap\":0},\"margin\":{\"t\":60},\"barmode\":\"relative\",\"showlegend\":false},                        {\"responsive\": true}                    ).then(function(){\n",
       "                            \n",
       "var gd = document.getElementById('3d99d4ed-1a60-45ec-b31c-ecd9fdae1c7c');\n",
       "var x = new MutationObserver(function (mutations, observer) {{\n",
       "        var display = window.getComputedStyle(gd).display;\n",
       "        if (!display || display === 'none') {{\n",
       "            console.log([gd, 'removed!']);\n",
       "            Plotly.purge(gd);\n",
       "            observer.disconnect();\n",
       "        }}\n",
       "}});\n",
       "\n",
       "// Listen for the removal of the full notebook cells\n",
       "var notebookContainer = gd.closest('#notebook-container');\n",
       "if (notebookContainer) {{\n",
       "    x.observe(notebookContainer, {childList: true});\n",
       "}}\n",
       "\n",
       "// Listen for the clearing of the current output cell\n",
       "var outputEl = gd.closest('.output');\n",
       "if (outputEl) {{\n",
       "    x.observe(outputEl, {childList: true});\n",
       "}}\n",
       "\n",
       "                        })                };                });            </script>        </div>"
      ]
     },
     "metadata": {},
     "output_type": "display_data"
    }
   ],
   "source": [
    "# DataFrame para realizar gráfico\n",
    "resultados_malos_df = pd.DataFrame({'Jugador':resultados_malos.keys(),\n",
    "                                   'Ingrados':resultados_malos.values()})\n",
    "\n",
    "# gráfica\n",
    "fig = px.bar(resultados_malos_df.sort_values('Ingrados', ascending=False).iloc[:10, :], x='Jugador', y='Ingrados', color='Jugador', opacity=0.6)\n",
    "fig.update_layout(\n",
    "    showlegend=False,\n",
    "    template='plotly_dark'\n",
    "    )\n",
    "fig.show()"
   ]
  },
  {
   "cell_type": "markdown",
   "metadata": {},
   "source": [
    "![img3](./imgs/unknown1)"
   ]
  },
  {
   "cell_type": "markdown",
   "metadata": {},
   "source": [
    "# Jugadores que más perdieron contra oponentes inferiores"
   ]
  },
  {
   "cell_type": "code",
   "execution_count": 44,
   "metadata": {},
   "outputs": [
    {
     "data": {
      "application/vnd.jupyter.widget-view+json": {
       "model_id": "54271cb13a8b4ef2bce3d9ceadfe89df",
       "version_major": 2,
       "version_minor": 0
      },
      "text/plain": [
       "  0%|          | 0/115 [00:00<?, ?it/s]"
      ]
     },
     "metadata": {},
     "output_type": "display_data"
    }
   ],
   "source": [
    "# diccionario para almacenar resultados\n",
    "resultados_inferiores = {}\n",
    "\n",
    "# ingrados por participante\n",
    "for jugador in tqm(jugadores):\n",
    "    resultados_inferiores[jugador] = peores_derrotas(jugador)"
   ]
  },
  {
   "cell_type": "code",
   "execution_count": 50,
   "metadata": {},
   "outputs": [
    {
     "data": {
      "text/html": [
       "<div>                            <div id=\"7e27548d-510d-4330-8c4f-788d83816f8d\" class=\"plotly-graph-div\" style=\"height:525px; width:100%;\"></div>            <script type=\"text/javascript\">                require([\"plotly\"], function(Plotly) {                    window.PLOTLYENV=window.PLOTLYENV || {};                                    if (document.getElementById(\"7e27548d-510d-4330-8c4f-788d83816f8d\")) {                    Plotly.newPlot(                        \"7e27548d-510d-4330-8c4f-788d83816f8d\",                        [{\"alignmentgroup\":\"True\",\"hovertemplate\":\"Jugador=%{x}<br>Cuenta=%{y}<extra></extra>\",\"legendgroup\":\"legado-de-morphy\",\"marker\":{\"color\":\"#636efa\",\"opacity\":0.6,\"pattern\":{\"shape\":\"\"}},\"name\":\"legado-de-morphy\",\"offsetgroup\":\"legado-de-morphy\",\"orientation\":\"v\",\"showlegend\":true,\"textposition\":\"auto\",\"x\":[\"legado-de-morphy\"],\"xaxis\":\"x\",\"y\":[10],\"yaxis\":\"y\",\"type\":\"bar\"},{\"alignmentgroup\":\"True\",\"hovertemplate\":\"Jugador=%{x}<br>Cuenta=%{y}<extra></extra>\",\"legendgroup\":\"acido_magico\",\"marker\":{\"color\":\"#EF553B\",\"opacity\":0.6,\"pattern\":{\"shape\":\"\"}},\"name\":\"acido_magico\",\"offsetgroup\":\"acido_magico\",\"orientation\":\"v\",\"showlegend\":true,\"textposition\":\"auto\",\"x\":[\"acido_magico\"],\"xaxis\":\"x\",\"y\":[9],\"yaxis\":\"y\",\"type\":\"bar\"},{\"alignmentgroup\":\"True\",\"hovertemplate\":\"Jugador=%{x}<br>Cuenta=%{y}<extra></extra>\",\"legendgroup\":\"Vencedor96\",\"marker\":{\"color\":\"#00cc96\",\"opacity\":0.6,\"pattern\":{\"shape\":\"\"}},\"name\":\"Vencedor96\",\"offsetgroup\":\"Vencedor96\",\"orientation\":\"v\",\"showlegend\":true,\"textposition\":\"auto\",\"x\":[\"Vencedor96\"],\"xaxis\":\"x\",\"y\":[8],\"yaxis\":\"y\",\"type\":\"bar\"},{\"alignmentgroup\":\"True\",\"hovertemplate\":\"Jugador=%{x}<br>Cuenta=%{y}<extra></extra>\",\"legendgroup\":\"jonathan_jaet\",\"marker\":{\"color\":\"#ab63fa\",\"opacity\":0.6,\"pattern\":{\"shape\":\"\"}},\"name\":\"jonathan_jaet\",\"offsetgroup\":\"jonathan_jaet\",\"orientation\":\"v\",\"showlegend\":true,\"textposition\":\"auto\",\"x\":[\"jonathan_jaet\"],\"xaxis\":\"x\",\"y\":[7],\"yaxis\":\"y\",\"type\":\"bar\"},{\"alignmentgroup\":\"True\",\"hovertemplate\":\"Jugador=%{x}<br>Cuenta=%{y}<extra></extra>\",\"legendgroup\":\"euphyllophyta\",\"marker\":{\"color\":\"#FFA15A\",\"opacity\":0.6,\"pattern\":{\"shape\":\"\"}},\"name\":\"euphyllophyta\",\"offsetgroup\":\"euphyllophyta\",\"orientation\":\"v\",\"showlegend\":true,\"textposition\":\"auto\",\"x\":[\"euphyllophyta\"],\"xaxis\":\"x\",\"y\":[7],\"yaxis\":\"y\",\"type\":\"bar\"},{\"alignmentgroup\":\"True\",\"hovertemplate\":\"Jugador=%{x}<br>Cuenta=%{y}<extra></extra>\",\"legendgroup\":\"DiegoRomero3\",\"marker\":{\"color\":\"#19d3f3\",\"opacity\":0.6,\"pattern\":{\"shape\":\"\"}},\"name\":\"DiegoRomero3\",\"offsetgroup\":\"DiegoRomero3\",\"orientation\":\"v\",\"showlegend\":true,\"textposition\":\"auto\",\"x\":[\"DiegoRomero3\"],\"xaxis\":\"x\",\"y\":[7],\"yaxis\":\"y\",\"type\":\"bar\"},{\"alignmentgroup\":\"True\",\"hovertemplate\":\"Jugador=%{x}<br>Cuenta=%{y}<extra></extra>\",\"legendgroup\":\"SSJGSSJ\",\"marker\":{\"color\":\"#FF6692\",\"opacity\":0.6,\"pattern\":{\"shape\":\"\"}},\"name\":\"SSJGSSJ\",\"offsetgroup\":\"SSJGSSJ\",\"orientation\":\"v\",\"showlegend\":true,\"textposition\":\"auto\",\"x\":[\"SSJGSSJ\"],\"xaxis\":\"x\",\"y\":[7],\"yaxis\":\"y\",\"type\":\"bar\"},{\"alignmentgroup\":\"True\",\"hovertemplate\":\"Jugador=%{x}<br>Cuenta=%{y}<extra></extra>\",\"legendgroup\":\"Isaac_27\",\"marker\":{\"color\":\"#B6E880\",\"opacity\":0.6,\"pattern\":{\"shape\":\"\"}},\"name\":\"Isaac_27\",\"offsetgroup\":\"Isaac_27\",\"orientation\":\"v\",\"showlegend\":true,\"textposition\":\"auto\",\"x\":[\"Isaac_27\"],\"xaxis\":\"x\",\"y\":[7],\"yaxis\":\"y\",\"type\":\"bar\"},{\"alignmentgroup\":\"True\",\"hovertemplate\":\"Jugador=%{x}<br>Cuenta=%{y}<extra></extra>\",\"legendgroup\":\"Lord_Vygotsky_01\",\"marker\":{\"color\":\"#FF97FF\",\"opacity\":0.6,\"pattern\":{\"shape\":\"\"}},\"name\":\"Lord_Vygotsky_01\",\"offsetgroup\":\"Lord_Vygotsky_01\",\"orientation\":\"v\",\"showlegend\":true,\"textposition\":\"auto\",\"x\":[\"Lord_Vygotsky_01\"],\"xaxis\":\"x\",\"y\":[7],\"yaxis\":\"y\",\"type\":\"bar\"},{\"alignmentgroup\":\"True\",\"hovertemplate\":\"Jugador=%{x}<br>Cuenta=%{y}<extra></extra>\",\"legendgroup\":\"omarbautista17\",\"marker\":{\"color\":\"#FECB52\",\"opacity\":0.6,\"pattern\":{\"shape\":\"\"}},\"name\":\"omarbautista17\",\"offsetgroup\":\"omarbautista17\",\"orientation\":\"v\",\"showlegend\":true,\"textposition\":\"auto\",\"x\":[\"omarbautista17\"],\"xaxis\":\"x\",\"y\":[6],\"yaxis\":\"y\",\"type\":\"bar\"}],                        {\"template\":{\"data\":{\"barpolar\":[{\"marker\":{\"line\":{\"color\":\"rgb(17,17,17)\",\"width\":0.5},\"pattern\":{\"fillmode\":\"overlay\",\"size\":10,\"solidity\":0.2}},\"type\":\"barpolar\"}],\"bar\":[{\"error_x\":{\"color\":\"#f2f5fa\"},\"error_y\":{\"color\":\"#f2f5fa\"},\"marker\":{\"line\":{\"color\":\"rgb(17,17,17)\",\"width\":0.5},\"pattern\":{\"fillmode\":\"overlay\",\"size\":10,\"solidity\":0.2}},\"type\":\"bar\"}],\"carpet\":[{\"aaxis\":{\"endlinecolor\":\"#A2B1C6\",\"gridcolor\":\"#506784\",\"linecolor\":\"#506784\",\"minorgridcolor\":\"#506784\",\"startlinecolor\":\"#A2B1C6\"},\"baxis\":{\"endlinecolor\":\"#A2B1C6\",\"gridcolor\":\"#506784\",\"linecolor\":\"#506784\",\"minorgridcolor\":\"#506784\",\"startlinecolor\":\"#A2B1C6\"},\"type\":\"carpet\"}],\"choropleth\":[{\"colorbar\":{\"outlinewidth\":0,\"ticks\":\"\"},\"type\":\"choropleth\"}],\"contourcarpet\":[{\"colorbar\":{\"outlinewidth\":0,\"ticks\":\"\"},\"type\":\"contourcarpet\"}],\"contour\":[{\"colorbar\":{\"outlinewidth\":0,\"ticks\":\"\"},\"colorscale\":[[0.0,\"#0d0887\"],[0.1111111111111111,\"#46039f\"],[0.2222222222222222,\"#7201a8\"],[0.3333333333333333,\"#9c179e\"],[0.4444444444444444,\"#bd3786\"],[0.5555555555555556,\"#d8576b\"],[0.6666666666666666,\"#ed7953\"],[0.7777777777777778,\"#fb9f3a\"],[0.8888888888888888,\"#fdca26\"],[1.0,\"#f0f921\"]],\"type\":\"contour\"}],\"heatmapgl\":[{\"colorbar\":{\"outlinewidth\":0,\"ticks\":\"\"},\"colorscale\":[[0.0,\"#0d0887\"],[0.1111111111111111,\"#46039f\"],[0.2222222222222222,\"#7201a8\"],[0.3333333333333333,\"#9c179e\"],[0.4444444444444444,\"#bd3786\"],[0.5555555555555556,\"#d8576b\"],[0.6666666666666666,\"#ed7953\"],[0.7777777777777778,\"#fb9f3a\"],[0.8888888888888888,\"#fdca26\"],[1.0,\"#f0f921\"]],\"type\":\"heatmapgl\"}],\"heatmap\":[{\"colorbar\":{\"outlinewidth\":0,\"ticks\":\"\"},\"colorscale\":[[0.0,\"#0d0887\"],[0.1111111111111111,\"#46039f\"],[0.2222222222222222,\"#7201a8\"],[0.3333333333333333,\"#9c179e\"],[0.4444444444444444,\"#bd3786\"],[0.5555555555555556,\"#d8576b\"],[0.6666666666666666,\"#ed7953\"],[0.7777777777777778,\"#fb9f3a\"],[0.8888888888888888,\"#fdca26\"],[1.0,\"#f0f921\"]],\"type\":\"heatmap\"}],\"histogram2dcontour\":[{\"colorbar\":{\"outlinewidth\":0,\"ticks\":\"\"},\"colorscale\":[[0.0,\"#0d0887\"],[0.1111111111111111,\"#46039f\"],[0.2222222222222222,\"#7201a8\"],[0.3333333333333333,\"#9c179e\"],[0.4444444444444444,\"#bd3786\"],[0.5555555555555556,\"#d8576b\"],[0.6666666666666666,\"#ed7953\"],[0.7777777777777778,\"#fb9f3a\"],[0.8888888888888888,\"#fdca26\"],[1.0,\"#f0f921\"]],\"type\":\"histogram2dcontour\"}],\"histogram2d\":[{\"colorbar\":{\"outlinewidth\":0,\"ticks\":\"\"},\"colorscale\":[[0.0,\"#0d0887\"],[0.1111111111111111,\"#46039f\"],[0.2222222222222222,\"#7201a8\"],[0.3333333333333333,\"#9c179e\"],[0.4444444444444444,\"#bd3786\"],[0.5555555555555556,\"#d8576b\"],[0.6666666666666666,\"#ed7953\"],[0.7777777777777778,\"#fb9f3a\"],[0.8888888888888888,\"#fdca26\"],[1.0,\"#f0f921\"]],\"type\":\"histogram2d\"}],\"histogram\":[{\"marker\":{\"pattern\":{\"fillmode\":\"overlay\",\"size\":10,\"solidity\":0.2}},\"type\":\"histogram\"}],\"mesh3d\":[{\"colorbar\":{\"outlinewidth\":0,\"ticks\":\"\"},\"type\":\"mesh3d\"}],\"parcoords\":[{\"line\":{\"colorbar\":{\"outlinewidth\":0,\"ticks\":\"\"}},\"type\":\"parcoords\"}],\"pie\":[{\"automargin\":true,\"type\":\"pie\"}],\"scatter3d\":[{\"line\":{\"colorbar\":{\"outlinewidth\":0,\"ticks\":\"\"}},\"marker\":{\"colorbar\":{\"outlinewidth\":0,\"ticks\":\"\"}},\"type\":\"scatter3d\"}],\"scattercarpet\":[{\"marker\":{\"colorbar\":{\"outlinewidth\":0,\"ticks\":\"\"}},\"type\":\"scattercarpet\"}],\"scattergeo\":[{\"marker\":{\"colorbar\":{\"outlinewidth\":0,\"ticks\":\"\"}},\"type\":\"scattergeo\"}],\"scattergl\":[{\"marker\":{\"line\":{\"color\":\"#283442\"}},\"type\":\"scattergl\"}],\"scattermapbox\":[{\"marker\":{\"colorbar\":{\"outlinewidth\":0,\"ticks\":\"\"}},\"type\":\"scattermapbox\"}],\"scatterpolargl\":[{\"marker\":{\"colorbar\":{\"outlinewidth\":0,\"ticks\":\"\"}},\"type\":\"scatterpolargl\"}],\"scatterpolar\":[{\"marker\":{\"colorbar\":{\"outlinewidth\":0,\"ticks\":\"\"}},\"type\":\"scatterpolar\"}],\"scatter\":[{\"marker\":{\"line\":{\"color\":\"#283442\"}},\"type\":\"scatter\"}],\"scatterternary\":[{\"marker\":{\"colorbar\":{\"outlinewidth\":0,\"ticks\":\"\"}},\"type\":\"scatterternary\"}],\"surface\":[{\"colorbar\":{\"outlinewidth\":0,\"ticks\":\"\"},\"colorscale\":[[0.0,\"#0d0887\"],[0.1111111111111111,\"#46039f\"],[0.2222222222222222,\"#7201a8\"],[0.3333333333333333,\"#9c179e\"],[0.4444444444444444,\"#bd3786\"],[0.5555555555555556,\"#d8576b\"],[0.6666666666666666,\"#ed7953\"],[0.7777777777777778,\"#fb9f3a\"],[0.8888888888888888,\"#fdca26\"],[1.0,\"#f0f921\"]],\"type\":\"surface\"}],\"table\":[{\"cells\":{\"fill\":{\"color\":\"#506784\"},\"line\":{\"color\":\"rgb(17,17,17)\"}},\"header\":{\"fill\":{\"color\":\"#2a3f5f\"},\"line\":{\"color\":\"rgb(17,17,17)\"}},\"type\":\"table\"}]},\"layout\":{\"annotationdefaults\":{\"arrowcolor\":\"#f2f5fa\",\"arrowhead\":0,\"arrowwidth\":1},\"autotypenumbers\":\"strict\",\"coloraxis\":{\"colorbar\":{\"outlinewidth\":0,\"ticks\":\"\"}},\"colorscale\":{\"diverging\":[[0,\"#8e0152\"],[0.1,\"#c51b7d\"],[0.2,\"#de77ae\"],[0.3,\"#f1b6da\"],[0.4,\"#fde0ef\"],[0.5,\"#f7f7f7\"],[0.6,\"#e6f5d0\"],[0.7,\"#b8e186\"],[0.8,\"#7fbc41\"],[0.9,\"#4d9221\"],[1,\"#276419\"]],\"sequential\":[[0.0,\"#0d0887\"],[0.1111111111111111,\"#46039f\"],[0.2222222222222222,\"#7201a8\"],[0.3333333333333333,\"#9c179e\"],[0.4444444444444444,\"#bd3786\"],[0.5555555555555556,\"#d8576b\"],[0.6666666666666666,\"#ed7953\"],[0.7777777777777778,\"#fb9f3a\"],[0.8888888888888888,\"#fdca26\"],[1.0,\"#f0f921\"]],\"sequentialminus\":[[0.0,\"#0d0887\"],[0.1111111111111111,\"#46039f\"],[0.2222222222222222,\"#7201a8\"],[0.3333333333333333,\"#9c179e\"],[0.4444444444444444,\"#bd3786\"],[0.5555555555555556,\"#d8576b\"],[0.6666666666666666,\"#ed7953\"],[0.7777777777777778,\"#fb9f3a\"],[0.8888888888888888,\"#fdca26\"],[1.0,\"#f0f921\"]]},\"colorway\":[\"#636efa\",\"#EF553B\",\"#00cc96\",\"#ab63fa\",\"#FFA15A\",\"#19d3f3\",\"#FF6692\",\"#B6E880\",\"#FF97FF\",\"#FECB52\"],\"font\":{\"color\":\"#f2f5fa\"},\"geo\":{\"bgcolor\":\"rgb(17,17,17)\",\"lakecolor\":\"rgb(17,17,17)\",\"landcolor\":\"rgb(17,17,17)\",\"showlakes\":true,\"showland\":true,\"subunitcolor\":\"#506784\"},\"hoverlabel\":{\"align\":\"left\"},\"hovermode\":\"closest\",\"mapbox\":{\"style\":\"dark\"},\"paper_bgcolor\":\"rgb(17,17,17)\",\"plot_bgcolor\":\"rgb(17,17,17)\",\"polar\":{\"angularaxis\":{\"gridcolor\":\"#506784\",\"linecolor\":\"#506784\",\"ticks\":\"\"},\"bgcolor\":\"rgb(17,17,17)\",\"radialaxis\":{\"gridcolor\":\"#506784\",\"linecolor\":\"#506784\",\"ticks\":\"\"}},\"scene\":{\"xaxis\":{\"backgroundcolor\":\"rgb(17,17,17)\",\"gridcolor\":\"#506784\",\"gridwidth\":2,\"linecolor\":\"#506784\",\"showbackground\":true,\"ticks\":\"\",\"zerolinecolor\":\"#C8D4E3\"},\"yaxis\":{\"backgroundcolor\":\"rgb(17,17,17)\",\"gridcolor\":\"#506784\",\"gridwidth\":2,\"linecolor\":\"#506784\",\"showbackground\":true,\"ticks\":\"\",\"zerolinecolor\":\"#C8D4E3\"},\"zaxis\":{\"backgroundcolor\":\"rgb(17,17,17)\",\"gridcolor\":\"#506784\",\"gridwidth\":2,\"linecolor\":\"#506784\",\"showbackground\":true,\"ticks\":\"\",\"zerolinecolor\":\"#C8D4E3\"}},\"shapedefaults\":{\"line\":{\"color\":\"#f2f5fa\"}},\"sliderdefaults\":{\"bgcolor\":\"#C8D4E3\",\"bordercolor\":\"rgb(17,17,17)\",\"borderwidth\":1,\"tickwidth\":0},\"ternary\":{\"aaxis\":{\"gridcolor\":\"#506784\",\"linecolor\":\"#506784\",\"ticks\":\"\"},\"baxis\":{\"gridcolor\":\"#506784\",\"linecolor\":\"#506784\",\"ticks\":\"\"},\"bgcolor\":\"rgb(17,17,17)\",\"caxis\":{\"gridcolor\":\"#506784\",\"linecolor\":\"#506784\",\"ticks\":\"\"}},\"title\":{\"x\":0.05},\"updatemenudefaults\":{\"bgcolor\":\"#506784\",\"borderwidth\":0},\"xaxis\":{\"automargin\":true,\"gridcolor\":\"#283442\",\"linecolor\":\"#506784\",\"ticks\":\"\",\"title\":{\"standoff\":15},\"zerolinecolor\":\"#283442\",\"zerolinewidth\":2},\"yaxis\":{\"automargin\":true,\"gridcolor\":\"#283442\",\"linecolor\":\"#506784\",\"ticks\":\"\",\"title\":{\"standoff\":15},\"zerolinecolor\":\"#283442\",\"zerolinewidth\":2}}},\"xaxis\":{\"anchor\":\"y\",\"domain\":[0.0,1.0],\"title\":{\"text\":\"Jugador\"},\"categoryorder\":\"array\",\"categoryarray\":[\"legado-de-morphy\",\"acido_magico\",\"Vencedor96\",\"jonathan_jaet\",\"euphyllophyta\",\"DiegoRomero3\",\"SSJGSSJ\",\"Isaac_27\",\"Lord_Vygotsky_01\",\"omarbautista17\"]},\"yaxis\":{\"anchor\":\"x\",\"domain\":[0.0,1.0],\"title\":{\"text\":\"Cuenta\"}},\"legend\":{\"title\":{\"text\":\"Jugador\"},\"tracegroupgap\":0},\"margin\":{\"t\":60},\"barmode\":\"relative\",\"showlegend\":false},                        {\"responsive\": true}                    ).then(function(){\n",
       "                            \n",
       "var gd = document.getElementById('7e27548d-510d-4330-8c4f-788d83816f8d');\n",
       "var x = new MutationObserver(function (mutations, observer) {{\n",
       "        var display = window.getComputedStyle(gd).display;\n",
       "        if (!display || display === 'none') {{\n",
       "            console.log([gd, 'removed!']);\n",
       "            Plotly.purge(gd);\n",
       "            observer.disconnect();\n",
       "        }}\n",
       "}});\n",
       "\n",
       "// Listen for the removal of the full notebook cells\n",
       "var notebookContainer = gd.closest('#notebook-container');\n",
       "if (notebookContainer) {{\n",
       "    x.observe(notebookContainer, {childList: true});\n",
       "}}\n",
       "\n",
       "// Listen for the clearing of the current output cell\n",
       "var outputEl = gd.closest('.output');\n",
       "if (outputEl) {{\n",
       "    x.observe(outputEl, {childList: true});\n",
       "}}\n",
       "\n",
       "                        })                };                });            </script>        </div>"
      ]
     },
     "metadata": {},
     "output_type": "display_data"
    }
   ],
   "source": [
    "# DataFrame para realizar gráfico\n",
    "peores_derrotas_df = pd.DataFrame({'Jugador':resultados_inferiores.keys(),\n",
    "                                   'Cuenta':resultados_inferiores.values()})\n",
    "\n",
    "# gráfica\n",
    "fig = px.bar(peores_derrotas_df.sort_values('Cuenta', ascending=False).iloc[:10, :], x='Jugador', y='Cuenta', color='Jugador', opacity=0.6)\n",
    "fig.update_layout(\n",
    "    showlegend=False,\n",
    "    template='plotly_dark'\n",
    "    )\n",
    "fig.show()"
   ]
  },
  {
   "cell_type": "markdown",
   "metadata": {},
   "source": [
    "![img4](./imgs/unknown2.png)"
   ]
  }
 ],
 "metadata": {
  "interpreter": {
   "hash": "5070f4822a1350d3d9c9c08c4ce2388787714cbeb31252dd6127ff0e531e352e"
  },
  "kernelspec": {
   "display_name": "Python 3.10.4 64-bit",
   "language": "python",
   "name": "python3"
  },
  "language_info": {
   "codemirror_mode": {
    "name": "ipython",
    "version": 3
   },
   "file_extension": ".py",
   "mimetype": "text/x-python",
   "name": "python",
   "nbconvert_exporter": "python",
   "pygments_lexer": "ipython3",
   "version": "3.10.4"
  },
  "orig_nbformat": 4
 },
 "nbformat": 4,
 "nbformat_minor": 2
}
