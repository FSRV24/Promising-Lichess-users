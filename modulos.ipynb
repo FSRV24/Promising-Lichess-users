{
 "cells": [
  {
   "cell_type": "code",
   "execution_count": 1,
   "metadata": {},
   "outputs": [],
   "source": [
    "import json\n",
    "import time\n",
    "import random\n",
    "import pymongo\n",
    "import requests\n",
    "import numpy as np\n",
    "import pandas as pd\n",
    "import plotly.io as pio\n",
    "import plotly.express as px\n",
    "import plotly.graph_objects as go\n",
    "import matplotlib.pyplot as plt\n",
    "\n",
    "from math import ceil\n",
    "from tqdm import tqdm_notebook\n",
    "from pandas import json_normalize\n",
    "\n",
    "pio.renderers.default = \"notebook\"\n",
    "plt.style.use('dark_background')\n",
    "personal_access_token = 'lip_wpDHoMa8hoRe6mPSf1Zc'"
   ]
  }
 ],
 "metadata": {
  "interpreter": {
   "hash": "5070f4822a1350d3d9c9c08c4ce2388787714cbeb31252dd6127ff0e531e352e"
  },
  "kernelspec": {
   "display_name": "Python 3.10.4 64-bit",
   "language": "python",
   "name": "python3"
  },
  "language_info": {
   "codemirror_mode": {
    "name": "ipython",
    "version": 3
   },
   "file_extension": ".py",
   "mimetype": "text/x-python",
   "name": "python",
   "nbconvert_exporter": "python",
   "pygments_lexer": "ipython3",
   "version": "3.10.4"
  },
  "orig_nbformat": 4
 },
 "nbformat": 4,
 "nbformat_minor": 2
}
