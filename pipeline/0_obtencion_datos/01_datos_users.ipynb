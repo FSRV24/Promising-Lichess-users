{
 "cells": [
  {
   "cell_type": "code",
   "execution_count": 2,
   "metadata": {},
   "outputs": [],
   "source": [
    "%run ../../modulos.ipynb"
   ]
  },
  {
   "cell_type": "markdown",
   "metadata": {},
   "source": [
    "# Obtener datos usuarios\n",
    "\n"
   ]
  },
  {
   "cell_type": "code",
   "execution_count": null,
   "metadata": {},
   "outputs": [],
   "source": [
    "def request_github(url,personal_access=personal_access_token):\n",
    "    headers = {\"Authorization\": f\"Bearer {personal_access}\"}\n",
    "\n",
    "    res=requests.get(url,headers=headers)\n",
    "    return res.json()"
   ]
  },
  {
   "cell_type": "code",
   "execution_count": 25,
   "metadata": {},
   "outputs": [],
   "source": [
    "def obtener_data_lichess(url):    \n",
    "    headers = {\"Authorization\": f\"Bearer {personal_access_token}\"}    \n",
    "    response = requests.get(url, headers=headers)    \n",
    "    return response\n",
    "\n",
    "def obtener_equipos_populares(url):    \n",
    "    data = obtener_data_lichess(url)\n",
    "    return data"
   ]
  },
  {
   "cell_type": "code",
   "execution_count": 26,
   "metadata": {},
   "outputs": [],
   "source": [
    "grupos_unam_url = 'https://lichess.org/api/team/search?text=UNAM'\n",
    "data = obtener_equipos_populares(grupos_unam_url).json()"
   ]
  },
  {
   "cell_type": "code",
   "execution_count": 31,
   "metadata": {},
   "outputs": [],
   "source": [
    "club_prometeo = data['currentPageResults'][4]"
   ]
  },
  {
   "cell_type": "code",
   "execution_count": 33,
   "metadata": {},
   "outputs": [],
   "source": [
    "id_club_prome = club_prometeo['id']"
   ]
  },
  {
   "cell_type": "code",
   "execution_count": 35,
   "metadata": {},
   "outputs": [
    {
     "data": {
      "text/plain": [
       "'club-prometeo'"
      ]
     },
     "execution_count": 35,
     "metadata": {},
     "output_type": "execute_result"
    }
   ],
   "source": [
    "id_club_prome"
   ]
  },
  {
   "cell_type": "code",
   "execution_count": 34,
   "metadata": {},
   "outputs": [
    {
     "data": {
      "text/plain": [
       "<Response [401]>"
      ]
     },
     "execution_count": 34,
     "metadata": {},
     "output_type": "execute_result"
    }
   ],
   "source": [
    "\n",
    "obtener_data_lichess(f'https://lichess.org/api/team/{id_club_prome}/users')"
   ]
  },
  {
   "cell_type": "code",
   "execution_count": 38,
   "metadata": {},
   "outputs": [],
   "source": [
    "data = requests.get('https://lichess.org/api/team/club-prometeo/users')"
   ]
  },
  {
   "cell_type": "markdown",
   "metadata": {},
   "source": [
    "## Obtención de usuarios"
   ]
  },
  {
   "cell_type": "code",
   "execution_count": 91,
   "metadata": {},
   "outputs": [],
   "source": [
    "usuario_raw = data.text.split('\\n')[:-1]\n",
    "list_usuarios = list(map(json.loads, usuario_raw))"
   ]
  },
  {
   "cell_type": "code",
   "execution_count": null,
   "metadata": {},
   "outputs": [],
   "source": [
    "# Guardarlo en mongo"
   ]
  },
  {
   "cell_type": "markdown",
   "metadata": {},
   "source": [
    "# Obtentencion de estadistica"
   ]
  },
  {
   "cell_type": "code",
   "execution_count": 107,
   "metadata": {},
   "outputs": [],
   "source": [
    "def obtener_estadisticas(usuario, perf=\"blitz\"):\n",
    "    data = requests.get(f'https://lichess.org/api/user/{usuario}/perf/{perf}')\n",
    "    return data.json()    "
   ]
  },
  {
   "cell_type": "code",
   "execution_count": 97,
   "metadata": {},
   "outputs": [],
   "source": [
    "# Consulta para el ide del usuario\n",
    "\n",
    "# Estadicar para partidas blitz\n",
    "username = list_usuarios[0]['username']\n",
    "perf = 'blitz'\n",
    "estadisticas1 = obtener_estadisticas(username, perf)"
   ]
  },
  {
   "cell_type": "code",
   "execution_count": 103,
   "metadata": {},
   "outputs": [],
   "source": [
    "oponentes_fuertes = estadisticas1['stat']['bestWins']['results'][:3]"
   ]
  },
  {
   "cell_type": "code",
   "execution_count": 104,
   "metadata": {},
   "outputs": [
    {
     "data": {
      "text/plain": [
       "[{'opInt': 1522,\n",
       "  'opId': {'id': 'medlar', 'name': 'Medlar', 'title': None},\n",
       "  'at': '2019-12-05T01:49:41.721Z',\n",
       "  'gameId': 'apBndn5q'},\n",
       " {'opInt': 1318,\n",
       "  'opId': {'id': 'fux58', 'name': 'FUX58', 'title': None},\n",
       "  'at': '2021-06-30T17:31:06.873Z',\n",
       "  'gameId': 'TG6sfQtF'},\n",
       " {'opInt': 1316,\n",
       "  'opId': {'id': 'vladgert', 'name': 'vladgert', 'title': None},\n",
       "  'at': '2021-03-10T17:30:21.030Z',\n",
       "  'gameId': '62F0itTM'}]"
      ]
     },
     "execution_count": 104,
     "metadata": {},
     "output_type": "execute_result"
    }
   ],
   "source": [
    "oponentes_fuertes"
   ]
  },
  {
   "cell_type": "code",
   "execution_count": 105,
   "metadata": {},
   "outputs": [
    {
     "data": {
      "text/plain": [
       "['medlar', 'fux58', 'vladgert']"
      ]
     },
     "execution_count": 105,
     "metadata": {},
     "output_type": "execute_result"
    }
   ],
   "source": [
    "ids_oponentes = [oponente['opId']['id'] for oponente in oponentes_fuertes]\n",
    "ids_oponentes\n",
    "obtener_estadisticas(ids_oponentes[2])"
   ]
  },
  {
   "cell_type": "code",
   "execution_count": null,
   "metadata": {},
   "outputs": [],
   "source": [
    "# Consulta para estadistica\n"
   ]
  },
  {
   "cell_type": "code",
   "execution_count": null,
   "metadata": {},
   "outputs": [],
   "source": [
    "Collection \n",
    "- usuarios > estadisticas "
   ]
  },
  {
   "cell_type": "code",
   "execution_count": null,
   "metadata": {},
   "outputs": [],
   "source": []
  },
  {
   "cell_type": "code",
   "execution_count": null,
   "metadata": {},
   "outputs": [],
   "source": []
  }
 ],
 "metadata": {
  "interpreter": {
   "hash": "5070f4822a1350d3d9c9c08c4ce2388787714cbeb31252dd6127ff0e531e352e"
  },
  "kernelspec": {
   "display_name": "Python 3.10.4 64-bit",
   "language": "python",
   "name": "python3"
  },
  "language_info": {
   "codemirror_mode": {
    "name": "ipython",
    "version": 3
   },
   "file_extension": ".py",
   "mimetype": "text/x-python",
   "name": "python",
   "nbconvert_exporter": "python",
   "pygments_lexer": "ipython3",
   "version": "3.10.0"
  },
  "orig_nbformat": 4
 },
 "nbformat": 4,
 "nbformat_minor": 2
}
